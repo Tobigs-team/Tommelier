{
  "nbformat": 4,
  "nbformat_minor": 0,
  "metadata": {
    "colab": {
      "name": "wine_reco_coldstart.ipynb",
      "provenance": [],
      "collapsed_sections": [],
      "machine_shape": "hm"
    },
    "kernelspec": {
      "name": "python3",
      "display_name": "Python 3"
    },
    "accelerator": "GPU"
  },
  "cells": [
    {
      "cell_type": "code",
      "metadata": {
        "id": "3_AHIzCdsybI"
      },
      "source": [
        "import numpy as np\r\n",
        "import pandas as pd"
      ],
      "execution_count": null,
      "outputs": []
    },
    {
      "cell_type": "code",
      "metadata": {
        "id": "TrKWF41Xs4gq",
        "colab": {
          "base_uri": "https://localhost:8080/"
        },
        "outputId": "4aa017a3-db77-4fc3-e921-8b04da8bd3bf"
      },
      "source": [
        "from google.colab import drive\r\n",
        "drive.mount('/content/drive')"
      ],
      "execution_count": null,
      "outputs": [
        {
          "output_type": "stream",
          "text": [
            "Drive already mounted at /content/drive; to attempt to forcibly remount, call drive.mount(\"/content/drive\", force_remount=True).\n"
          ],
          "name": "stdout"
        }
      ]
    },
    {
      "cell_type": "code",
      "metadata": {
        "id": "90hZjoTqtvdS",
        "colab": {
          "base_uri": "https://localhost:8080/"
        },
        "outputId": "f88ddbcb-637d-4d2d-b3da-677246306708"
      },
      "source": [
        "df_wines = pd.read_json('/content/drive/MyDrive/tobigs14_conference/make_survey/Meta_with_cluster.json')\r\n",
        "\r\n",
        "food_list = [\r\n",
        "    'Poultry',  # 4 양계류\r\n",
        "    'Pork',  # -> 2,4 (바디감에 따라 높으면 4번, 낮으면 2번)\r\n",
        "    'Beef', # -> 2,4 (바디감 1번, 산미  4번) if 바디감도 높고 산미도 높다면?\r\n",
        "    'Lamb', # 4 양\r\n",
        "\r\n",
        "    'Rich fish (salmon, tuna etc)', # 생선 2\r\n",
        "    'Shellfish', # 생선 2\r\n",
        "    'Lean fish',  # 생선 -> 2,4 (바디감에 따라 높으면 4번, 낮으면 2번)\r\n",
        "\r\n",
        "    'Spicy food', # -> 4\r\n",
        "    'Pasta',  # -> 2,4 (바디감에 따라 높으면 4번, 낮으면 2번)\r\n",
        "    'Mushrooms', # -> 4\r\n",
        "    'Vegetarian', # -> 2\r\n",
        "\r\n",
        "    'Aperitif' # 식전주 -> 2번 클러스터\r\n",
        "    'Appetizers and snacks',  # 4번 클러스터\r\n",
        "\r\n",
        "    'Sweet desserts', # 달달한 디저트  -> 4 -> 7번 와인\r\n",
        "    'Fruity desserts', # 과일 디저트 -> 4 -> 7번 와인\r\n",
        "\r\n",
        "    'Mild and soft cheese', # -> 2\r\n",
        "    'Mature and hard cheese',#  -> 1\r\n",
        "    'Blue cheese', # -> 4\r\n",
        "]\r\n",
        "\r\n",
        "def get_recommendation(mood, food, sweet, tannin, body, acidity, df_wines=df_wines):\r\n",
        "    # inputs = [mood, ]\r\n",
        "    # mood (1~6), food ('Pork', 'Lamb' etc), sweet, tannin, body, acidity\r\n",
        "    if mood in [1, 2]:\r\n",
        "        if food in ['Poultry', 'Lamb']:\r\n",
        "            candidate = df_wines.loc[df_wines.cluster==1,:]\r\n",
        "\r\n",
        "        elif food in ['Pork', 'Lean fish', 'Pasta']:\r\n",
        "            if body > 3:\r\n",
        "                candidate = df_wines.loc[df_wines.cluster==4,:]\r\n",
        "            else:\r\n",
        "                candidate = df_wines.loc[df_wines.cluster==2,:]\r\n",
        "\r\n",
        "        elif food == 'Beef':\r\n",
        "            if body > acidity:\r\n",
        "                candidate = df_wines.loc[df_wines.cluster==1,:]\r\n",
        "            elif body < acidity:\r\n",
        "                candidate = df_wines.loc[df_wines.cluster==4,:]\r\n",
        "            else:\r\n",
        "                candidate = df_wines.loc[df_wines.cluster.isin([1,4]),:]\r\n",
        "        \r\n",
        "\r\n",
        "        elif food in ['Rich fish (salmon, tuna etc)', 'Shellfish', 'Vegetarian', 'Aperitif', 'Mild and soft cheese']:\r\n",
        "            candidate = df_wines.loc[df_wines.cluster==2,:]\r\n",
        "        \r\n",
        "        elif food in ['Spicy food', 'Mushrooms', 'Appetizers and snacks', 'Blue cheese']: \r\n",
        "            candidate = df_wines.loc[df_wines.cluster==4,:]\r\n",
        "\r\n",
        "        elif food in ['Sweet desserts', 'Fruity desserts']:\r\n",
        "            candidate = df_wines.loc[(df_wines.cluster==4) & (df_wines.type_id==7),:]\r\n",
        "\r\n",
        "        elif food == 'Mature and hard cheese':\r\n",
        "            candidate = df_wines.loc[df_wines.cluster==1,:]\r\n",
        "\r\n",
        "        candidate['taste_score'] = sweet*candidate.sweetness + tannin*candidate.tannin + body*candidate.body + acidity*candidate.acidity\r\n",
        "        candidate['taste_score'].fillna(candidate.taste_score.mean(), inplace=True)\r\n",
        "        candidate.food.fillna({i: [] for i in candidate.index}, inplace=True)\r\n",
        "        candidate.taste_score = candidate.taste_score + candidate.food.map(lambda foods:food in foods).astype(int) * 10\r\n",
        "        \r\n",
        "        candidate = candidate.sort_values(['taste_score'], ascending=False)[:30]\r\n",
        "        candidate = candidate.sort_values(['rating_average', 'review_count'], ascending=False)\r\n",
        "\r\n",
        "        wine_ids = list(candidate['wine_id'][:10])\r\n",
        "        return wine_ids\r\n",
        "    \r\n",
        "    else:\r\n",
        "        if mood == 3: #달콤한 분위기\r\n",
        "            if food in ['Beef', 'Lamb', 'Pasta', 'Poultry', 'Pork', 'Lean fish']:\r\n",
        "                candidate = df_wines.loc[df_wines.cluster==3,:]\r\n",
        "                candidate=candidate.loc[candidate.food.map(lambda foods : food in foods)]\r\n",
        "\r\n",
        "            else:\r\n",
        "                candidate = df_wines.loc[df_wines.cluster==3,:]\r\n",
        "\r\n",
        "        elif mood == 4: # 디저트\r\n",
        "            if food in 'Sweet desserts':\r\n",
        "                candidate = df_wines.loc[(df_wines.cluster==4) & (df_wines.type_id==7),:] \r\n",
        "                candidate=candidate.loc[candidate.food.map(lambda foods : 'Sweet desserts' in foods)]\r\n",
        "\r\n",
        "            elif food in 'Fruity desserts':\r\n",
        "                candidate = df_wines.loc[(df_wines.cluster==4) & (df_wines.type_id==7),:] \r\n",
        "                candidate=candidate.loc[candidate.food.map(lambda foods : 'Fruity desserts' in foods)]\r\n",
        "                        \r\n",
        "            else:\r\n",
        "                candidate = df_wines.loc[df_wines.cluster==4,:]\r\n",
        "        \r\n",
        "        elif mood == 5: # 파티용\r\n",
        "            candidate = df_wines.loc[(df_wines.cluster==2) & (df_wines.type_id==3),:] \r\n",
        "            food_includes = candidate.food.map(lambda foods : food in foods)\r\n",
        "            if food_includes.sum() > 10:\r\n",
        "                candidate=candidate.loc[food_includes]\r\n",
        "\r\n",
        "        elif mood == 6:\r\n",
        "            if food in ['Beef', 'Pork', 'Lamb', 'Poultry', 'Rich fish (salmon, tuna etc)', 'Shellfish' 'Spicy food', 'Vegetarian', 'Sweet desserts', 'Mild and soft cheese', 'Mature and hard cheese', 'Blue cheese']:\r\n",
        "                candidate = df_wines.loc[(df_wines.cluster==4) & (df_wines.type_id==24),:]\r\n",
        "            else:\r\n",
        "                candidate = df_wines.loc[df_wines.type_id==24,:]\r\n",
        "            \r\n",
        "        \r\n",
        "        candidate['taste_score'] = sweet*candidate.sweetness + tannin*candidate.tannin + body*candidate.body + acidity*candidate.acidity\r\n",
        "        candidate['taste_score'].fillna(candidate.taste_score.mean(), inplace=True)\r\n",
        "        candidate.food.fillna({i: [] for i in candidate.index}, inplace=True)\r\n",
        "        candidate.taste_score = candidate.taste_score + candidate.food.map(lambda foods:food in foods).astype(int) * 5\r\n",
        "        \r\n",
        "        candidate = candidate.sort_values(['taste_score'], ascending=False)[:30]\r\n",
        "        candidate = candidate.sort_values(['rating_average', 'review_count'], ascending=False)\r\n",
        "\r\n",
        "        wine_ids = list(candidate['wine_id'][:10])\r\n",
        "        return wine_ids\r\n",
        "    \r\n",
        "result = get_recommendation(1, 'Pork', 3, 2, 3, 5)"
      ],
      "execution_count": null,
      "outputs": [
        {
          "output_type": "stream",
          "text": [
            "/usr/local/lib/python3.6/dist-packages/ipykernel_launcher.py:64: SettingWithCopyWarning: \n",
            "A value is trying to be set on a copy of a slice from a DataFrame.\n",
            "Try using .loc[row_indexer,col_indexer] = value instead\n",
            "\n",
            "See the caveats in the documentation: https://pandas.pydata.org/pandas-docs/stable/user_guide/indexing.html#returning-a-view-versus-a-copy\n",
            "/usr/local/lib/python3.6/dist-packages/pandas/core/series.py:4536: SettingWithCopyWarning: \n",
            "A value is trying to be set on a copy of a slice from a DataFrame\n",
            "\n",
            "See the caveats in the documentation: https://pandas.pydata.org/pandas-docs/stable/user_guide/indexing.html#returning-a-view-versus-a-copy\n",
            "  downcast=downcast,\n",
            "/usr/local/lib/python3.6/dist-packages/pandas/core/generic.py:5170: SettingWithCopyWarning: \n",
            "A value is trying to be set on a copy of a slice from a DataFrame.\n",
            "Try using .loc[row_indexer,col_indexer] = value instead\n",
            "\n",
            "See the caveats in the documentation: https://pandas.pydata.org/pandas-docs/stable/user_guide/indexing.html#returning-a-view-versus-a-copy\n",
            "  self[name] = value\n"
          ],
          "name": "stderr"
        }
      ]
    }
  ]
}