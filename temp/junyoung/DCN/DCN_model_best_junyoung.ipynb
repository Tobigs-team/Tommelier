{
  "nbformat": 4,
  "nbformat_minor": 0,
  "metadata": {
    "colab": {
      "name": "DCN_used_like_reduce_feature_final.ipynb",
      "provenance": [],
      "collapsed_sections": [
        "PFtCp4qmIavM"
      ],
      "toc_visible": true,
      "machine_shape": "hm"
    },
    "kernelspec": {
      "name": "python3",
      "display_name": "Python 3"
    },
    "accelerator": "GPU"
  },
  "cells": [
    {
      "cell_type": "markdown",
      "metadata": {
        "id": "PFtCp4qmIavM"
      },
      "source": [
        "# DCN\r\n"
      ]
    },
    {
      "cell_type": "markdown",
      "metadata": {
        "id": "iLwQzeStIhB0"
      },
      "source": [
        "# 1. Install & Import Packages"
      ]
    },
    {
      "cell_type": "code",
      "metadata": {
        "colab": {
          "base_uri": "https://localhost:8080/"
        },
        "id": "Hldb2fdpTmCr",
        "outputId": "31733617-d18f-4a5e-93b7-30792f5db254"
      },
      "source": [
        "from google.colab import drive\n",
        "drive.mount('/content/drive')"
      ],
      "execution_count": 1,
      "outputs": [
        {
          "output_type": "stream",
          "text": [
            "Mounted at /content/drive\n"
          ],
          "name": "stdout"
        }
      ]
    },
    {
      "cell_type": "code",
      "metadata": {
        "id": "Jk59gAgkHO1G",
        "colab": {
          "base_uri": "https://localhost:8080/"
        },
        "outputId": "b7426e21-d423-4019-b716-9f38e0b2fadf"
      },
      "source": [
        "!pip install -q tensorflow-recommenders\r\n",
        "!pip install -q --upgrade tensorflow-datasets"
      ],
      "execution_count": 2,
      "outputs": [
        {
          "output_type": "stream",
          "text": [
            "\u001b[K     |████████████████████████████████| 51kB 2.8MB/s \n",
            "\u001b[K     |████████████████████████████████| 3.7MB 4.0MB/s \n",
            "\u001b[?25h"
          ],
          "name": "stdout"
        }
      ]
    },
    {
      "cell_type": "code",
      "metadata": {
        "id": "u-ikzzWAGu2b"
      },
      "source": [
        "\r\n",
        "import os\r\n",
        "import pandas as pd\r\n",
        "\r\n",
        "import tensorflow as tf\r\n",
        "\r\n",
        "import numpy as np\r\n",
        "import matplotlib.pyplot as plt\r\n",
        "\r\n",
        "import pprint\r\n",
        "\r\n",
        "%matplotlib inline\r\n",
        "import matplotlib.pyplot as plt\r\n",
        "from mpl_toolkits.axes_grid1 import make_axes_locatable\r\n",
        "\r\n",
        "import tensorflow as tf\r\n",
        "import tensorflow_recommenders as tfrs\r\n",
        "\r\n",
        "from tensorflow.keras.losses import binary_crossentropy\r\n",
        "from tensorflow.keras import backend as K\r\n",
        "from tensorflow.keras.layers import Lambda, Input, Dense, Dropout\r\n",
        "from tensorflow.keras.models import Model\r\n",
        "from tensorflow.keras.callbacks import LambdaCallback, EarlyStopping, Callback\r\n",
        "from tensorflow.keras.utils import plot_model\r\n",
        "import glob"
      ],
      "execution_count": 3,
      "outputs": []
    },
    {
      "cell_type": "markdown",
      "metadata": {
        "id": "XxVedkaONBo8"
      },
      "source": [
        "# 2. Preprocess"
      ]
    },
    {
      "cell_type": "code",
      "metadata": {
        "id": "6K2b8kxCNAEx"
      },
      "source": [
        "train = pd.read_json('/content/drive/MyDrive/tobigs14_conference/data/v_2/wine_meta/train_all_meta_v2.json')\r\n",
        "test = pd.read_json('/content/drive/MyDrive/tobigs14_conference/data/v_2/wine_meta/test_all_meta_v2.json')"
      ],
      "execution_count": 4,
      "outputs": []
    },
    {
      "cell_type": "code",
      "metadata": {
        "id": "f8ocyIGpNodJ"
      },
      "source": [
        "train = train.reset_index(drop=True)\r\n",
        "test = test.reset_index(drop=True)"
      ],
      "execution_count": 5,
      "outputs": []
    },
    {
      "cell_type": "code",
      "metadata": {
        "id": "dISQ8FbEzKAC"
      },
      "source": [
        "train.country_code= train.country_code.fillna('un')\r\n",
        "train.winery_id= train.winery_id.fillna('un')"
      ],
      "execution_count": 7,
      "outputs": []
    },
    {
      "cell_type": "code",
      "metadata": {
        "id": "N9L0LLXC0KS0"
      },
      "source": [
        "train['grapes_id_unique'] = train.grapes_id.map(lambda x: x[0] if x else 0)"
      ],
      "execution_count": 8,
      "outputs": []
    },
    {
      "cell_type": "code",
      "metadata": {
        "id": "XIegKlHG0k7l"
      },
      "source": [
        "train = train[~train.food.isna()].reset_index(drop=True)"
      ],
      "execution_count": 9,
      "outputs": []
    },
    {
      "cell_type": "code",
      "metadata": {
        "id": "mnfj8Qjd1RDm"
      },
      "source": [
        "train=train.drop(train[train['rank'].isna()].index)"
      ],
      "execution_count": 10,
      "outputs": []
    },
    {
      "cell_type": "code",
      "metadata": {
        "id": "wyErVuIquycA"
      },
      "source": [
        "train=train[~train.type_id.isna()]\r\n",
        "train=train[~train.type_id.isna()]"
      ],
      "execution_count": 11,
      "outputs": []
    },
    {
      "cell_type": "code",
      "metadata": {
        "id": "QuuMFYoRwgxk"
      },
      "source": [
        "train=train.drop(train[train['type_id']==25].index)"
      ],
      "execution_count": 12,
      "outputs": []
    },
    {
      "cell_type": "code",
      "metadata": {
        "id": "SBgaP_wMrkTU"
      },
      "source": [
        "train = train[~train.body.isna()].reset_index(drop=True)\r\n",
        "train = train[~train.winery_id.isna()].reset_index(drop=True)\r\n",
        "train = train[~train.region_id.isna()].reset_index(drop=True)"
      ],
      "execution_count": 13,
      "outputs": []
    },
    {
      "cell_type": "markdown",
      "metadata": {
        "id": "3GHFDaWIsecr"
      },
      "source": [
        "float 형태 데이터: rating_per_user, rating_average, winery_ratings_average, <br>\r\n",
        "grapes_id랑 같은 형태: country_most_used_grapes_wine_count, "
      ]
    },
    {
      "cell_type": "code",
      "metadata": {
        "id": "rOf_FGmjLXH4"
      },
      "source": [
        "INT_FEATURES = [\"type_id\", \"body\", \"acidity\", \"like\", 'user_like_count', 'rating_count', 'alcohol']\r\n",
        "\r\n",
        "for int_feature in INT_FEATURES:\r\n",
        "  train[int_feature] = train[int_feature].astype(int)\r\n",
        "\r\n",
        "train.country_code= train.country_code.fillna('un')"
      ],
      "execution_count": 14,
      "outputs": []
    },
    {
      "cell_type": "code",
      "metadata": {
        "id": "aLpTU_nmLsat"
      },
      "source": [
        "train['grapes_id_unique'] = train.grapes_id.map(lambda x: x[0] if x else 0)"
      ],
      "execution_count": 15,
      "outputs": []
    },
    {
      "cell_type": "markdown",
      "metadata": {
        "id": "E02Oo8HFN_Xw"
      },
      "source": [
        "# test data 생성"
      ]
    },
    {
      "cell_type": "code",
      "metadata": {
        "id": "bh9lSiyogZZP"
      },
      "source": [
        "test = test[~test.body.isna()].reset_index(drop=True)\r\n",
        "test = test[~test.winery_id.isna()].reset_index(drop=True)\r\n",
        "test = test[~test.region_id.isna()].reset_index(drop=True)"
      ],
      "execution_count": 16,
      "outputs": []
    },
    {
      "cell_type": "code",
      "metadata": {
        "id": "yKsHmN5yRbRZ"
      },
      "source": [
        "INT_FEATURES = [\"type_id\", \"body\", \"acidity\", \"like\", 'user_like_count', 'rating_count', 'alcohol']\r\n",
        "\r\n",
        "\r\n",
        "for int_feature in INT_FEATURES:\r\n",
        "  test[int_feature] = test[int_feature].astype(int)\r\n",
        "\r\n",
        "test.country_code= test.country_code.fillna('un')\r\n",
        "test['grapes_id_unique'] = test.grapes_id.map(lambda x: x[0] if x else 0)"
      ],
      "execution_count": 17,
      "outputs": []
    },
    {
      "cell_type": "markdown",
      "metadata": {
        "id": "0QkwkEDw0L9c"
      },
      "source": [
        "- int: type_id, body, acidity, like, user_like_count, alcohol, grapes_id, winery_id\r\n",
        "- str: UserID, wine_id, country_code, "
      ]
    },
    {
      "cell_type": "markdown",
      "metadata": {
        "id": "eIsxP-eb-KsI"
      },
      "source": [
        "# dic type변경"
      ]
    },
    {
      "cell_type": "code",
      "metadata": {
        "id": "T4D8Tb32gvhy"
      },
      "source": [
        "INT_FEATURES = [\"type_id\", \"body\", \"acidity\", \"like\", 'user_like_count', 'rating_count', 'alcohol']"
      ],
      "execution_count": 18,
      "outputs": []
    },
    {
      "cell_type": "code",
      "metadata": {
        "id": "sXlPzSzKz78v"
      },
      "source": [
        "str_features = [\"userID\", \"country_code\", 'wine_id']\r\n",
        "int_features = [\"type_id\", \"body\", \"acidity\", \"like\", 'user_like_count', 'rating_count', 'alcohol', 'grapes_id_unique']"
      ],
      "execution_count": 19,
      "outputs": []
    },
    {
      "cell_type": "code",
      "metadata": {
        "id": "FIHVsLDOz71D"
      },
      "source": [
        "train_str_dict = {\r\n",
        "    str_feature: [str(val).encode() for val in train[str_feature].values]\r\n",
        "    for str_feature in str_features\r\n",
        "}\r\n",
        "\r\n",
        "train_int_dict = {\r\n",
        "    int_feature: train[int_feature].values\r\n",
        "    for int_feature in int_features\r\n",
        "}"
      ],
      "execution_count": 20,
      "outputs": []
    },
    {
      "cell_type": "code",
      "metadata": {
        "id": "qohUJ8wv0kRm",
        "colab": {
          "base_uri": "https://localhost:8080/"
        },
        "outputId": "c8d31aae-b8b1-4cc5-bc33-77fa2f80a264"
      },
      "source": [
        "train_str_dict.update(train_int_dict)\r\n",
        "train_str_dict.keys()"
      ],
      "execution_count": 21,
      "outputs": [
        {
          "output_type": "execute_result",
          "data": {
            "text/plain": [
              "dict_keys(['userID', 'country_code', 'wine_id', 'type_id', 'body', 'acidity', 'like', 'user_like_count', 'rating_count', 'alcohol', 'grapes_id_unique'])"
            ]
          },
          "metadata": {
            "tags": []
          },
          "execution_count": 21
        }
      ]
    },
    {
      "cell_type": "code",
      "metadata": {
        "id": "gpDn3xnJz7rM",
        "colab": {
          "base_uri": "https://localhost:8080/"
        },
        "outputId": "e670b41e-eada-443d-bd99-44548d68cc68"
      },
      "source": [
        "test_str_dict = {\r\n",
        "    str_feature: [str(val).encode() for val in test[str_feature].values]\r\n",
        "    for str_feature in str_features\r\n",
        "}\r\n",
        "\r\n",
        "test_int_dict = {\r\n",
        "    int_feature: test[int_feature].values\r\n",
        "    for int_feature in int_features\r\n",
        "}\r\n",
        "\r\n",
        "test_str_dict.update(test_int_dict)\r\n",
        "test_str_dict.keys()"
      ],
      "execution_count": 22,
      "outputs": [
        {
          "output_type": "execute_result",
          "data": {
            "text/plain": [
              "dict_keys(['userID', 'country_code', 'wine_id', 'type_id', 'body', 'acidity', 'like', 'user_like_count', 'rating_count', 'alcohol', 'grapes_id_unique'])"
            ]
          },
          "metadata": {
            "tags": []
          },
          "execution_count": 22
        }
      ]
    },
    {
      "cell_type": "code",
      "metadata": {
        "id": "rf-WuXKw0_fZ"
      },
      "source": [
        "train = tf.data.Dataset.from_tensor_slices(train_str_dict)\r\n",
        "test = tf.data.Dataset.from_tensor_slices(test_str_dict)"
      ],
      "execution_count": 23,
      "outputs": []
    },
    {
      "cell_type": "code",
      "metadata": {
        "id": "srUEH-U31XvP"
      },
      "source": [
        "# tf.keras.layers.experimental.preprocessing.\r\n",
        "feature_names = [\"userID\", \"country_code\", 'grapes_id_unique', \"type_id\", \"body\", \"acidity\", \"like\", 'user_like_count', 'rating_count', 'alcohol', 'wine_id']"
      ],
      "execution_count": 25,
      "outputs": []
    },
    {
      "cell_type": "code",
      "metadata": {
        "id": "4M3RhFA81Joo"
      },
      "source": [
        "vocabularies = {}\r\n",
        "\r\n",
        "for feature_name in feature_names:\r\n",
        "  vocab = train.batch(1_000_000).map(lambda x: x[feature_name])\r\n",
        "  vocabularies[feature_name] = np.unique(np.concatenate(list(vocab)))"
      ],
      "execution_count": 26,
      "outputs": []
    },
    {
      "cell_type": "code",
      "metadata": {
        "id": "CVarVb_wlwHa",
        "colab": {
          "base_uri": "https://localhost:8080/"
        },
        "outputId": "2866ebd5-e066-4982-ff4c-f090798e12a6"
      },
      "source": [
        "vocabularies"
      ],
      "execution_count": 27,
      "outputs": [
        {
          "output_type": "execute_result",
          "data": {
            "text/plain": [
              "{'acidity': array([1, 2, 3]),\n",
              " 'alcohol': array([  0,   3,   4,   5,   6,   7,   8,   9,  10,  11,  12,  13,  14,\n",
              "         15,  16,  17,  18,  19,  20,  21,  80, 112, 114, 135]),\n",
              " 'body': array([1, 2, 3, 4, 5]),\n",
              " 'country_code': array([b'ar', b'at', b'au', b'br', b'ca', b'ch', b'cl', b'de', b'es',\n",
              "        b'fr', b'gb', b'gr', b'hu', b'il', b'it', b'jp', b'lu', b'mx',\n",
              "        b'nz', b'pt', b'ru', b'us', b'uy', b'za'], dtype=object),\n",
              " 'grapes_id_unique': array([   0,    1,    2,    3,    5,    6,    7,    8,    9,   10,   11,\n",
              "          12,   13,   14,   15,   16,   17,   18,   19,   20,   21,   22,\n",
              "          23,   24,   25,   29,   31,   32,   33,   34,   35,   36,   37,\n",
              "          38,   39,   40,   41,   42,   43,   44,   45,   46,   47,   48,\n",
              "          49,   50,   51,   52,   53,   54,   55,   56,   57,   58,   59,\n",
              "          62,   63,   64,   67,   68,   69,   70,   71,   74,   75,   76,\n",
              "          77,   78,   80,   81,   82,   83,   85,   86,   88,   89,   91,\n",
              "          92,   93,   94,   96,   97,   98,  100,  101,  102,  103,  104,\n",
              "         105,  106,  108,  109,  110,  111,  112,  114,  115,  116,  118,\n",
              "         119,  120,  122,  123,  124,  127,  128,  129,  130,  131,  132,\n",
              "         135,  136,  137,  138,  142,  144,  145,  147,  148,  149,  150,\n",
              "         151,  156,  157,  158,  159,  161,  162,  165,  166,  167,  168,\n",
              "         169,  170,  171,  172,  173,  174,  175,  176,  177,  178,  179,\n",
              "         180,  184,  190,  191,  192,  196,  197,  198,  199,  200,  202,\n",
              "         204,  206,  209,  210,  215,  216,  219,  221,  222,  224,  225,\n",
              "         226,  228,  231,  232,  233,  235,  239,  241,  242,  243,  245,\n",
              "         246,  251,  252,  254,  255,  257,  259,  260,  261,  262,  264,\n",
              "         265,  267,  268,  270,  271,  273,  274,  275,  280,  282,  283,\n",
              "         284,  286,  289,  291,  292,  293,  294,  295,  299,  300,  302,\n",
              "         304,  308,  309,  310,  311,  312,  314,  316,  317,  318,  320,\n",
              "         321,  325,  334,  335,  336,  337,  339,  341,  343,  348,  349,\n",
              "         353,  354,  355,  363,  365,  366,  367,  368,  370,  374,  377,\n",
              "         382,  383,  385,  386,  387,  388,  389,  390,  454,  464,  474,\n",
              "         504,  514,  524,  534,  545,  546,  547,  548,  550,  553,  557,\n",
              "         562,  565,  566,  567,  572,  573,  576,  577,  579,  580,  583,\n",
              "         584,  585,  586,  589,  594,  597,  601,  608,  614,  617,  628,\n",
              "         630,  633,  634,  635,  642,  643,  653,  661,  662,  664,  669,\n",
              "         671,  673,  674,  675,  677,  678,  698,  702,  714,  725,  732,\n",
              "         750,  760,  780,  785,  839,  847,  852,  883,  887,  927,  938,\n",
              "         947,  951,  957,  966,  973,  975,  978, 1005, 1006, 1011, 1019,\n",
              "        1030, 1032, 1033, 1034, 1044, 1072, 1074, 1098, 1116, 1121, 1156,\n",
              "        1175, 1176, 1178, 1185, 1222, 1232, 1262, 1265, 1266, 1281, 1282,\n",
              "        1285, 1291, 1320, 1333, 1336, 1353, 1364, 1374, 1394, 1427, 1495,\n",
              "        1519, 1529, 1536, 1543, 1544, 1551, 1555, 1587, 1589, 1594, 1595,\n",
              "        1596, 1602, 1632, 1639, 1645, 1665, 1670, 1672, 1675, 1677, 1678,\n",
              "        1680, 1687, 1688, 1697, 1710, 1715, 1716, 1718, 1719, 1721, 1730,\n",
              "        1733, 1739]),\n",
              " 'like': array([0, 1]),\n",
              " 'rating_count': array([    10,     11,     12, ..., 122634, 123375, 148911]),\n",
              " 'type_id': array([ 1,  2,  3,  4,  7, 24]),\n",
              " 'userID': array([b'10001895', b'10003665', b'10006310', ..., b'9990646', b'9993784',\n",
              "        b'9993829'], dtype=object),\n",
              " 'user_like_count': array([   0,    1,    2,    3,    4,    5,    6,    7,    8,    9,   10,\n",
              "          11,   12,   13,   14,   15,   16,   17,   18,   19,   20,   21,\n",
              "          22,   23,   24,   25,   26,   27,   28,   29,   30,   31,   32,\n",
              "          33,   34,   35,   36,   37,   38,   39,   40,   41,   42,   43,\n",
              "          44,   45,   46,   47,   48,   49,   50,   51,   52,   53,   54,\n",
              "          55,   56,   57,   58,   59,   60,   61,   62,   63,   64,   65,\n",
              "          66,   67,   68,   69,   70,   71,   72,   73,   74,   75,   76,\n",
              "          77,   78,   79,   80,   81,   82,   83,   84,   85,   86,   87,\n",
              "          88,   89,   90,   91,   92,   93,   94,   95,   96,   97,   98,\n",
              "          99,  100,  101,  102,  103,  104,  105,  106,  107,  108,  109,\n",
              "         110,  111,  112,  113,  114,  115,  116,  117,  118,  119,  120,\n",
              "         121,  122,  123,  124,  125,  126,  127,  128,  129,  130,  131,\n",
              "         132,  133,  134,  135,  136,  137,  138,  139,  140,  141,  142,\n",
              "         143,  144,  145,  146,  147,  148,  149,  150,  151,  152,  153,\n",
              "         154,  155,  156,  157,  158,  159,  160,  161,  162,  163,  164,\n",
              "         165,  166,  167,  168,  169,  170,  171,  172,  173,  174,  175,\n",
              "         176,  177,  178,  179,  180,  181,  182,  183,  184,  185,  186,\n",
              "         187,  188,  189,  190,  191,  192,  193,  194,  195,  196,  197,\n",
              "         198,  199,  200,  201,  202,  203,  204,  205,  206,  207,  208,\n",
              "         209,  210,  211,  212,  213,  214,  215,  216,  217,  218,  219,\n",
              "         220,  221,  222,  223,  224,  225,  226,  227,  228,  229,  230,\n",
              "         231,  232,  233,  234,  235,  236,  237,  238,  239,  240,  241,\n",
              "         242,  243,  244,  245,  246,  247,  248,  249,  250,  251,  252,\n",
              "         253,  254,  255,  256,  257,  258,  259,  260,  261,  262,  263,\n",
              "         264,  265,  266,  267,  268,  269,  270,  271,  272,  273,  274,\n",
              "         275,  276,  277,  278,  279,  280,  281,  282,  283,  284,  285,\n",
              "         286,  287,  288,  289,  290,  291,  292,  293,  294,  295,  296,\n",
              "         297,  298,  299,  300,  301,  302,  303,  304,  305,  306,  307,\n",
              "         309,  310,  311,  312,  313,  314,  315,  316,  317,  318,  319,\n",
              "         320,  321,  322,  323,  324,  325,  326,  327,  328,  329,  330,\n",
              "         332,  333,  334,  335,  336,  338,  339,  340,  341,  342,  343,\n",
              "         345,  346,  347,  348,  350,  351,  352,  353,  354,  355,  356,\n",
              "         357,  358,  359,  360,  362,  365,  366,  367,  368,  369,  370,\n",
              "         371,  372,  373,  375,  378,  379,  382,  384,  386,  388,  389,\n",
              "         390,  391,  395,  396,  397,  399,  400,  402,  404,  405,  406,\n",
              "         407,  408,  409,  411,  412,  416,  417,  418,  419,  421,  424,\n",
              "         425,  427,  428,  429,  430,  432,  434,  436,  444,  445,  451,\n",
              "         453,  458,  459,  466,  470,  475,  476,  477,  480,  481,  489,\n",
              "         491,  496,  500,  502,  504,  513,  514,  520,  528,  531,  532,\n",
              "         537,  539,  540,  547,  562,  565,  572,  573,  577,  578,  580,\n",
              "         583,  587,  601,  607,  611,  640,  643,  671,  699,  720,  755,\n",
              "        1111]),\n",
              " 'wine_id': array([b'10000', b'100002', b'100006', ..., b'99984', b'99986', b'99988'],\n",
              "       dtype=object)}"
            ]
          },
          "metadata": {
            "tags": []
          },
          "execution_count": 27
        }
      ]
    },
    {
      "cell_type": "markdown",
      "metadata": {
        "id": "1bnUjk4E16hw"
      },
      "source": [
        "# Model"
      ]
    },
    {
      "cell_type": "code",
      "metadata": {
        "id": "tsVJomi_157c"
      },
      "source": [
        "class DCN(tfrs.Model):\r\n",
        "\r\n",
        "  def __init__(self, use_cross_layer, deep_layer_sizes, projection_dim=None):\r\n",
        "    super().__init__()\r\n",
        "\r\n",
        "    self.embedding_dimension = 32\r\n",
        "\r\n",
        "    str_features = [\"userID\", \"country_code\", 'wine_id']\r\n",
        "    int_features = [\"type_id\", \"body\", \"acidity\", 'user_like_count', 'rating_count', 'alcohol', 'grapes_id_unique']\r\n",
        "\r\n",
        "    self._all_features = str_features + int_features\r\n",
        "    self._embeddings = {}\r\n",
        "\r\n",
        "    # Compute embeddings for string features.\r\n",
        "    for feature_name in str_features:\r\n",
        "      vocabulary = vocabularies[feature_name]\r\n",
        "      self._embeddings[feature_name] = tf.keras.Sequential(\r\n",
        "          [tf.keras.layers.experimental.preprocessing.StringLookup(\r\n",
        "              vocabulary=vocabulary, mask_token=None),\r\n",
        "           tf.keras.layers.Embedding(len(vocabulary) + 1,\r\n",
        "                                     self.embedding_dimension)\r\n",
        "    ])\r\n",
        "      \r\n",
        "    # Compute embeddings for int features.\r\n",
        "    for feature_name in int_features:\r\n",
        "      vocabulary = vocabularies[feature_name]\r\n",
        "      self._embeddings[feature_name] = tf.keras.Sequential(\r\n",
        "          [tf.keras.layers.experimental.preprocessing.IntegerLookup(\r\n",
        "              vocabulary=vocabulary, mask_value=None),\r\n",
        "           tf.keras.layers.Embedding(len(vocabulary) + 1,\r\n",
        "                                     self.embedding_dimension)\r\n",
        "    ])\r\n",
        "\r\n",
        "    if use_cross_layer:\r\n",
        "      self._cross_layer = tfrs.layers.dcn.Cross(\r\n",
        "          projection_dim=projection_dim,\r\n",
        "          kernel_initializer=\"glorot_uniform\")\r\n",
        "    else:\r\n",
        "      self._cross_layer = None\r\n",
        "\r\n",
        "    self._deep_layers = [tf.keras.layers.Dense(layer_size, activation=\"relu\")\r\n",
        "      for layer_size in deep_layer_sizes]\r\n",
        "\r\n",
        "    self._logit_layer = tf.keras.layers.Dense(1, activation = 'sigmoid')\r\n",
        "\r\n",
        "    self.task = tfrs.tasks.Ranking(\r\n",
        "      loss=tf.keras.losses.BinaryCrossentropy(),\r\n",
        "      metrics=[tf.keras.metrics.BinaryCrossentropy(\"binary_accuracy\")]\r\n",
        "    )\r\n",
        "\r\n",
        "  def call(self, features):\r\n",
        "    # Concatenate embeddings\r\n",
        "    embeddings = []\r\n",
        "    for feature_name in self._all_features:\r\n",
        "      embedding_fn = self._embeddings[feature_name]\r\n",
        "      embeddings.append(embedding_fn(features[feature_name]))\r\n",
        "\r\n",
        "    x = tf.concat(embeddings, axis=1)\r\n",
        "\r\n",
        "    # Build Cross Network\r\n",
        "    if self._cross_layer is not None:\r\n",
        "      x = self._cross_layer(x)\r\n",
        "    \r\n",
        "    # Build Deep Network\r\n",
        "    for deep_layer in self._deep_layers:\r\n",
        "      x = deep_layer(x)\r\n",
        "\r\n",
        "    return self._logit_layer(x)\r\n",
        "\r\n",
        "  def compute_loss(self, features, training=False):\r\n",
        "    labels = features.pop(\"like\")\r\n",
        "    scores = self(features)\r\n",
        "    return self.task(\r\n",
        "        labels=labels,\r\n",
        "        predictions=scores,\r\n",
        "    )"
      ],
      "execution_count": 38,
      "outputs": []
    },
    {
      "cell_type": "code",
      "metadata": {
        "id": "hEv7OXOJ15zI"
      },
      "source": [
        "learning_rate = 0.001"
      ],
      "execution_count": 39,
      "outputs": []
    },
    {
      "cell_type": "code",
      "metadata": {
        "id": "OZpkjqpY15oJ"
      },
      "source": [
        "cached_train = train.shuffle(100_000).batch(8192).cache()\r\n",
        "cached_test = test.batch(5989).cache()"
      ],
      "execution_count": 40,
      "outputs": []
    },
    {
      "cell_type": "code",
      "metadata": {
        "id": "ajCIZkwt2B3v"
      },
      "source": [
        "model = DCN(use_cross_layer=True, deep_layer_sizes=[192, 192], projection_dim=None)\r\n",
        "model.compile(optimizer=tf.keras.optimizers.Adam(learning_rate))"
      ],
      "execution_count": 41,
      "outputs": []
    },
    {
      "cell_type": "markdown",
      "metadata": {
        "id": "wo1nxyl42EoP"
      },
      "source": [
        "# Train & Result"
      ]
    },
    {
      "cell_type": "code",
      "metadata": {
        "id": "fJyPk7tP2Bxt"
      },
      "source": [
        "from sklearn.metrics import roc_auc_score\r\n",
        "from sklearn.metrics import classification_report\r\n",
        "import tensorflow_datasets as tfds\r\n",
        "\r\n",
        "cached_test_numpy = tfds.as_numpy(cached_test)\r\n",
        "y_true = [item['like'] for item in cached_test_numpy]\r\n",
        "y_true = np.concatenate(y_true)"
      ],
      "execution_count": 42,
      "outputs": []
    },
    {
      "cell_type": "code",
      "metadata": {
        "id": "aY7sAuVV2BpC"
      },
      "source": [
        "def get_result(model):\r\n",
        "  y_pred = model.predict(cached_test).flatten()\r\n",
        "  y_pred_class = [1 if pred > 0.5 else 0 for pred in y_pred]\r\n",
        "\r\n",
        "  print(f\"ROC: {roc_auc_score(y_true, y_pred)}\")\r\n",
        "  print(classification_report(y_true, y_pred_class))"
      ],
      "execution_count": 43,
      "outputs": []
    },
    {
      "cell_type": "code",
      "metadata": {
        "id": "q6UxUXOIlhib"
      },
      "source": [
        "from keras.callbacks import EarlyStopping\r\n",
        "callback = tf.keras.callbacks.EarlyStopping(monitor='binary_accuracy', patience=20)"
      ],
      "execution_count": 44,
      "outputs": []
    },
    {
      "cell_type": "code",
      "metadata": {
        "id": "dqOuIBngzEDE",
        "colab": {
          "base_uri": "https://localhost:8080/"
        },
        "outputId": "8d446512-9862-4b47-dedc-799aee19768b"
      },
      "source": [
        "history= model.fit(cached_train,  epochs=500, verbose=True, callbacks=[callback])"
      ],
      "execution_count": 45,
      "outputs": [
        {
          "output_type": "stream",
          "text": [
            "Epoch 1/500\n",
            "87/87 [==============================] - 11s 108ms/step - binary_accuracy: 0.6361 - loss: 0.6352 - regularization_loss: 0.0000e+00 - total_loss: 0.6352\n",
            "Epoch 2/500\n",
            "87/87 [==============================] - 2s 21ms/step - binary_accuracy: 0.5438 - loss: 0.5423 - regularization_loss: 0.0000e+00 - total_loss: 0.5423\n",
            "Epoch 3/500\n",
            "87/87 [==============================] - 2s 21ms/step - binary_accuracy: 0.5174 - loss: 0.5155 - regularization_loss: 0.0000e+00 - total_loss: 0.5155\n",
            "Epoch 4/500\n",
            "87/87 [==============================] - 2s 21ms/step - binary_accuracy: 0.5058 - loss: 0.5036 - regularization_loss: 0.0000e+00 - total_loss: 0.5036\n",
            "Epoch 5/500\n",
            "87/87 [==============================] - 2s 21ms/step - binary_accuracy: 0.4978 - loss: 0.4958 - regularization_loss: 0.0000e+00 - total_loss: 0.4958\n",
            "Epoch 6/500\n",
            "87/87 [==============================] - 2s 21ms/step - binary_accuracy: 0.4938 - loss: 0.4918 - regularization_loss: 0.0000e+00 - total_loss: 0.4918\n",
            "Epoch 7/500\n",
            "87/87 [==============================] - 2s 21ms/step - binary_accuracy: 0.4866 - loss: 0.4844 - regularization_loss: 0.0000e+00 - total_loss: 0.4844\n",
            "Epoch 8/500\n",
            "87/87 [==============================] - 2s 21ms/step - binary_accuracy: 0.4767 - loss: 0.4742 - regularization_loss: 0.0000e+00 - total_loss: 0.4742\n",
            "Epoch 9/500\n",
            "87/87 [==============================] - 2s 22ms/step - binary_accuracy: 0.4641 - loss: 0.4615 - regularization_loss: 0.0000e+00 - total_loss: 0.4615\n",
            "Epoch 10/500\n",
            "87/87 [==============================] - 2s 22ms/step - binary_accuracy: 0.4498 - loss: 0.4471 - regularization_loss: 0.0000e+00 - total_loss: 0.4471\n",
            "Epoch 11/500\n",
            "87/87 [==============================] - 2s 22ms/step - binary_accuracy: 0.4324 - loss: 0.4296 - regularization_loss: 0.0000e+00 - total_loss: 0.4296\n",
            "Epoch 12/500\n",
            "87/87 [==============================] - 2s 22ms/step - binary_accuracy: 0.4128 - loss: 0.4100 - regularization_loss: 0.0000e+00 - total_loss: 0.4100\n",
            "Epoch 13/500\n",
            "87/87 [==============================] - 2s 22ms/step - binary_accuracy: 0.3920 - loss: 0.3893 - regularization_loss: 0.0000e+00 - total_loss: 0.3893\n",
            "Epoch 14/500\n",
            "87/87 [==============================] - 2s 21ms/step - binary_accuracy: 0.3710 - loss: 0.3683 - regularization_loss: 0.0000e+00 - total_loss: 0.3683\n",
            "Epoch 15/500\n",
            "87/87 [==============================] - 2s 21ms/step - binary_accuracy: 0.3502 - loss: 0.3475 - regularization_loss: 0.0000e+00 - total_loss: 0.3475\n",
            "Epoch 16/500\n",
            "87/87 [==============================] - 2s 21ms/step - binary_accuracy: 0.3319 - loss: 0.3292 - regularization_loss: 0.0000e+00 - total_loss: 0.3292\n",
            "Epoch 17/500\n",
            "87/87 [==============================] - 2s 22ms/step - binary_accuracy: 0.3230 - loss: 0.3204 - regularization_loss: 0.0000e+00 - total_loss: 0.3204\n",
            "Epoch 18/500\n",
            "87/87 [==============================] - 2s 22ms/step - binary_accuracy: 0.3149 - loss: 0.3123 - regularization_loss: 0.0000e+00 - total_loss: 0.3123\n",
            "Epoch 19/500\n",
            "87/87 [==============================] - 2s 22ms/step - binary_accuracy: 0.2950 - loss: 0.2923 - regularization_loss: 0.0000e+00 - total_loss: 0.2923\n",
            "Epoch 20/500\n",
            "87/87 [==============================] - 2s 21ms/step - binary_accuracy: 0.2710 - loss: 0.2684 - regularization_loss: 0.0000e+00 - total_loss: 0.2684\n",
            "Epoch 21/500\n",
            "87/87 [==============================] - 2s 21ms/step - binary_accuracy: 0.2478 - loss: 0.2454 - regularization_loss: 0.0000e+00 - total_loss: 0.2454\n"
          ],
          "name": "stdout"
        }
      ]
    },
    {
      "cell_type": "code",
      "metadata": {
        "id": "f1fodt2q0fli",
        "colab": {
          "base_uri": "https://localhost:8080/"
        },
        "outputId": "4be181a9-c57f-4cb1-e086-ac9a1a47d015"
      },
      "source": [
        "get_result(model)"
      ],
      "execution_count": 46,
      "outputs": [
        {
          "output_type": "stream",
          "text": [
            "ROC: 0.9223335284801448\n",
            "              precision    recall  f1-score   support\n",
            "\n",
            "           0       0.85      0.83      0.84     80975\n",
            "           1       0.85      0.88      0.86     93390\n",
            "\n",
            "    accuracy                           0.85    174365\n",
            "   macro avg       0.85      0.85      0.85    174365\n",
            "weighted avg       0.85      0.85      0.85    174365\n",
            "\n"
          ],
          "name": "stdout"
        }
      ]
    },
    {
      "cell_type": "code",
      "metadata": {
        "id": "AZmF-jNm35d0",
        "colab": {
          "base_uri": "https://localhost:8080/"
        },
        "outputId": "9349e58d-2bda-4814-afcd-dcfe35b31504"
      },
      "source": [
        "model.summary()"
      ],
      "execution_count": 47,
      "outputs": [
        {
          "output_type": "stream",
          "text": [
            "Model: \"dcn_1\"\n",
            "_________________________________________________________________\n",
            "Layer (type)                 Output Shape              Param #   \n",
            "=================================================================\n",
            "sequential_15 (Sequential)   (None, 32)                128       \n",
            "_________________________________________________________________\n",
            "sequential_18 (Sequential)   (None, 32)                800       \n",
            "_________________________________________________________________\n",
            "sequential_14 (Sequential)   (None, 32)                192       \n",
            "_________________________________________________________________\n",
            "sequential_11 (Sequential)   (None, 32)                800       \n",
            "_________________________________________________________________\n",
            "sequential_19 (Sequential)   (None, 32)                12768     \n",
            "_________________________________________________________________\n",
            "sequential_17 (Sequential)   (None, 32)                247584    \n",
            "_________________________________________________________________\n",
            "sequential_13 (Sequential)   (None, 32)                224       \n",
            "_________________________________________________________________\n",
            "sequential_10 (Sequential)   (None, 32)                203008    \n",
            "_________________________________________________________________\n",
            "sequential_16 (Sequential)   (None, 32)                14496     \n",
            "_________________________________________________________________\n",
            "sequential_12 (Sequential)   (None, 32)                1415104   \n",
            "_________________________________________________________________\n",
            "cross_1 (Cross)              multiple                  102720    \n",
            "_________________________________________________________________\n",
            "dense_3 (Dense)              multiple                  61632     \n",
            "_________________________________________________________________\n",
            "dense_4 (Dense)              multiple                  37056     \n",
            "_________________________________________________________________\n",
            "dense_5 (Dense)              multiple                  193       \n",
            "_________________________________________________________________\n",
            "ranking_1 (Ranking)          multiple                  2         \n",
            "=================================================================\n",
            "Total params: 2,096,707\n",
            "Trainable params: 2,096,705\n",
            "Non-trainable params: 2\n",
            "_________________________________________________________________\n"
          ],
          "name": "stdout"
        }
      ]
    },
    {
      "cell_type": "code",
      "metadata": {
        "id": "zSVxjNOb53N3",
        "colab": {
          "base_uri": "https://localhost:8080/",
          "height": 324
        },
        "outputId": "cef24120-d675-4302-88a0-c33a315bbbc3"
      },
      "source": [
        "mat = model._cross_layer._dense.kernel\r\n",
        "features = model._all_features\r\n",
        "\r\n",
        "block_norm = np.ones([len(features), len(features)])\r\n",
        "\r\n",
        "dim = model.embedding_dimension\r\n",
        "\r\n",
        "# Compute the norms of the blocks.\r\n",
        "for i in range(len(features)):\r\n",
        "  for j in range(len(features)):\r\n",
        "    block = mat[i * dim:(i + 1) * dim,\r\n",
        "                j * dim:(j + 1) * dim]\r\n",
        "    block_norm[i,j] = np.linalg.norm(block, ord=\"fro\")\r\n",
        "\r\n",
        "plt.figure(figsize=(100,100))\r\n",
        "im = plt.matshow(block_norm, cmap=plt.cm.Blues)\r\n",
        "ax = plt.gca()\r\n",
        "divider = make_axes_locatable(plt.gca())\r\n",
        "cax = divider.append_axes(\"right\", size=\"5%\", pad=0.05)\r\n",
        "plt.colorbar(im, cax=cax)\r\n",
        "cax.tick_params(labelsize=10) \r\n",
        "_ = ax.set_xticklabels([\"\"] + features, rotation=45, ha=\"left\", fontsize=10)\r\n",
        "_ = ax.set_yticklabels([\"\"] + features, fontsize=10)"
      ],
      "execution_count": 50,
      "outputs": [
        {
          "output_type": "display_data",
          "data": {
            "text/plain": [
              "<Figure size 7200x7200 with 0 Axes>"
            ]
          },
          "metadata": {
            "tags": []
          }
        },
        {
          "output_type": "display_data",
          "data": {
            "image/png": "[encoded data removed]",
            "text/plain": [
              "<Figure size 288x288 with 2 Axes>"
            ]
          },
          "metadata": {
            "tags": [],
            "needs_background": "light"
          }
        }
      ]
    }
  ]
}