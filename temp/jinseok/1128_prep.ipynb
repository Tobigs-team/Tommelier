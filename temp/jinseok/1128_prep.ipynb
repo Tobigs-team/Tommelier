{
 "cells": [
  {
   "cell_type": "code",
   "execution_count": 70,
   "metadata": {
    "Collapsed": "false"
   },
   "outputs": [],
   "source": [
    "import os\n",
    "import sys\n",
    "import json\n",
    "import numpy as np\n",
    "import pandas as pd\n",
    "from tqdm import tqdm\n",
    "import matplotlib.pyplot as plt"
   ]
  },
  {
   "cell_type": "code",
   "execution_count": 242,
   "metadata": {
    "Collapsed": "false"
   },
   "outputs": [],
   "source": [
    "dataset = pd.read_pickle('temp_dataset.pkl')"
   ]
  },
  {
   "cell_type": "code",
   "execution_count": 243,
   "metadata": {
    "Collapsed": "false"
   },
   "outputs": [],
   "source": [
    "dataset = dataset[['userID', 'profile']]"
   ]
  },
  {
   "cell_type": "code",
   "execution_count": 4,
   "metadata": {
    "Collapsed": "false"
   },
   "outputs": [],
   "source": [
    "with open('Final_wine_rating.json', 'r') as f:\n",
    "    data = json.load(f)"
   ]
  },
  {
   "cell_type": "code",
   "execution_count": 5,
   "metadata": {
    "Collapsed": "false"
   },
   "outputs": [
    {
     "data": {
      "text/plain": [
       "dict_keys(['user_note', 'rating_per_user', 'vintage_id', 'user_like_count', 'userID', 'wine_id', 'wine_name', 'url'])"
      ]
     },
     "execution_count": 5,
     "metadata": {},
     "output_type": "execute_result"
    }
   ],
   "source": [
    "data.keys()"
   ]
  },
  {
   "cell_type": "code",
   "execution_count": 8,
   "metadata": {
    "Collapsed": "false"
   },
   "outputs": [],
   "source": [
    "df = (pd.DataFrame(zip(\n",
    "    data['wine_id'].values(),\n",
    "    data['vintage_id'].values(),\n",
    "    data['userID'].values(),\n",
    "    data['rating_per_user'].values()),\n",
    "                   columns = ['wine_id', 'vintage_id', 'userID', 'rating'])\n",
    "     )"
   ]
  },
  {
   "cell_type": "code",
   "execution_count": 15,
   "metadata": {
    "Collapsed": "false"
   },
   "outputs": [
    {
     "data": {
      "text/html": [
       "<div>\n",
       "<style scoped>\n",
       "    .dataframe tbody tr th:only-of-type {\n",
       "        vertical-align: middle;\n",
       "    }\n",
       "\n",
       "    .dataframe tbody tr th {\n",
       "        vertical-align: top;\n",
       "    }\n",
       "\n",
       "    .dataframe thead th {\n",
       "        text-align: right;\n",
       "    }\n",
       "</style>\n",
       "<table border=\"1\" class=\"dataframe\">\n",
       "  <thead>\n",
       "    <tr style=\"text-align: right;\">\n",
       "      <th></th>\n",
       "      <th>wine_id</th>\n",
       "      <th>vintage_id</th>\n",
       "      <th>userID</th>\n",
       "      <th>rating</th>\n",
       "    </tr>\n",
       "  </thead>\n",
       "  <tbody>\n",
       "    <tr>\n",
       "      <th>0</th>\n",
       "      <td>1141133</td>\n",
       "      <td>164942680</td>\n",
       "      <td>19484511</td>\n",
       "      <td>4.0</td>\n",
       "    </tr>\n",
       "    <tr>\n",
       "      <th>1</th>\n",
       "      <td>1141133</td>\n",
       "      <td>164942680</td>\n",
       "      <td>352674</td>\n",
       "      <td>4.0</td>\n",
       "    </tr>\n",
       "    <tr>\n",
       "      <th>2</th>\n",
       "      <td>1141133</td>\n",
       "      <td>164942680</td>\n",
       "      <td>2148498</td>\n",
       "      <td>1.5</td>\n",
       "    </tr>\n",
       "    <tr>\n",
       "      <th>3</th>\n",
       "      <td>1141133</td>\n",
       "      <td>164942680</td>\n",
       "      <td>3450270</td>\n",
       "      <td>4.5</td>\n",
       "    </tr>\n",
       "    <tr>\n",
       "      <th>4</th>\n",
       "      <td>1141133</td>\n",
       "      <td>164942680</td>\n",
       "      <td>17786617</td>\n",
       "      <td>4.0</td>\n",
       "    </tr>\n",
       "  </tbody>\n",
       "</table>\n",
       "</div>"
      ],
      "text/plain": [
       "   wine_id  vintage_id    userID  rating\n",
       "0  1141133   164942680  19484511     4.0\n",
       "1  1141133   164942680    352674     4.0\n",
       "2  1141133   164942680   2148498     1.5\n",
       "3  1141133   164942680   3450270     4.5\n",
       "4  1141133   164942680  17786617     4.0"
      ]
     },
     "execution_count": 15,
     "metadata": {},
     "output_type": "execute_result"
    }
   ],
   "source": [
    "df.head()"
   ]
  },
  {
   "cell_type": "code",
   "execution_count": 13,
   "metadata": {
    "Collapsed": "false"
   },
   "outputs": [
    {
     "name": "stdout",
     "output_type": "stream",
     "text": [
      "wine 개수: 50861\n",
      "vintage 개수: 307405\n",
      "user 개수: 37445\n"
     ]
    }
   ],
   "source": [
    "print('wine 개수:', df.wine_id.nunique())\n",
    "print('vintage 개수:', df.vintage_id.nunique())\n",
    "print('user 개수:', df.userID.nunique())"
   ]
  },
  {
   "cell_type": "code",
   "execution_count": 248,
   "metadata": {
    "Collapsed": "false"
   },
   "outputs": [],
   "source": [
    "user = dataset.merge(df_copy[['userID']].drop_duplicates(), on = 'userID')"
   ]
  },
  {
   "cell_type": "code",
   "execution_count": 249,
   "metadata": {
    "Collapsed": "false"
   },
   "outputs": [
    {
     "data": {
      "text/html": [
       "<div>\n",
       "<style scoped>\n",
       "    .dataframe tbody tr th:only-of-type {\n",
       "        vertical-align: middle;\n",
       "    }\n",
       "\n",
       "    .dataframe tbody tr th {\n",
       "        vertical-align: top;\n",
       "    }\n",
       "\n",
       "    .dataframe thead th {\n",
       "        text-align: right;\n",
       "    }\n",
       "</style>\n",
       "<table border=\"1\" class=\"dataframe\">\n",
       "  <thead>\n",
       "    <tr style=\"text-align: right;\">\n",
       "      <th></th>\n",
       "      <th>userID</th>\n",
       "      <th>profile</th>\n",
       "    </tr>\n",
       "  </thead>\n",
       "  <tbody>\n",
       "    <tr>\n",
       "      <th>0</th>\n",
       "      <td>140</td>\n",
       "      <td>[39.0, 17.0, 173.0, 689.5]</td>\n",
       "    </tr>\n",
       "    <tr>\n",
       "      <th>1</th>\n",
       "      <td>1201</td>\n",
       "      <td>[128.0, 90.0, 267.0, 1185.5]</td>\n",
       "    </tr>\n",
       "    <tr>\n",
       "      <th>2</th>\n",
       "      <td>2742</td>\n",
       "      <td>[45.0, 47.0, 200.0, 704.0]</td>\n",
       "    </tr>\n",
       "    <tr>\n",
       "      <th>3</th>\n",
       "      <td>2764</td>\n",
       "      <td>[2848.0, 103.0, 582.0, 2209.5]</td>\n",
       "    </tr>\n",
       "    <tr>\n",
       "      <th>4</th>\n",
       "      <td>2891</td>\n",
       "      <td>[54.0, 33.0, 1233.0, 4173.0]</td>\n",
       "    </tr>\n",
       "    <tr>\n",
       "      <th>...</th>\n",
       "      <td>...</td>\n",
       "      <td>...</td>\n",
       "    </tr>\n",
       "    <tr>\n",
       "      <th>35825</th>\n",
       "      <td>46828642</td>\n",
       "      <td>[47.0, 53.0, 1001.0, 3742.5]</td>\n",
       "    </tr>\n",
       "    <tr>\n",
       "      <th>35826</th>\n",
       "      <td>46874748</td>\n",
       "      <td>[0.0, 0.0, 8.0, 29.0]</td>\n",
       "    </tr>\n",
       "    <tr>\n",
       "      <th>35827</th>\n",
       "      <td>46886068</td>\n",
       "      <td>[0.0, 0.0, 2.0, 5.5]</td>\n",
       "    </tr>\n",
       "    <tr>\n",
       "      <th>35828</th>\n",
       "      <td>46895838</td>\n",
       "      <td>[1.0, 2.0, 17.0, 73.5]</td>\n",
       "    </tr>\n",
       "    <tr>\n",
       "      <th>35829</th>\n",
       "      <td>46950004</td>\n",
       "      <td>[0.0, 0.0, 2.0, 8.5]</td>\n",
       "    </tr>\n",
       "  </tbody>\n",
       "</table>\n",
       "<p>35830 rows × 2 columns</p>\n",
       "</div>"
      ],
      "text/plain": [
       "         userID                         profile\n",
       "0           140      [39.0, 17.0, 173.0, 689.5]\n",
       "1          1201    [128.0, 90.0, 267.0, 1185.5]\n",
       "2          2742      [45.0, 47.0, 200.0, 704.0]\n",
       "3          2764  [2848.0, 103.0, 582.0, 2209.5]\n",
       "4          2891    [54.0, 33.0, 1233.0, 4173.0]\n",
       "...         ...                             ...\n",
       "35825  46828642    [47.0, 53.0, 1001.0, 3742.5]\n",
       "35826  46874748           [0.0, 0.0, 8.0, 29.0]\n",
       "35827  46886068            [0.0, 0.0, 2.0, 5.5]\n",
       "35828  46895838          [1.0, 2.0, 17.0, 73.5]\n",
       "35829  46950004            [0.0, 0.0, 2.0, 8.5]\n",
       "\n",
       "[35830 rows x 2 columns]"
      ]
     },
     "execution_count": 249,
     "metadata": {},
     "output_type": "execute_result"
    }
   ],
   "source": [
    "user"
   ]
  },
  {
   "cell_type": "code",
   "execution_count": 40,
   "metadata": {
    "Collapsed": "false"
   },
   "outputs": [],
   "source": [
    "df = df.loc[df['userID'].isin(user['userID'])]"
   ]
  },
  {
   "cell_type": "code",
   "execution_count": 41,
   "metadata": {
    "Collapsed": "false"
   },
   "outputs": [
    {
     "name": "stdout",
     "output_type": "stream",
     "text": [
      "wine 개수: 50858\n",
      "vintage 개수: 303156\n",
      "user 개수: 35830\n"
     ]
    }
   ],
   "source": [
    "print('wine 개수:', df.wine_id.nunique())\n",
    "print('vintage 개수:', df.vintage_id.nunique())\n",
    "print('user 개수:', df.userID.nunique())"
   ]
  },
  {
   "cell_type": "markdown",
   "metadata": {
    "Collapsed": "false"
   },
   "source": [
    "# 1. dataset 만들기"
   ]
  },
  {
   "cell_type": "code",
   "execution_count": 207,
   "metadata": {
    "Collapsed": "false"
   },
   "outputs": [],
   "source": [
    "user_ids = dataset['userID'].unique().tolist()\n",
    "user2user_encoded = {x: i for i, x in enumerate(user_ids)}\n",
    "userencoded2user = {i: x for i, x in enumerate(user_ids)}\n",
    "\n",
    "wine_ids = df[\"wine_id\"].unique().tolist()\n",
    "wine2wine_encoded = {x: i for i, x in enumerate(wine_ids)}\n",
    "wine_encoded2wine = {i: x for i, x in enumerate(wine_ids)}"
   ]
  },
  {
   "cell_type": "code",
   "execution_count": 208,
   "metadata": {
    "Collapsed": "false"
   },
   "outputs": [],
   "source": [
    "df_copy = df.copy()"
   ]
  },
  {
   "cell_type": "code",
   "execution_count": 209,
   "metadata": {
    "Collapsed": "false"
   },
   "outputs": [
    {
     "name": "stderr",
     "output_type": "stream",
     "text": [
      "/Users/jinseok/opt/anaconda3/lib/python3.7/site-packages/ipykernel_launcher.py:1: SettingWithCopyWarning: \n",
      "A value is trying to be set on a copy of a slice from a DataFrame.\n",
      "Try using .loc[row_indexer,col_indexer] = value instead\n",
      "\n",
      "See the caveats in the documentation: https://pandas.pydata.org/pandas-docs/stable/user_guide/indexing.html#returning-a-view-versus-a-copy\n",
      "  \"\"\"Entry point for launching an IPython kernel.\n",
      "/Users/jinseok/opt/anaconda3/lib/python3.7/site-packages/ipykernel_launcher.py:2: SettingWithCopyWarning: \n",
      "A value is trying to be set on a copy of a slice from a DataFrame.\n",
      "Try using .loc[row_indexer,col_indexer] = value instead\n",
      "\n",
      "See the caveats in the documentation: https://pandas.pydata.org/pandas-docs/stable/user_guide/indexing.html#returning-a-view-versus-a-copy\n",
      "  \n"
     ]
    }
   ],
   "source": [
    "df['userID'] = df[\"userID\"].map(user2user_encoded)\n",
    "df[\"wine_id\"] = df[\"wine_id\"].map(wine2wine_encoded)"
   ]
  },
  {
   "cell_type": "code",
   "execution_count": 225,
   "metadata": {
    "Collapsed": "false"
   },
   "outputs": [
    {
     "data": {
      "text/html": [
       "<div>\n",
       "<style scoped>\n",
       "    .dataframe tbody tr th:only-of-type {\n",
       "        vertical-align: middle;\n",
       "    }\n",
       "\n",
       "    .dataframe tbody tr th {\n",
       "        vertical-align: top;\n",
       "    }\n",
       "\n",
       "    .dataframe thead th {\n",
       "        text-align: right;\n",
       "    }\n",
       "</style>\n",
       "<table border=\"1\" class=\"dataframe\">\n",
       "  <thead>\n",
       "    <tr style=\"text-align: right;\">\n",
       "      <th></th>\n",
       "      <th>wine_id</th>\n",
       "      <th>vintage_id</th>\n",
       "      <th>userID</th>\n",
       "      <th>rating</th>\n",
       "    </tr>\n",
       "  </thead>\n",
       "  <tbody>\n",
       "    <tr>\n",
       "      <th>80781</th>\n",
       "      <td>14362</td>\n",
       "      <td>1492826</td>\n",
       "      <td>140</td>\n",
       "      <td>5.0</td>\n",
       "    </tr>\n",
       "    <tr>\n",
       "      <th>287743</th>\n",
       "      <td>1724358</td>\n",
       "      <td>6784672</td>\n",
       "      <td>140</td>\n",
       "      <td>5.0</td>\n",
       "    </tr>\n",
       "  </tbody>\n",
       "</table>\n",
       "</div>"
      ],
      "text/plain": [
       "        wine_id  vintage_id  userID  rating\n",
       "80781     14362     1492826     140     5.0\n",
       "287743  1724358     6784672     140     5.0"
      ]
     },
     "execution_count": 225,
     "metadata": {},
     "output_type": "execute_result"
    }
   ],
   "source": [
    "df_copy.loc[df_copy['userID'] == 140]"
   ]
  },
  {
   "cell_type": "code",
   "execution_count": 232,
   "metadata": {
    "Collapsed": "false"
   },
   "outputs": [
    {
     "data": {
      "text/html": [
       "<div>\n",
       "<style scoped>\n",
       "    .dataframe tbody tr th:only-of-type {\n",
       "        vertical-align: middle;\n",
       "    }\n",
       "\n",
       "    .dataframe tbody tr th {\n",
       "        vertical-align: top;\n",
       "    }\n",
       "\n",
       "    .dataframe thead th {\n",
       "        text-align: right;\n",
       "    }\n",
       "</style>\n",
       "<table border=\"1\" class=\"dataframe\">\n",
       "  <thead>\n",
       "    <tr style=\"text-align: right;\">\n",
       "      <th></th>\n",
       "      <th>wine_id</th>\n",
       "      <th>vintage_id</th>\n",
       "      <th>userID</th>\n",
       "      <th>rating</th>\n",
       "    </tr>\n",
       "  </thead>\n",
       "  <tbody>\n",
       "    <tr>\n",
       "      <th>80781</th>\n",
       "      <td>473</td>\n",
       "      <td>1492826</td>\n",
       "      <td>1</td>\n",
       "      <td>5.0</td>\n",
       "    </tr>\n",
       "    <tr>\n",
       "      <th>287743</th>\n",
       "      <td>3143</td>\n",
       "      <td>6784672</td>\n",
       "      <td>1</td>\n",
       "      <td>5.0</td>\n",
       "    </tr>\n",
       "  </tbody>\n",
       "</table>\n",
       "</div>"
      ],
      "text/plain": [
       "        wine_id  vintage_id  userID  rating\n",
       "80781       473     1492826       1     5.0\n",
       "287743     3143     6784672       1     5.0"
      ]
     },
     "execution_count": 232,
     "metadata": {},
     "output_type": "execute_result"
    }
   ],
   "source": [
    "df.loc[df['userID'] == user2user_encoded[140]]"
   ]
  },
  {
   "cell_type": "markdown",
   "metadata": {
    "Collapsed": "false"
   },
   "source": [
    "## 1-1. 가장 마지막에 마신 wine을 label로"
   ]
  },
  {
   "cell_type": "code",
   "execution_count": 251,
   "metadata": {
    "Collapsed": "false"
   },
   "outputs": [],
   "source": [
    "user['userID'] = user['userID'].map(user2user_encoded)"
   ]
  },
  {
   "cell_type": "code",
   "execution_count": 252,
   "metadata": {
    "Collapsed": "false"
   },
   "outputs": [
    {
     "data": {
      "text/html": [
       "<div>\n",
       "<style scoped>\n",
       "    .dataframe tbody tr th:only-of-type {\n",
       "        vertical-align: middle;\n",
       "    }\n",
       "\n",
       "    .dataframe tbody tr th {\n",
       "        vertical-align: top;\n",
       "    }\n",
       "\n",
       "    .dataframe thead th {\n",
       "        text-align: right;\n",
       "    }\n",
       "</style>\n",
       "<table border=\"1\" class=\"dataframe\">\n",
       "  <thead>\n",
       "    <tr style=\"text-align: right;\">\n",
       "      <th></th>\n",
       "      <th>userID</th>\n",
       "      <th>profile</th>\n",
       "    </tr>\n",
       "  </thead>\n",
       "  <tbody>\n",
       "    <tr>\n",
       "      <th>0</th>\n",
       "      <td>1</td>\n",
       "      <td>[39.0, 17.0, 173.0, 689.5]</td>\n",
       "    </tr>\n",
       "    <tr>\n",
       "      <th>1</th>\n",
       "      <td>3</td>\n",
       "      <td>[128.0, 90.0, 267.0, 1185.5]</td>\n",
       "    </tr>\n",
       "    <tr>\n",
       "      <th>2</th>\n",
       "      <td>4</td>\n",
       "      <td>[45.0, 47.0, 200.0, 704.0]</td>\n",
       "    </tr>\n",
       "    <tr>\n",
       "      <th>3</th>\n",
       "      <td>5</td>\n",
       "      <td>[2848.0, 103.0, 582.0, 2209.5]</td>\n",
       "    </tr>\n",
       "    <tr>\n",
       "      <th>4</th>\n",
       "      <td>7</td>\n",
       "      <td>[54.0, 33.0, 1233.0, 4173.0]</td>\n",
       "    </tr>\n",
       "    <tr>\n",
       "      <th>...</th>\n",
       "      <td>...</td>\n",
       "      <td>...</td>\n",
       "    </tr>\n",
       "    <tr>\n",
       "      <th>35825</th>\n",
       "      <td>52190</td>\n",
       "      <td>[47.0, 53.0, 1001.0, 3742.5]</td>\n",
       "    </tr>\n",
       "    <tr>\n",
       "      <th>35826</th>\n",
       "      <td>52191</td>\n",
       "      <td>[0.0, 0.0, 8.0, 29.0]</td>\n",
       "    </tr>\n",
       "    <tr>\n",
       "      <th>35827</th>\n",
       "      <td>52192</td>\n",
       "      <td>[0.0, 0.0, 2.0, 5.5]</td>\n",
       "    </tr>\n",
       "    <tr>\n",
       "      <th>35828</th>\n",
       "      <td>52193</td>\n",
       "      <td>[1.0, 2.0, 17.0, 73.5]</td>\n",
       "    </tr>\n",
       "    <tr>\n",
       "      <th>35829</th>\n",
       "      <td>52196</td>\n",
       "      <td>[0.0, 0.0, 2.0, 8.5]</td>\n",
       "    </tr>\n",
       "  </tbody>\n",
       "</table>\n",
       "<p>35830 rows × 2 columns</p>\n",
       "</div>"
      ],
      "text/plain": [
       "       userID                         profile\n",
       "0           1      [39.0, 17.0, 173.0, 689.5]\n",
       "1           3    [128.0, 90.0, 267.0, 1185.5]\n",
       "2           4      [45.0, 47.0, 200.0, 704.0]\n",
       "3           5  [2848.0, 103.0, 582.0, 2209.5]\n",
       "4           7    [54.0, 33.0, 1233.0, 4173.0]\n",
       "...       ...                             ...\n",
       "35825   52190    [47.0, 53.0, 1001.0, 3742.5]\n",
       "35826   52191           [0.0, 0.0, 8.0, 29.0]\n",
       "35827   52192            [0.0, 0.0, 2.0, 5.5]\n",
       "35828   52193          [1.0, 2.0, 17.0, 73.5]\n",
       "35829   52196            [0.0, 0.0, 2.0, 8.5]\n",
       "\n",
       "[35830 rows x 2 columns]"
      ]
     },
     "execution_count": 252,
     "metadata": {},
     "output_type": "execute_result"
    }
   ],
   "source": [
    "user"
   ]
  },
  {
   "cell_type": "code",
   "execution_count": 253,
   "metadata": {
    "Collapsed": "false"
   },
   "outputs": [
    {
     "name": "stderr",
     "output_type": "stream",
     "text": [
      "100%|██████████| 35830/35830 [00:41<00:00, 871.33it/s]\n"
     ]
    }
   ],
   "source": [
    "# 모든 user의 소비 wine_id 넣어주기\n",
    "history = {}\n",
    "for u in tqdm(user.userID.unique()):\n",
    "    history[u] = list(df.loc[df['userID'] == u, 'wine_id'])"
   ]
  },
  {
   "cell_type": "code",
   "execution_count": 254,
   "metadata": {
    "Collapsed": "false"
   },
   "outputs": [
    {
     "name": "stderr",
     "output_type": "stream",
     "text": [
      "100%|██████████| 35830/35830 [00:00<00:00, 188080.20it/s]\n"
     ]
    }
   ],
   "source": [
    "# 최근 소비한 10개 wine 뽑기\n",
    "recent = []\n",
    "label = []\n",
    "for u in tqdm(user.userID.values):\n",
    "    label.append(history[u][-1])\n",
    "    recent.append(history[u][-11:-1])"
   ]
  },
  {
   "cell_type": "code",
   "execution_count": 256,
   "metadata": {
    "Collapsed": "false"
   },
   "outputs": [
    {
     "data": {
      "text/plain": [
       "(35830, 35830)"
      ]
     },
     "execution_count": 256,
     "metadata": {},
     "output_type": "execute_result"
    }
   ],
   "source": [
    "len(label), len(recent)"
   ]
  },
  {
   "cell_type": "code",
   "execution_count": 257,
   "metadata": {
    "Collapsed": "false"
   },
   "outputs": [
    {
     "data": {
      "text/html": [
       "<div>\n",
       "<style scoped>\n",
       "    .dataframe tbody tr th:only-of-type {\n",
       "        vertical-align: middle;\n",
       "    }\n",
       "\n",
       "    .dataframe tbody tr th {\n",
       "        vertical-align: top;\n",
       "    }\n",
       "\n",
       "    .dataframe thead th {\n",
       "        text-align: right;\n",
       "    }\n",
       "</style>\n",
       "<table border=\"1\" class=\"dataframe\">\n",
       "  <thead>\n",
       "    <tr style=\"text-align: right;\">\n",
       "      <th></th>\n",
       "      <th>userID</th>\n",
       "      <th>profile</th>\n",
       "      <th>recent</th>\n",
       "      <th>label</th>\n",
       "    </tr>\n",
       "  </thead>\n",
       "  <tbody>\n",
       "    <tr>\n",
       "      <th>0</th>\n",
       "      <td>1</td>\n",
       "      <td>[39.0, 17.0, 173.0, 689.5]</td>\n",
       "      <td>[473]</td>\n",
       "      <td>3143</td>\n",
       "    </tr>\n",
       "    <tr>\n",
       "      <th>1</th>\n",
       "      <td>3</td>\n",
       "      <td>[128.0, 90.0, 267.0, 1185.5]</td>\n",
       "      <td>[28384, 43893, 49041, 26549, 50701, 6108, 3855...</td>\n",
       "      <td>39572</td>\n",
       "    </tr>\n",
       "    <tr>\n",
       "      <th>2</th>\n",
       "      <td>4</td>\n",
       "      <td>[45.0, 47.0, 200.0, 704.0]</td>\n",
       "      <td>[]</td>\n",
       "      <td>18012</td>\n",
       "    </tr>\n",
       "    <tr>\n",
       "      <th>3</th>\n",
       "      <td>5</td>\n",
       "      <td>[2848.0, 103.0, 582.0, 2209.5]</td>\n",
       "      <td>[78, 6182, 1395, 821]</td>\n",
       "      <td>6689</td>\n",
       "    </tr>\n",
       "    <tr>\n",
       "      <th>4</th>\n",
       "      <td>7</td>\n",
       "      <td>[54.0, 33.0, 1233.0, 4173.0]</td>\n",
       "      <td>[]</td>\n",
       "      <td>11455</td>\n",
       "    </tr>\n",
       "    <tr>\n",
       "      <th>...</th>\n",
       "      <td>...</td>\n",
       "      <td>...</td>\n",
       "      <td>...</td>\n",
       "      <td>...</td>\n",
       "    </tr>\n",
       "    <tr>\n",
       "      <th>35825</th>\n",
       "      <td>52190</td>\n",
       "      <td>[47.0, 53.0, 1001.0, 3742.5]</td>\n",
       "      <td>[13553]</td>\n",
       "      <td>20448</td>\n",
       "    </tr>\n",
       "    <tr>\n",
       "      <th>35826</th>\n",
       "      <td>52191</td>\n",
       "      <td>[0.0, 0.0, 8.0, 29.0]</td>\n",
       "      <td>[]</td>\n",
       "      <td>23478</td>\n",
       "    </tr>\n",
       "    <tr>\n",
       "      <th>35827</th>\n",
       "      <td>52192</td>\n",
       "      <td>[0.0, 0.0, 2.0, 5.5]</td>\n",
       "      <td>[]</td>\n",
       "      <td>12967</td>\n",
       "    </tr>\n",
       "    <tr>\n",
       "      <th>35828</th>\n",
       "      <td>52193</td>\n",
       "      <td>[1.0, 2.0, 17.0, 73.5]</td>\n",
       "      <td>[]</td>\n",
       "      <td>2573</td>\n",
       "    </tr>\n",
       "    <tr>\n",
       "      <th>35829</th>\n",
       "      <td>52196</td>\n",
       "      <td>[0.0, 0.0, 2.0, 8.5]</td>\n",
       "      <td>[]</td>\n",
       "      <td>17963</td>\n",
       "    </tr>\n",
       "  </tbody>\n",
       "</table>\n",
       "<p>35830 rows × 4 columns</p>\n",
       "</div>"
      ],
      "text/plain": [
       "       userID                         profile  \\\n",
       "0           1      [39.0, 17.0, 173.0, 689.5]   \n",
       "1           3    [128.0, 90.0, 267.0, 1185.5]   \n",
       "2           4      [45.0, 47.0, 200.0, 704.0]   \n",
       "3           5  [2848.0, 103.0, 582.0, 2209.5]   \n",
       "4           7    [54.0, 33.0, 1233.0, 4173.0]   \n",
       "...       ...                             ...   \n",
       "35825   52190    [47.0, 53.0, 1001.0, 3742.5]   \n",
       "35826   52191           [0.0, 0.0, 8.0, 29.0]   \n",
       "35827   52192            [0.0, 0.0, 2.0, 5.5]   \n",
       "35828   52193          [1.0, 2.0, 17.0, 73.5]   \n",
       "35829   52196            [0.0, 0.0, 2.0, 8.5]   \n",
       "\n",
       "                                                  recent  label  \n",
       "0                                                  [473]   3143  \n",
       "1      [28384, 43893, 49041, 26549, 50701, 6108, 3855...  39572  \n",
       "2                                                     []  18012  \n",
       "3                                  [78, 6182, 1395, 821]   6689  \n",
       "4                                                     []  11455  \n",
       "...                                                  ...    ...  \n",
       "35825                                            [13553]  20448  \n",
       "35826                                                 []  23478  \n",
       "35827                                                 []  12967  \n",
       "35828                                                 []   2573  \n",
       "35829                                                 []  17963  \n",
       "\n",
       "[35830 rows x 4 columns]"
      ]
     },
     "execution_count": 257,
     "metadata": {},
     "output_type": "execute_result"
    }
   ],
   "source": [
    "user['recent'] = recent\n",
    "user['label'] = label\n",
    "user"
   ]
  },
  {
   "cell_type": "code",
   "execution_count": 258,
   "metadata": {
    "Collapsed": "false"
   },
   "outputs": [
    {
     "name": "stderr",
     "output_type": "stream",
     "text": [
      "100%|██████████| 35830/35830 [02:24<00:00, 247.14it/s]\n"
     ]
    }
   ],
   "source": [
    "# 모든 user의 평점&최신 순 wine 뽑기\n",
    "like = {}\n",
    "for u in tqdm(user.userID.unique()):\n",
    "    temp = df.loc[df['userID']== u].sort_index().iloc[:-1] # label 제외\n",
    "    like[u] = list(temp.loc[temp['rating'] > 4].reset_index().sort_values(['rating', 'index'], ascending = [False, False])['wine_id'][:10])"
   ]
  },
  {
   "cell_type": "code",
   "execution_count": 259,
   "metadata": {
    "Collapsed": "false"
   },
   "outputs": [
    {
     "data": {
      "text/plain": [
       "35830"
      ]
     },
     "execution_count": 259,
     "metadata": {},
     "output_type": "execute_result"
    }
   ],
   "source": [
    "len(like.keys())"
   ]
  },
  {
   "cell_type": "code",
   "execution_count": 260,
   "metadata": {
    "Collapsed": "false"
   },
   "outputs": [
    {
     "name": "stderr",
     "output_type": "stream",
     "text": [
      "100%|██████████| 35830/35830 [02:24<00:00, 248.15it/s]\n"
     ]
    }
   ],
   "source": [
    "# 모든 user의 평점&최신 순 wine 뽑기\n",
    "dislike = {}\n",
    "for u in tqdm(user.userID.unique()):\n",
    "    temp = df.loc[df['userID']== u].sort_index().iloc[:-1] # label 제외\n",
    "    \n",
    "    \n",
    "    dislike[u] = list(temp.loc[temp['rating'] < 4].reset_index().sort_values(['rating', 'index'], ascending = [True, False])['wine_id'][:10])"
   ]
  },
  {
   "cell_type": "code",
   "execution_count": 261,
   "metadata": {
    "Collapsed": "false"
   },
   "outputs": [],
   "source": [
    "user['like'] = list(like.values())\n",
    "user['dislike'] = list(dislike.values())"
   ]
  },
  {
   "cell_type": "code",
   "execution_count": 262,
   "metadata": {
    "Collapsed": "false"
   },
   "outputs": [
    {
     "data": {
      "text/html": [
       "<div>\n",
       "<style scoped>\n",
       "    .dataframe tbody tr th:only-of-type {\n",
       "        vertical-align: middle;\n",
       "    }\n",
       "\n",
       "    .dataframe tbody tr th {\n",
       "        vertical-align: top;\n",
       "    }\n",
       "\n",
       "    .dataframe thead th {\n",
       "        text-align: right;\n",
       "    }\n",
       "</style>\n",
       "<table border=\"1\" class=\"dataframe\">\n",
       "  <thead>\n",
       "    <tr style=\"text-align: right;\">\n",
       "      <th></th>\n",
       "      <th>userID</th>\n",
       "      <th>profile</th>\n",
       "      <th>recent</th>\n",
       "      <th>label</th>\n",
       "      <th>like</th>\n",
       "      <th>dislike</th>\n",
       "    </tr>\n",
       "  </thead>\n",
       "  <tbody>\n",
       "    <tr>\n",
       "      <th>0</th>\n",
       "      <td>1</td>\n",
       "      <td>[39.0, 17.0, 173.0, 689.5]</td>\n",
       "      <td>[473]</td>\n",
       "      <td>3143</td>\n",
       "      <td>[473]</td>\n",
       "      <td>[]</td>\n",
       "    </tr>\n",
       "    <tr>\n",
       "      <th>1</th>\n",
       "      <td>3</td>\n",
       "      <td>[128.0, 90.0, 267.0, 1185.5]</td>\n",
       "      <td>[28384, 43893, 49041, 26549, 50701, 6108, 3855...</td>\n",
       "      <td>39572</td>\n",
       "      <td>[38554, 38554, 50701, 26549, 49041, 43893, 136...</td>\n",
       "      <td>[3487, 80, 6112, 1365, 1760, 9229, 45157, 9615...</td>\n",
       "    </tr>\n",
       "    <tr>\n",
       "      <th>2</th>\n",
       "      <td>4</td>\n",
       "      <td>[45.0, 47.0, 200.0, 704.0]</td>\n",
       "      <td>[]</td>\n",
       "      <td>18012</td>\n",
       "      <td>[]</td>\n",
       "      <td>[]</td>\n",
       "    </tr>\n",
       "    <tr>\n",
       "      <th>3</th>\n",
       "      <td>5</td>\n",
       "      <td>[2848.0, 103.0, 582.0, 2209.5]</td>\n",
       "      <td>[78, 6182, 1395, 821]</td>\n",
       "      <td>6689</td>\n",
       "      <td>[6182, 821, 1395, 78]</td>\n",
       "      <td>[]</td>\n",
       "    </tr>\n",
       "    <tr>\n",
       "      <th>4</th>\n",
       "      <td>7</td>\n",
       "      <td>[54.0, 33.0, 1233.0, 4173.0]</td>\n",
       "      <td>[]</td>\n",
       "      <td>11455</td>\n",
       "      <td>[]</td>\n",
       "      <td>[]</td>\n",
       "    </tr>\n",
       "    <tr>\n",
       "      <th>...</th>\n",
       "      <td>...</td>\n",
       "      <td>...</td>\n",
       "      <td>...</td>\n",
       "      <td>...</td>\n",
       "      <td>...</td>\n",
       "      <td>...</td>\n",
       "    </tr>\n",
       "    <tr>\n",
       "      <th>35825</th>\n",
       "      <td>52190</td>\n",
       "      <td>[47.0, 53.0, 1001.0, 3742.5]</td>\n",
       "      <td>[13553]</td>\n",
       "      <td>20448</td>\n",
       "      <td>[13553]</td>\n",
       "      <td>[]</td>\n",
       "    </tr>\n",
       "    <tr>\n",
       "      <th>35826</th>\n",
       "      <td>52191</td>\n",
       "      <td>[0.0, 0.0, 8.0, 29.0]</td>\n",
       "      <td>[]</td>\n",
       "      <td>23478</td>\n",
       "      <td>[]</td>\n",
       "      <td>[]</td>\n",
       "    </tr>\n",
       "    <tr>\n",
       "      <th>35827</th>\n",
       "      <td>52192</td>\n",
       "      <td>[0.0, 0.0, 2.0, 5.5]</td>\n",
       "      <td>[]</td>\n",
       "      <td>12967</td>\n",
       "      <td>[]</td>\n",
       "      <td>[]</td>\n",
       "    </tr>\n",
       "    <tr>\n",
       "      <th>35828</th>\n",
       "      <td>52193</td>\n",
       "      <td>[1.0, 2.0, 17.0, 73.5]</td>\n",
       "      <td>[]</td>\n",
       "      <td>2573</td>\n",
       "      <td>[]</td>\n",
       "      <td>[]</td>\n",
       "    </tr>\n",
       "    <tr>\n",
       "      <th>35829</th>\n",
       "      <td>52196</td>\n",
       "      <td>[0.0, 0.0, 2.0, 8.5]</td>\n",
       "      <td>[]</td>\n",
       "      <td>17963</td>\n",
       "      <td>[]</td>\n",
       "      <td>[]</td>\n",
       "    </tr>\n",
       "  </tbody>\n",
       "</table>\n",
       "<p>35830 rows × 6 columns</p>\n",
       "</div>"
      ],
      "text/plain": [
       "       userID                         profile  \\\n",
       "0           1      [39.0, 17.0, 173.0, 689.5]   \n",
       "1           3    [128.0, 90.0, 267.0, 1185.5]   \n",
       "2           4      [45.0, 47.0, 200.0, 704.0]   \n",
       "3           5  [2848.0, 103.0, 582.0, 2209.5]   \n",
       "4           7    [54.0, 33.0, 1233.0, 4173.0]   \n",
       "...       ...                             ...   \n",
       "35825   52190    [47.0, 53.0, 1001.0, 3742.5]   \n",
       "35826   52191           [0.0, 0.0, 8.0, 29.0]   \n",
       "35827   52192            [0.0, 0.0, 2.0, 5.5]   \n",
       "35828   52193          [1.0, 2.0, 17.0, 73.5]   \n",
       "35829   52196            [0.0, 0.0, 2.0, 8.5]   \n",
       "\n",
       "                                                  recent  label  \\\n",
       "0                                                  [473]   3143   \n",
       "1      [28384, 43893, 49041, 26549, 50701, 6108, 3855...  39572   \n",
       "2                                                     []  18012   \n",
       "3                                  [78, 6182, 1395, 821]   6689   \n",
       "4                                                     []  11455   \n",
       "...                                                  ...    ...   \n",
       "35825                                            [13553]  20448   \n",
       "35826                                                 []  23478   \n",
       "35827                                                 []  12967   \n",
       "35828                                                 []   2573   \n",
       "35829                                                 []  17963   \n",
       "\n",
       "                                                    like  \\\n",
       "0                                                  [473]   \n",
       "1      [38554, 38554, 50701, 26549, 49041, 43893, 136...   \n",
       "2                                                     []   \n",
       "3                                  [6182, 821, 1395, 78]   \n",
       "4                                                     []   \n",
       "...                                                  ...   \n",
       "35825                                            [13553]   \n",
       "35826                                                 []   \n",
       "35827                                                 []   \n",
       "35828                                                 []   \n",
       "35829                                                 []   \n",
       "\n",
       "                                                 dislike  \n",
       "0                                                     []  \n",
       "1      [3487, 80, 6112, 1365, 1760, 9229, 45157, 9615...  \n",
       "2                                                     []  \n",
       "3                                                     []  \n",
       "4                                                     []  \n",
       "...                                                  ...  \n",
       "35825                                                 []  \n",
       "35826                                                 []  \n",
       "35827                                                 []  \n",
       "35828                                                 []  \n",
       "35829                                                 []  \n",
       "\n",
       "[35830 rows x 6 columns]"
      ]
     },
     "execution_count": 262,
     "metadata": {},
     "output_type": "execute_result"
    }
   ],
   "source": [
    "user"
   ]
  },
  {
   "cell_type": "code",
   "execution_count": 283,
   "metadata": {
    "Collapsed": "false"
   },
   "outputs": [],
   "source": [
    "user['profile_a'] = user['profile'].apply(lambda x : x[0])\n",
    "user['profile_b'] = user['profile'].apply(lambda x : x[1])\n",
    "user['profile_c'] = user['profile'].apply(lambda x : x[2])\n",
    "user['profile_d'] = user['profile'].apply(lambda x : x[3])"
   ]
  },
  {
   "cell_type": "code",
   "execution_count": 285,
   "metadata": {
    "Collapsed": "false"
   },
   "outputs": [],
   "source": [
    "from sklearn.preprocessing import MinMaxScaler\n",
    "sc = MinMaxScaler()"
   ]
  },
  {
   "cell_type": "code",
   "execution_count": 297,
   "metadata": {
    "Collapsed": "false"
   },
   "outputs": [],
   "source": [
    "user['profile_scale'] = list(sc.fit_transform(user.iloc[:, -4:]))"
   ]
  },
  {
   "cell_type": "code",
   "execution_count": 299,
   "metadata": {
    "Collapsed": "false"
   },
   "outputs": [],
   "source": [
    "user.to_pickle('dataset.pkl')"
   ]
  },
  {
   "cell_type": "markdown",
   "metadata": {
    "Collapsed": "false"
   },
   "source": [
    "## 1-2. taste"
   ]
  },
  {
   "cell_type": "code",
   "execution_count": 16,
   "metadata": {
    "Collapsed": "false"
   },
   "outputs": [],
   "source": [
    "taste = pd.read_csv('Final_wine_meta.csv')"
   ]
  },
  {
   "cell_type": "code",
   "execution_count": 19,
   "metadata": {
    "Collapsed": "false"
   },
   "outputs": [
    {
     "data": {
      "text/html": [
       "<div>\n",
       "<style scoped>\n",
       "    .dataframe tbody tr th:only-of-type {\n",
       "        vertical-align: middle;\n",
       "    }\n",
       "\n",
       "    .dataframe tbody tr th {\n",
       "        vertical-align: top;\n",
       "    }\n",
       "\n",
       "    .dataframe thead th {\n",
       "        text-align: right;\n",
       "    }\n",
       "</style>\n",
       "<table border=\"1\" class=\"dataframe\">\n",
       "  <thead>\n",
       "    <tr style=\"text-align: right;\">\n",
       "      <th></th>\n",
       "      <th>wine_id</th>\n",
       "      <th>red_fruit_count</th>\n",
       "      <th>red_fruit_score</th>\n",
       "      <th>red_fruit_mentions_count</th>\n",
       "      <th>citrus_fruit_count</th>\n",
       "      <th>citrus_fruit_score</th>\n",
       "      <th>citrus_fruit_mentions_count</th>\n",
       "      <th>non_oak_count</th>\n",
       "      <th>non_oak_score</th>\n",
       "      <th>non_oak_mentions_count</th>\n",
       "      <th>...</th>\n",
       "      <th>dried_fruit_count</th>\n",
       "      <th>dried_fruit_score</th>\n",
       "      <th>dried_fruit_mentions_count</th>\n",
       "      <th>acidity</th>\n",
       "      <th>fizziness</th>\n",
       "      <th>intensity</th>\n",
       "      <th>sweetness</th>\n",
       "      <th>tannin</th>\n",
       "      <th>user_structure_count</th>\n",
       "      <th>calculated_structure_count</th>\n",
       "    </tr>\n",
       "  </thead>\n",
       "  <tbody>\n",
       "    <tr>\n",
       "      <th>0</th>\n",
       "      <td>1141133</td>\n",
       "      <td>387.0</td>\n",
       "      <td>61208.0</td>\n",
       "      <td>612.0</td>\n",
       "      <td>130.0</td>\n",
       "      <td>15600.0</td>\n",
       "      <td>156.0</td>\n",
       "      <td>123.0</td>\n",
       "      <td>8830.0</td>\n",
       "      <td>129.0</td>\n",
       "      <td>...</td>\n",
       "      <td>8.0</td>\n",
       "      <td>405.0</td>\n",
       "      <td>3.0</td>\n",
       "      <td>4.283229</td>\n",
       "      <td>4.365849</td>\n",
       "      <td>3.687198</td>\n",
       "      <td>NaN</td>\n",
       "      <td>NaN</td>\n",
       "      <td>505.0</td>\n",
       "      <td>37.0</td>\n",
       "    </tr>\n",
       "    <tr>\n",
       "      <th>1</th>\n",
       "      <td>2532733</td>\n",
       "      <td>145.0</td>\n",
       "      <td>17836.0</td>\n",
       "      <td>177.0</td>\n",
       "      <td>8.0</td>\n",
       "      <td>1200.0</td>\n",
       "      <td>12.0</td>\n",
       "      <td>87.0</td>\n",
       "      <td>1638.0</td>\n",
       "      <td>7.0</td>\n",
       "      <td>...</td>\n",
       "      <td>4.0</td>\n",
       "      <td>221.0</td>\n",
       "      <td>2.0</td>\n",
       "      <td>NaN</td>\n",
       "      <td>NaN</td>\n",
       "      <td>NaN</td>\n",
       "      <td>NaN</td>\n",
       "      <td>NaN</td>\n",
       "      <td>NaN</td>\n",
       "      <td>NaN</td>\n",
       "    </tr>\n",
       "    <tr>\n",
       "      <th>2</th>\n",
       "      <td>1253802</td>\n",
       "      <td>88.0</td>\n",
       "      <td>10413.0</td>\n",
       "      <td>103.0</td>\n",
       "      <td>10.0</td>\n",
       "      <td>1100.0</td>\n",
       "      <td>11.0</td>\n",
       "      <td>51.0</td>\n",
       "      <td>894.0</td>\n",
       "      <td>3.0</td>\n",
       "      <td>...</td>\n",
       "      <td>9.0</td>\n",
       "      <td>637.0</td>\n",
       "      <td>6.0</td>\n",
       "      <td>NaN</td>\n",
       "      <td>NaN</td>\n",
       "      <td>NaN</td>\n",
       "      <td>NaN</td>\n",
       "      <td>NaN</td>\n",
       "      <td>NaN</td>\n",
       "      <td>NaN</td>\n",
       "    </tr>\n",
       "    <tr>\n",
       "      <th>3</th>\n",
       "      <td>1123441</td>\n",
       "      <td>NaN</td>\n",
       "      <td>NaN</td>\n",
       "      <td>NaN</td>\n",
       "      <td>5.0</td>\n",
       "      <td>600.0</td>\n",
       "      <td>6.0</td>\n",
       "      <td>NaN</td>\n",
       "      <td>NaN</td>\n",
       "      <td>NaN</td>\n",
       "      <td>...</td>\n",
       "      <td>1.0</td>\n",
       "      <td>100.0</td>\n",
       "      <td>1.0</td>\n",
       "      <td>NaN</td>\n",
       "      <td>NaN</td>\n",
       "      <td>NaN</td>\n",
       "      <td>NaN</td>\n",
       "      <td>NaN</td>\n",
       "      <td>NaN</td>\n",
       "      <td>NaN</td>\n",
       "    </tr>\n",
       "    <tr>\n",
       "      <th>4</th>\n",
       "      <td>1157656</td>\n",
       "      <td>25.0</td>\n",
       "      <td>2248.0</td>\n",
       "      <td>22.0</td>\n",
       "      <td>288.0</td>\n",
       "      <td>35400.0</td>\n",
       "      <td>354.0</td>\n",
       "      <td>71.0</td>\n",
       "      <td>4511.0</td>\n",
       "      <td>65.0</td>\n",
       "      <td>...</td>\n",
       "      <td>5.0</td>\n",
       "      <td>348.0</td>\n",
       "      <td>3.0</td>\n",
       "      <td>3.897176</td>\n",
       "      <td>3.910853</td>\n",
       "      <td>2.077880</td>\n",
       "      <td>NaN</td>\n",
       "      <td>NaN</td>\n",
       "      <td>165.0</td>\n",
       "      <td>711.0</td>\n",
       "    </tr>\n",
       "    <tr>\n",
       "      <th>...</th>\n",
       "      <td>...</td>\n",
       "      <td>...</td>\n",
       "      <td>...</td>\n",
       "      <td>...</td>\n",
       "      <td>...</td>\n",
       "      <td>...</td>\n",
       "      <td>...</td>\n",
       "      <td>...</td>\n",
       "      <td>...</td>\n",
       "      <td>...</td>\n",
       "      <td>...</td>\n",
       "      <td>...</td>\n",
       "      <td>...</td>\n",
       "      <td>...</td>\n",
       "      <td>...</td>\n",
       "      <td>...</td>\n",
       "      <td>...</td>\n",
       "      <td>...</td>\n",
       "      <td>...</td>\n",
       "      <td>...</td>\n",
       "      <td>...</td>\n",
       "    </tr>\n",
       "    <tr>\n",
       "      <th>50856</th>\n",
       "      <td>5563017</td>\n",
       "      <td>NaN</td>\n",
       "      <td>NaN</td>\n",
       "      <td>NaN</td>\n",
       "      <td>1.0</td>\n",
       "      <td>100.0</td>\n",
       "      <td>1.0</td>\n",
       "      <td>NaN</td>\n",
       "      <td>NaN</td>\n",
       "      <td>NaN</td>\n",
       "      <td>...</td>\n",
       "      <td>NaN</td>\n",
       "      <td>NaN</td>\n",
       "      <td>NaN</td>\n",
       "      <td>NaN</td>\n",
       "      <td>NaN</td>\n",
       "      <td>NaN</td>\n",
       "      <td>NaN</td>\n",
       "      <td>NaN</td>\n",
       "      <td>NaN</td>\n",
       "      <td>NaN</td>\n",
       "    </tr>\n",
       "    <tr>\n",
       "      <th>50857</th>\n",
       "      <td>3849645</td>\n",
       "      <td>14.0</td>\n",
       "      <td>1816.0</td>\n",
       "      <td>18.0</td>\n",
       "      <td>1.0</td>\n",
       "      <td>100.0</td>\n",
       "      <td>1.0</td>\n",
       "      <td>2.0</td>\n",
       "      <td>28.0</td>\n",
       "      <td>0.0</td>\n",
       "      <td>...</td>\n",
       "      <td>1.0</td>\n",
       "      <td>16.0</td>\n",
       "      <td>0.0</td>\n",
       "      <td>3.976166</td>\n",
       "      <td>NaN</td>\n",
       "      <td>3.439617</td>\n",
       "      <td>1.260703</td>\n",
       "      <td>1.937348</td>\n",
       "      <td>8.0</td>\n",
       "      <td>38.0</td>\n",
       "    </tr>\n",
       "    <tr>\n",
       "      <th>50858</th>\n",
       "      <td>97879</td>\n",
       "      <td>1.0</td>\n",
       "      <td>100.0</td>\n",
       "      <td>1.0</td>\n",
       "      <td>NaN</td>\n",
       "      <td>NaN</td>\n",
       "      <td>NaN</td>\n",
       "      <td>NaN</td>\n",
       "      <td>NaN</td>\n",
       "      <td>NaN</td>\n",
       "      <td>...</td>\n",
       "      <td>NaN</td>\n",
       "      <td>NaN</td>\n",
       "      <td>NaN</td>\n",
       "      <td>3.172619</td>\n",
       "      <td>NaN</td>\n",
       "      <td>5.000000</td>\n",
       "      <td>1.000000</td>\n",
       "      <td>3.869048</td>\n",
       "      <td>0.0</td>\n",
       "      <td>2.0</td>\n",
       "    </tr>\n",
       "    <tr>\n",
       "      <th>50859</th>\n",
       "      <td>1196584</td>\n",
       "      <td>NaN</td>\n",
       "      <td>NaN</td>\n",
       "      <td>NaN</td>\n",
       "      <td>7.0</td>\n",
       "      <td>700.0</td>\n",
       "      <td>7.0</td>\n",
       "      <td>8.0</td>\n",
       "      <td>285.0</td>\n",
       "      <td>4.0</td>\n",
       "      <td>...</td>\n",
       "      <td>5.0</td>\n",
       "      <td>491.0</td>\n",
       "      <td>5.0</td>\n",
       "      <td>NaN</td>\n",
       "      <td>NaN</td>\n",
       "      <td>NaN</td>\n",
       "      <td>NaN</td>\n",
       "      <td>NaN</td>\n",
       "      <td>NaN</td>\n",
       "      <td>NaN</td>\n",
       "    </tr>\n",
       "    <tr>\n",
       "      <th>50860</th>\n",
       "      <td>3140995</td>\n",
       "      <td>NaN</td>\n",
       "      <td>NaN</td>\n",
       "      <td>NaN</td>\n",
       "      <td>NaN</td>\n",
       "      <td>NaN</td>\n",
       "      <td>NaN</td>\n",
       "      <td>1.0</td>\n",
       "      <td>9.0</td>\n",
       "      <td>0.0</td>\n",
       "      <td>...</td>\n",
       "      <td>NaN</td>\n",
       "      <td>NaN</td>\n",
       "      <td>NaN</td>\n",
       "      <td>1.500000</td>\n",
       "      <td>NaN</td>\n",
       "      <td>3.670000</td>\n",
       "      <td>1.580000</td>\n",
       "      <td>1.914545</td>\n",
       "      <td>0.0</td>\n",
       "      <td>4.0</td>\n",
       "    </tr>\n",
       "  </tbody>\n",
       "</table>\n",
       "<p>50861 rows × 47 columns</p>\n",
       "</div>"
      ],
      "text/plain": [
       "       wine_id  red_fruit_count  red_fruit_score  red_fruit_mentions_count  \\\n",
       "0      1141133            387.0          61208.0                     612.0   \n",
       "1      2532733            145.0          17836.0                     177.0   \n",
       "2      1253802             88.0          10413.0                     103.0   \n",
       "3      1123441              NaN              NaN                       NaN   \n",
       "4      1157656             25.0           2248.0                      22.0   \n",
       "...        ...              ...              ...                       ...   \n",
       "50856  5563017              NaN              NaN                       NaN   \n",
       "50857  3849645             14.0           1816.0                      18.0   \n",
       "50858    97879              1.0            100.0                       1.0   \n",
       "50859  1196584              NaN              NaN                       NaN   \n",
       "50860  3140995              NaN              NaN                       NaN   \n",
       "\n",
       "       citrus_fruit_count  citrus_fruit_score  citrus_fruit_mentions_count  \\\n",
       "0                   130.0             15600.0                        156.0   \n",
       "1                     8.0              1200.0                         12.0   \n",
       "2                    10.0              1100.0                         11.0   \n",
       "3                     5.0               600.0                          6.0   \n",
       "4                   288.0             35400.0                        354.0   \n",
       "...                   ...                 ...                          ...   \n",
       "50856                 1.0               100.0                          1.0   \n",
       "50857                 1.0               100.0                          1.0   \n",
       "50858                 NaN                 NaN                          NaN   \n",
       "50859                 7.0               700.0                          7.0   \n",
       "50860                 NaN                 NaN                          NaN   \n",
       "\n",
       "       non_oak_count  non_oak_score  non_oak_mentions_count  ...  \\\n",
       "0              123.0         8830.0                   129.0  ...   \n",
       "1               87.0         1638.0                     7.0  ...   \n",
       "2               51.0          894.0                     3.0  ...   \n",
       "3                NaN            NaN                     NaN  ...   \n",
       "4               71.0         4511.0                    65.0  ...   \n",
       "...              ...            ...                     ...  ...   \n",
       "50856            NaN            NaN                     NaN  ...   \n",
       "50857            2.0           28.0                     0.0  ...   \n",
       "50858            NaN            NaN                     NaN  ...   \n",
       "50859            8.0          285.0                     4.0  ...   \n",
       "50860            1.0            9.0                     0.0  ...   \n",
       "\n",
       "       dried_fruit_count  dried_fruit_score  dried_fruit_mentions_count  \\\n",
       "0                    8.0              405.0                         3.0   \n",
       "1                    4.0              221.0                         2.0   \n",
       "2                    9.0              637.0                         6.0   \n",
       "3                    1.0              100.0                         1.0   \n",
       "4                    5.0              348.0                         3.0   \n",
       "...                  ...                ...                         ...   \n",
       "50856                NaN                NaN                         NaN   \n",
       "50857                1.0               16.0                         0.0   \n",
       "50858                NaN                NaN                         NaN   \n",
       "50859                5.0              491.0                         5.0   \n",
       "50860                NaN                NaN                         NaN   \n",
       "\n",
       "        acidity  fizziness  intensity  sweetness    tannin  \\\n",
       "0      4.283229   4.365849   3.687198        NaN       NaN   \n",
       "1           NaN        NaN        NaN        NaN       NaN   \n",
       "2           NaN        NaN        NaN        NaN       NaN   \n",
       "3           NaN        NaN        NaN        NaN       NaN   \n",
       "4      3.897176   3.910853   2.077880        NaN       NaN   \n",
       "...         ...        ...        ...        ...       ...   \n",
       "50856       NaN        NaN        NaN        NaN       NaN   \n",
       "50857  3.976166        NaN   3.439617   1.260703  1.937348   \n",
       "50858  3.172619        NaN   5.000000   1.000000  3.869048   \n",
       "50859       NaN        NaN        NaN        NaN       NaN   \n",
       "50860  1.500000        NaN   3.670000   1.580000  1.914545   \n",
       "\n",
       "       user_structure_count  calculated_structure_count  \n",
       "0                     505.0                        37.0  \n",
       "1                       NaN                         NaN  \n",
       "2                       NaN                         NaN  \n",
       "3                       NaN                         NaN  \n",
       "4                     165.0                       711.0  \n",
       "...                     ...                         ...  \n",
       "50856                   NaN                         NaN  \n",
       "50857                   8.0                        38.0  \n",
       "50858                   0.0                         2.0  \n",
       "50859                   NaN                         NaN  \n",
       "50860                   0.0                         4.0  \n",
       "\n",
       "[50861 rows x 47 columns]"
      ]
     },
     "execution_count": 19,
     "metadata": {},
     "output_type": "execute_result"
    }
   ],
   "source": [
    "taste = taste.rename(columns = {'Unnamed: 0' : 'wine_id'})\n",
    "taste"
   ]
  },
  {
   "cell_type": "code",
   "execution_count": null,
   "metadata": {
    "Collapsed": "false"
   },
   "outputs": [],
   "source": []
  }
 ],
 "metadata": {
  "kernelspec": {
   "display_name": "Python 3",
   "language": "python",
   "name": "python3"
  },
  "language_info": {
   "codemirror_mode": {
    "name": "ipython",
    "version": 3
   },
   "file_extension": ".py",
   "mimetype": "text/x-python",
   "name": "python",
   "nbconvert_exporter": "python",
   "pygments_lexer": "ipython3",
   "version": "3.7.6"
  }
 },
 "nbformat": 4,
 "nbformat_minor": 4
}
