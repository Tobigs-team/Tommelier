{
 "cells": [
  {
   "cell_type": "code",
   "execution_count": 1,
   "metadata": {
    "Collapsed": "false",
    "colab": {
     "base_uri": "https://localhost:8080/"
    },
    "id": "ZFBVzfzobB0S",
    "outputId": "d4efccad-19ba-46b1-cfff-87e3bc94dc3e"
   },
   "outputs": [
    {
     "name": "stdout",
     "output_type": "stream",
     "text": [
      "Mounted at /content/drive\n"
     ]
    }
   ],
   "source": [
    "from google.colab import drive\n",
    "drive.mount('/content/drive')"
   ]
  },
  {
   "cell_type": "code",
   "execution_count": 2,
   "metadata": {
    "Collapsed": "false",
    "colab": {
     "base_uri": "https://localhost:8080/"
    },
    "id": "rouaonGDgrmA",
    "outputId": "bf7529ae-d737-40cf-b8ca-ca61cde36069"
   },
   "outputs": [
    {
     "name": "stdout",
     "output_type": "stream",
     "text": [
      "/content/drive/MyDrive/논문/Youtube-Recommendation/Movie-Lens\n"
     ]
    }
   ],
   "source": [
    "cd /content/drive/MyDrive/논문/Youtube-Recommendation/Movie-Lens"
   ]
  },
  {
   "cell_type": "code",
   "execution_count": 20,
   "metadata": {
    "Collapsed": "false",
    "colab": {
     "base_uri": "https://localhost:8080/"
    },
    "id": "WWYgziqHlY00",
    "outputId": "8ef654ca-cb82-44dc-cf61-ac930e4800c4"
   },
   "outputs": [
    {
     "name": "stdout",
     "output_type": "stream",
     "text": [
      " dataset.pkl\n",
      " \u001b[0m\u001b[01;34mlogs\u001b[0m/\n",
      " meta.tsv\n",
      " \u001b[01;34mml-100k\u001b[0m/\n",
      " model.png\n",
      " MovieLens_Youtube_Recommendation_Candidate_Generation_Network.ipynb\n",
      " movielens.zip\n",
      " vecs.tsv\n",
      "'Wine_Candidate_Rec_[Youtube_Recommendation_Candidate_Generation_Network].ipynb'\n"
     ]
    }
   ],
   "source": [
    "ls"
   ]
  },
  {
   "cell_type": "code",
   "execution_count": 21,
   "metadata": {
    "Collapsed": "false",
    "id": "SlxO4osBVp90"
   },
   "outputs": [],
   "source": [
    "import os\n",
    "import sys\n",
    "import joblib\n",
    "import numpy as n\n",
    "import pandas as pd"
   ]
  },
  {
   "cell_type": "code",
   "execution_count": 22,
   "metadata": {
    "Collapsed": "false",
    "cellView": "both",
    "id": "w0X07ZW9Gy_K"
   },
   "outputs": [],
   "source": [
    "data = joblib.load('./dataset.pkl')\n",
    "locals().update(data)"
   ]
  },
  {
   "cell_type": "code",
   "execution_count": 23,
   "metadata": {
    "Collapsed": "false",
    "colab": {
     "base_uri": "https://localhost:8080/",
     "height": 419
    },
    "id": "f_MlFnk_OCbf",
    "outputId": "b6941941-08ed-4b35-f7f4-59f6bfc316a7"
   },
   "outputs": [
    {
     "data": {
      "text/html": [
       "<div>\n",
       "<style scoped>\n",
       "    .dataframe tbody tr th:only-of-type {\n",
       "        vertical-align: middle;\n",
       "    }\n",
       "\n",
       "    .dataframe tbody tr th {\n",
       "        vertical-align: top;\n",
       "    }\n",
       "\n",
       "    .dataframe thead th {\n",
       "        text-align: right;\n",
       "    }\n",
       "</style>\n",
       "<table border=\"1\" class=\"dataframe\">\n",
       "  <thead>\n",
       "    <tr style=\"text-align: right;\">\n",
       "      <th></th>\n",
       "      <th>userID</th>\n",
       "      <th>wine_id</th>\n",
       "      <th>rating</th>\n",
       "      <th>enc_userID</th>\n",
       "      <th>enc_wine_id</th>\n",
       "      <th>recent</th>\n",
       "      <th>like</th>\n",
       "      <th>dislike</th>\n",
       "    </tr>\n",
       "  </thead>\n",
       "  <tbody>\n",
       "    <tr>\n",
       "      <th>0</th>\n",
       "      <td>19484511</td>\n",
       "      <td>2532733</td>\n",
       "      <td>4.0</td>\n",
       "      <td>0</td>\n",
       "      <td>0</td>\n",
       "      <td>[1, 2, 3, 4, 5, 6, 7, 8, 9, 10]</td>\n",
       "      <td>[13, 20, 23, 25, 35, 38, 40, 41, 45, 46]</td>\n",
       "      <td>[6, 15, 28, 30, 31, 37, 61, 62, 67, 70]</td>\n",
       "    </tr>\n",
       "    <tr>\n",
       "      <th>1</th>\n",
       "      <td>19484511</td>\n",
       "      <td>1253802</td>\n",
       "      <td>3.5</td>\n",
       "      <td>0</td>\n",
       "      <td>1</td>\n",
       "      <td>[2, 3, 4, 5, 6, 7, 8, 9, 10, 11]</td>\n",
       "      <td>[13, 20, 23, 25, 35, 38, 40, 41, 45, 46]</td>\n",
       "      <td>[6, 15, 28, 30, 31, 37, 61, 62, 67, 70]</td>\n",
       "    </tr>\n",
       "    <tr>\n",
       "      <th>2</th>\n",
       "      <td>19484511</td>\n",
       "      <td>1123441</td>\n",
       "      <td>3.5</td>\n",
       "      <td>0</td>\n",
       "      <td>2</td>\n",
       "      <td>[3, 4, 5, 6, 7, 8, 9, 10, 11, 12]</td>\n",
       "      <td>[13, 20, 23, 25, 35, 38, 40, 41, 45, 46]</td>\n",
       "      <td>[6, 15, 28, 30, 31, 37, 61, 62, 67, 70]</td>\n",
       "    </tr>\n",
       "    <tr>\n",
       "      <th>3</th>\n",
       "      <td>19484511</td>\n",
       "      <td>1157656</td>\n",
       "      <td>3.5</td>\n",
       "      <td>0</td>\n",
       "      <td>3</td>\n",
       "      <td>[4, 5, 6, 7, 8, 9, 10, 11, 12, 13]</td>\n",
       "      <td>[13, 20, 23, 25, 35, 38, 40, 41, 45, 46]</td>\n",
       "      <td>[6, 15, 28, 30, 31, 37, 61, 62, 67, 70]</td>\n",
       "    </tr>\n",
       "    <tr>\n",
       "      <th>4</th>\n",
       "      <td>19484511</td>\n",
       "      <td>1134756</td>\n",
       "      <td>3.5</td>\n",
       "      <td>0</td>\n",
       "      <td>4</td>\n",
       "      <td>[5, 6, 7, 8, 9, 10, 11, 12, 13, 14]</td>\n",
       "      <td>[13, 20, 23, 25, 35, 38, 40, 41, 45, 46]</td>\n",
       "      <td>[6, 15, 28, 30, 31, 37, 61, 62, 67, 70]</td>\n",
       "    </tr>\n",
       "    <tr>\n",
       "      <th>...</th>\n",
       "      <td>...</td>\n",
       "      <td>...</td>\n",
       "      <td>...</td>\n",
       "      <td>...</td>\n",
       "      <td>...</td>\n",
       "      <td>...</td>\n",
       "      <td>...</td>\n",
       "      <td>...</td>\n",
       "    </tr>\n",
       "    <tr>\n",
       "      <th>937751</th>\n",
       "      <td>16607503</td>\n",
       "      <td>1135203</td>\n",
       "      <td>3.5</td>\n",
       "      <td>6342</td>\n",
       "      <td>4672</td>\n",
       "      <td>[1023, 14075, 3894, 4067]</td>\n",
       "      <td>[]</td>\n",
       "      <td>[1023]</td>\n",
       "    </tr>\n",
       "    <tr>\n",
       "      <th>937752</th>\n",
       "      <td>16607503</td>\n",
       "      <td>4303173</td>\n",
       "      <td>3.0</td>\n",
       "      <td>6342</td>\n",
       "      <td>1023</td>\n",
       "      <td>[14075, 3894, 4067]</td>\n",
       "      <td>[]</td>\n",
       "      <td>[1023]</td>\n",
       "    </tr>\n",
       "    <tr>\n",
       "      <th>937753</th>\n",
       "      <td>16607503</td>\n",
       "      <td>2364090</td>\n",
       "      <td>4.0</td>\n",
       "      <td>6342</td>\n",
       "      <td>14075</td>\n",
       "      <td>[3894, 4067]</td>\n",
       "      <td>[]</td>\n",
       "      <td>[]</td>\n",
       "    </tr>\n",
       "    <tr>\n",
       "      <th>937754</th>\n",
       "      <td>16607503</td>\n",
       "      <td>1679387</td>\n",
       "      <td>3.5</td>\n",
       "      <td>6342</td>\n",
       "      <td>3894</td>\n",
       "      <td>[4067]</td>\n",
       "      <td>[]</td>\n",
       "      <td>[]</td>\n",
       "    </tr>\n",
       "    <tr>\n",
       "      <th>937755</th>\n",
       "      <td>16607503</td>\n",
       "      <td>1838367</td>\n",
       "      <td>4.0</td>\n",
       "      <td>6342</td>\n",
       "      <td>4067</td>\n",
       "      <td>[]</td>\n",
       "      <td>[]</td>\n",
       "      <td>[]</td>\n",
       "    </tr>\n",
       "  </tbody>\n",
       "</table>\n",
       "<p>937756 rows × 8 columns</p>\n",
       "</div>"
      ],
      "text/plain": [
       "          userID  ...                                  dislike\n",
       "0       19484511  ...  [6, 15, 28, 30, 31, 37, 61, 62, 67, 70]\n",
       "1       19484511  ...  [6, 15, 28, 30, 31, 37, 61, 62, 67, 70]\n",
       "2       19484511  ...  [6, 15, 28, 30, 31, 37, 61, 62, 67, 70]\n",
       "3       19484511  ...  [6, 15, 28, 30, 31, 37, 61, 62, 67, 70]\n",
       "4       19484511  ...  [6, 15, 28, 30, 31, 37, 61, 62, 67, 70]\n",
       "...          ...  ...                                      ...\n",
       "937751  16607503  ...                                   [1023]\n",
       "937752  16607503  ...                                   [1023]\n",
       "937753  16607503  ...                                       []\n",
       "937754  16607503  ...                                       []\n",
       "937755  16607503  ...                                       []\n",
       "\n",
       "[937756 rows x 8 columns]"
      ]
     },
     "execution_count": 23,
     "metadata": {
      "tags": []
     },
     "output_type": "execute_result"
    }
   ],
   "source": [
    "train"
   ]
  },
  {
   "cell_type": "code",
   "execution_count": 24,
   "metadata": {
    "Collapsed": "false",
    "id": "AaZv8WJKvemo"
   },
   "outputs": [],
   "source": [
    "train = train.sample(frac = 1)"
   ]
  },
  {
   "cell_type": "code",
   "execution_count": 11,
   "metadata": {
    "Collapsed": "false",
    "id": "ghtXaAKlsTgu"
   },
   "outputs": [],
   "source": [
    "EMBEDDING_DIMS = 100\n",
    "DENSE_UNITS = 64\n",
    "DROPOUT_PCT = 0.0\n",
    "ALPHA = 0.0\n",
    "NUM_CLASSES = 50861\n",
    "LEARNING_RATE = 0.003"
   ]
  },
  {
   "cell_type": "code",
   "execution_count": 12,
   "metadata": {
    "Collapsed": "false",
    "id": "q1RSdIccs8NJ"
   },
   "outputs": [],
   "source": [
    "import tensorflow as tf\n",
    "import keras\n",
    "class MaskedEmbeddingsAggregatorLayer(tf.keras.layers.Layer):\n",
    "    def __init__(self, agg_mode='sum', **kwargs):\n",
    "        super(MaskedEmbeddingsAggregatorLayer, self).__init__(**kwargs)\n",
    "\n",
    "        if agg_mode not in ['sum', 'mean']:\n",
    "            raise NotImplementedError('mode {} not implemented!'.format(agg_mode))\n",
    "        self.agg_mode = agg_mode\n",
    "    \n",
    "    @tf.function\n",
    "    def call(self, inputs, mask=None):\n",
    "        masked_embeddings = tf.ragged.boolean_mask(inputs, mask)\n",
    "        if self.agg_mode == 'sum':\n",
    "            aggregated =  tf.reduce_sum(masked_embeddings, axis=1)\n",
    "        elif self.agg_mode == 'mean':\n",
    "            aggregated = tf.reduce_mean(masked_embeddings, axis=1)\n",
    "        \n",
    "        return aggregated\n",
    "    \n",
    "    def get_config(self):\n",
    "        # this is used when loading a saved model that uses a custom layer\n",
    "        return {'agg_mode': self.agg_mode}"
   ]
  },
  {
   "cell_type": "code",
   "execution_count": 13,
   "metadata": {
    "Collapsed": "false",
    "id": "j3eZD-JlL6vG"
   },
   "outputs": [],
   "source": [
    "class L2NormLayer(tf.keras.layers.Layer):\n",
    "    def __init__(self, **kwargs):\n",
    "        super(L2NormLayer, self).__init__(**kwargs)\n",
    "    \n",
    "    @tf.function\n",
    "    def call(self, inputs, mask=None):\n",
    "        if mask is not None:\n",
    "            inputs = tf.ragged.boolean_mask(inputs, mask).to_tensor()\n",
    "        return tf.math.l2_normalize(inputs, axis=-1)\n",
    "\n",
    "    def compute_mask(self, inputs, mask):\n",
    "        return mask\n",
    "    "
   ]
  },
  {
   "cell_type": "code",
   "execution_count": 16,
   "metadata": {
    "Collapsed": "false",
    "id": "oiSAcgdppP4N"
   },
   "outputs": [],
   "source": [
    "#---inputs\n",
    "import tensorflow as tf\n",
    "import datetime\n",
    "import os\n",
    "input_recent = tf.keras.Input(shape=(None, ), name='recent')\n",
    "inp_liked = tf.keras.layers.Input(shape=(None,), name='like')\n",
    "inp_disliked = tf.keras.layers.Input(shape=(None,), name='dislike')\n",
    "# input_profile = tf.keras.Input(shape=(, 4), name='profile')\n",
    "\n",
    "\n",
    "#--- layers\n",
    "# features_embedding_layer = tf.keras.layers.Embedding(input_dim=NUM_CLASSES, output_dim=EMBEDDING_DIMS, \n",
    "#                                             mask_zero=True, trainable=True, name='features_embeddings')\n",
    "labels_embedding_layer = tf.keras.layers.Embedding(input_dim = NUM_CLASSES, output_dim = EMBEDDING_DIMS, \n",
    "                                            mask_zero=True, trainable=True, name='labels_embeddings')\n",
    "\n",
    "avg_embeddings = MaskedEmbeddingsAggregatorLayer(agg_mode='mean', name='aggregate_embeddings')\n",
    "\n",
    "dense_1 = tf.keras.layers.Dense(units=256, name='dense_1')\n",
    "dense_2 = tf.keras.layers.Dense(units=128, name='dense_2')\n",
    "dense_3 = tf.keras.layers.Dense(units=64, name='dense_3')\n",
    "l2_norm_1 = L2NormLayer(name='l2_norm_1')\n",
    "\n",
    "dense_output = tf.keras.layers.Dense(1,\n",
    "                                    #  activation=tf.nn.softmax,\n",
    "                                     name='dense_output')\n",
    "\n",
    "# --- features\n",
    "\n",
    "# features_embeddings = features_embedding_layer(input_profile)\n",
    "# l2_norm_features = l2_norm_1(features_embeddings)\n",
    "# avg_features = avg_embeddings(l2_norm_features)\n",
    "\n",
    "# dense_profile = tf.keras.layers.Dense(units = 16, name='dense_profile')\n",
    "# dense_1_profile = dense_profile(input_profile)\n",
    "# dense_1_profile_relu = tf.keras.layers.ReLU(name='dense_1_profile_relu')(dense_1_profile)\n",
    "\n",
    "\n",
    "\n",
    "labels_liked_embeddings = labels_embedding_layer(inp_liked)\n",
    "l2_norm_liked = l2_norm_1(labels_liked_embeddings)\n",
    "avg_liked = avg_embeddings(l2_norm_liked)\n",
    "\n",
    "labels_disliked_embeddings = labels_embedding_layer(inp_disliked)\n",
    "l2_norm_disliked = l2_norm_1(labels_disliked_embeddings)\n",
    "avg_disliked = avg_embeddings(l2_norm_disliked)\n",
    "\n",
    "labels_genre_embeddings = labels_embedding_layer(input_recent)\n",
    "l2_norm_genre = l2_norm_1(labels_genre_embeddings)\n",
    "avg_recent = avg_embeddings(l2_norm_genre)\n",
    "\n",
    "\n",
    "\n",
    "concat_inputs = tf.keras.layers.Concatenate(axis=1)([\n",
    "                                                    #  avg_features,\n",
    "                                                    #  dense_1_profile_relu,\n",
    "                                                     avg_liked,\n",
    "                                                     avg_disliked,\n",
    "                                                     avg_recent\n",
    "                                                     ])\n",
    "# Dense Layers\n",
    "dense_1_features = dense_1(concat_inputs)\n",
    "dense_1_relu = tf.keras.layers.ReLU(name='dense_1_relu')(dense_1_features)\n",
    "dense_1_batch_norm = tf.keras.layers.BatchNormalization(name='dense_1_batch_norm')(dense_1_relu)\n",
    "\n",
    "dense_2_features = dense_2(dense_1_relu)\n",
    "dense_2_relu = tf.keras.layers.ReLU(name='dense_2_relu')(dense_2_features)\n",
    "#dense_2_batch_norm = tf.keras.layers.BatchNormalization(name='dense_2_batch_norm')(dense_2_relu)\n",
    "\n",
    "dense_3_features = dense_3(dense_2_relu)\n",
    "dense_3_relu = tf.keras.layers.ReLU(name='dense_3_relu')(dense_3_features)\n",
    "dense_3_batch_norm = tf.keras.layers.BatchNormalization(name='dense_3_batch_norm')(dense_3_relu)\n",
    "outputs = dense_output(dense_3_batch_norm)\n",
    "\n",
    "#Optimizer\n",
    "optimiser = tf.keras.optimizers.Adam(learning_rate = LEARNING_RATE)\n",
    "\n",
    "#--- prep model\n",
    "model = tf.keras.models.Model(\n",
    "    inputs=[\n",
    "            # input_profile,\n",
    "            inp_liked, \n",
    "            inp_disliked\n",
    "            ,input_recent\n",
    "            ],\n",
    "    outputs=[outputs]\n",
    ")\n",
    "logdir = os.path.join(\"logs\", datetime.datetime.now().strftime(\"%Y%m%d-%H%M%S\"))\n",
    "tensorboard_callback = tf.keras.callbacks.TensorBoard(logdir, histogram_freq=1)\n",
    "model.compile(optimizer = optimiser,\n",
    "              loss='mean_squared_error',\n",
    "              metrics=['mae', 'mse'])"
   ]
  },
  {
   "cell_type": "code",
   "execution_count": 17,
   "metadata": {
    "Collapsed": "false",
    "colab": {
     "base_uri": "https://localhost:8080/",
     "height": 1000
    },
    "id": "QVKy8Axrt-EU",
    "outputId": "fc296179-6365-4fdd-8e5a-c8e082548c01"
   },
   "outputs": [
    {
     "data": {
      "image/png": "[encoded data removed]",
      "text/plain": [
       "<IPython.core.display.Image object>"
      ]
     },
     "execution_count": 17,
     "metadata": {
      "tags": []
     },
     "output_type": "execute_result"
    }
   ],
   "source": [
    "tf.keras.utils.plot_model(model, show_shapes=True, show_layer_names=True,dpi=96)"
   ]
  },
  {
   "cell_type": "code",
   "execution_count": 18,
   "metadata": {
    "Collapsed": "false",
    "id": "gBc4ac7o1apk"
   },
   "outputs": [],
   "source": [
    "callbacks_list = [\n",
    "                  keras.callbacks.EarlyStopping(\n",
    "                    monitor = 'mse',\n",
    "                    patience = 5\n",
    "                  )\n",
    "]"
   ]
  },
  {
   "cell_type": "code",
   "execution_count": 25,
   "metadata": {
    "Collapsed": "false",
    "colab": {
     "base_uri": "https://localhost:8080/"
    },
    "id": "4JO-DHTTuDoC",
    "outputId": "9bbc0c3e-6499-4060-d46e-aff447391a94"
   },
   "outputs": [
    {
     "name": "stdout",
     "output_type": "stream",
     "text": [
      "Epoch 1/500\n",
      "916/916 [==============================] - 72s 75ms/step - loss: 2.3180 - mae: 1.0077 - mse: 2.3180\n",
      "Epoch 2/500\n",
      "916/916 [==============================] - 68s 75ms/step - loss: 0.4521 - mae: 0.5078 - mse: 0.4521\n",
      "Epoch 3/500\n",
      "916/916 [==============================] - 68s 74ms/step - loss: 0.4517 - mae: 0.5077 - mse: 0.4517\n",
      "Epoch 4/500\n",
      "916/916 [==============================] - 67s 74ms/step - loss: 0.4524 - mae: 0.5081 - mse: 0.4524\n",
      "Epoch 5/500\n",
      "916/916 [==============================] - 67s 73ms/step - loss: 0.4521 - mae: 0.5071 - mse: 0.4521\n",
      "Epoch 6/500\n",
      "916/916 [==============================] - 67s 73ms/step - loss: 0.4535 - mae: 0.5082 - mse: 0.4535\n",
      "Epoch 7/500\n",
      "916/916 [==============================] - 67s 73ms/step - loss: 0.4524 - mae: 0.5079 - mse: 0.4524\n"
     ]
    },
    {
     "data": {
      "text/plain": [
       "<tensorflow.python.keras.callbacks.History at 0x7f343f8d7f98>"
      ]
     },
     "execution_count": 25,
     "metadata": {
      "tags": []
     },
     "output_type": "execute_result"
    }
   ],
   "source": [
    "model.fit([\n",
    "          #  tf.keras.preprocessing.sequence.pad_sequences(dataset['profile']),\n",
    "           tf.keras.preprocessing.sequence.pad_sequences(train['like']),\n",
    "           tf.keras.preprocessing.sequence.pad_sequences(train['dislike']),\n",
    "           tf.keras.preprocessing.sequence.pad_sequences(train['recent'])\n",
    "           ],\n",
    "          train['rating'].values,\n",
    "          # callbacks=[tensorboard_callback],\n",
    "          batch_size = 1024,\n",
    "          # steps_per_epoch = 1,\n",
    "          epochs = 500,\n",
    "          callbacks = callbacks_list,\n",
    "          # validation_data = ([\n",
    "          #                     tf.keras.preprocessing.sequence.pad_sequences(test['like']),\n",
    "          #                     tf.keras.preprocessing.sequence.pad_sequences(test['dislike']),\n",
    "          #                     tf.keras.preprocessing.sequence.pad_sequences(test['recent'])\n",
    "          # ], test['rating'].values)\n",
    "          )"
   ]
  },
  {
   "cell_type": "code",
   "execution_count": 32,
   "metadata": {
    "Collapsed": "false",
    "id": "n_7kWl1i2d1P"
   },
   "outputs": [],
   "source": [
    "predict = model.predict([\n",
    "                        tf.keras.preprocessing.sequence.pad_sequences(train['like']),\n",
    "                        tf.keras.preprocessing.sequence.pad_sequences(train['dislike']),\n",
    "                        tf.keras.preprocessing.sequence.pad_sequences(train['recent'])\n",
    "])\n",
    "                                                                  "
   ]
  },
  {
   "cell_type": "code",
   "execution_count": 41,
   "metadata": {
    "Collapsed": "false",
    "colab": {
     "base_uri": "https://localhost:8080/"
    },
    "id": "-um2fRuP8BMK",
    "outputId": "72216931-120a-4ab7-a93c-21dba76b3156"
   },
   "outputs": [
    {
     "data": {
      "text/plain": [
       "3.926826    937756\n",
       "dtype: int64"
      ]
     },
     "execution_count": 41,
     "metadata": {
      "tags": []
     },
     "output_type": "execute_result"
    }
   ],
   "source": [
    "pd.Series([p[0] for p in predict]).value_counts()"
   ]
  },
  {
   "cell_type": "code",
   "execution_count": null,
   "metadata": {
    "Collapsed": "false",
    "id": "hWpZbguytyrq"
   },
   "outputs": [],
   "source": [
    "predict = model.predict([\n",
    "                        tf.keras.preprocessing.sequence.pad_sequences(test['like']),\n",
    "                        tf.keras.preprocessing.sequence.pad_sequences(test['dislike']),\n",
    "                        tf.keras.preprocessing.sequence.pad_sequences(test['recent')\n",
    "])\n",
    "                                                                  "
   ]
  },
  {
   "cell_type": "code",
   "execution_count": null,
   "metadata": {
    "Collapsed": "false",
    "id": "A_ZDUrRAl4HP"
   },
   "outputs": [],
   "source": [
    "user_list_1=user_title_list[user_title_list.user>600]"
   ]
  },
  {
   "cell_type": "code",
   "execution_count": null,
   "metadata": {
    "Collapsed": "false",
    "id": "wNzj3no-5FF1"
   },
   "outputs": [],
   "source": [
    "user_list_1.head(10)"
   ]
  },
  {
   "cell_type": "code",
   "execution_count": null,
   "metadata": {
    "Collapsed": "false",
    "id": "PvrKzKZPkh4Y"
   },
   "outputs": [],
   "source": [
    "predict =model.predict([tf.keras.preprocessing.sequence.pad_sequences(user_list_1['title_d']),\n",
    "          tf.keras.preprocessing.sequence.pad_sequences(user_list_1['like']),\n",
    "          tf.keras.preprocessing.sequence.pad_sequences(user_list_1['dislike']),\n",
    "          tf.keras.preprocessing.sequence.pad_sequences(user_list_1['all_genres'])\n",
    "          ])\n"
   ]
  },
  {
   "cell_type": "code",
   "execution_count": null,
   "metadata": {
    "Collapsed": "false",
    "id": "tpJtG5to6CI3"
   },
   "outputs": [],
   "source": [
    "import numpy as np"
   ]
  },
  {
   "cell_type": "code",
   "execution_count": null,
   "metadata": {
    "Collapsed": "false",
    "colab": {
     "base_uri": "https://localhost:8080/",
     "height": 1000
    },
    "id": "XUVbajaou5dw",
    "outputId": "a2ffabd4-1a19-4038-b59c-e8f666f589f1"
   },
   "outputs": [
    {
     "data": {
      "text/html": [
       "<div>\n",
       "<style scoped>\n",
       "    .dataframe tbody tr th:only-of-type {\n",
       "        vertical-align: middle;\n",
       "    }\n",
       "\n",
       "    .dataframe tbody tr th {\n",
       "        vertical-align: top;\n",
       "    }\n",
       "\n",
       "    .dataframe thead th {\n",
       "        text-align: right;\n",
       "    }\n",
       "</style>\n",
       "<table border=\"1\" class=\"dataframe\">\n",
       "  <thead>\n",
       "    <tr style=\"text-align: right;\">\n",
       "      <th></th>\n",
       "      <th>0</th>\n",
       "    </tr>\n",
       "  </thead>\n",
       "  <tbody>\n",
       "    <tr>\n",
       "      <th>0</th>\n",
       "      <td>602</td>\n",
       "    </tr>\n",
       "    <tr>\n",
       "      <th>1</th>\n",
       "      <td>602</td>\n",
       "    </tr>\n",
       "    <tr>\n",
       "      <th>2</th>\n",
       "      <td>602</td>\n",
       "    </tr>\n",
       "    <tr>\n",
       "      <th>3</th>\n",
       "      <td>602</td>\n",
       "    </tr>\n",
       "    <tr>\n",
       "      <th>4</th>\n",
       "      <td>602</td>\n",
       "    </tr>\n",
       "    <tr>\n",
       "      <th>5</th>\n",
       "      <td>602</td>\n",
       "    </tr>\n",
       "    <tr>\n",
       "      <th>6</th>\n",
       "      <td>602</td>\n",
       "    </tr>\n",
       "    <tr>\n",
       "      <th>7</th>\n",
       "      <td>602</td>\n",
       "    </tr>\n",
       "    <tr>\n",
       "      <th>8</th>\n",
       "      <td>602</td>\n",
       "    </tr>\n",
       "    <tr>\n",
       "      <th>9</th>\n",
       "      <td>602</td>\n",
       "    </tr>\n",
       "    <tr>\n",
       "      <th>10</th>\n",
       "      <td>602</td>\n",
       "    </tr>\n",
       "    <tr>\n",
       "      <th>11</th>\n",
       "      <td>602</td>\n",
       "    </tr>\n",
       "    <tr>\n",
       "      <th>12</th>\n",
       "      <td>602</td>\n",
       "    </tr>\n",
       "    <tr>\n",
       "      <th>13</th>\n",
       "      <td>602</td>\n",
       "    </tr>\n",
       "    <tr>\n",
       "      <th>14</th>\n",
       "      <td>602</td>\n",
       "    </tr>\n",
       "    <tr>\n",
       "      <th>15</th>\n",
       "      <td>602</td>\n",
       "    </tr>\n",
       "    <tr>\n",
       "      <th>16</th>\n",
       "      <td>602</td>\n",
       "    </tr>\n",
       "    <tr>\n",
       "      <th>17</th>\n",
       "      <td>602</td>\n",
       "    </tr>\n",
       "    <tr>\n",
       "      <th>18</th>\n",
       "      <td>602</td>\n",
       "    </tr>\n",
       "    <tr>\n",
       "      <th>19</th>\n",
       "      <td>602</td>\n",
       "    </tr>\n",
       "    <tr>\n",
       "      <th>20</th>\n",
       "      <td>602</td>\n",
       "    </tr>\n",
       "    <tr>\n",
       "      <th>21</th>\n",
       "      <td>602</td>\n",
       "    </tr>\n",
       "    <tr>\n",
       "      <th>22</th>\n",
       "      <td>602</td>\n",
       "    </tr>\n",
       "    <tr>\n",
       "      <th>23</th>\n",
       "      <td>602</td>\n",
       "    </tr>\n",
       "    <tr>\n",
       "      <th>24</th>\n",
       "      <td>602</td>\n",
       "    </tr>\n",
       "    <tr>\n",
       "      <th>25</th>\n",
       "      <td>602</td>\n",
       "    </tr>\n",
       "    <tr>\n",
       "      <th>26</th>\n",
       "      <td>602</td>\n",
       "    </tr>\n",
       "    <tr>\n",
       "      <th>27</th>\n",
       "      <td>602</td>\n",
       "    </tr>\n",
       "    <tr>\n",
       "      <th>28</th>\n",
       "      <td>602</td>\n",
       "    </tr>\n",
       "    <tr>\n",
       "      <th>29</th>\n",
       "      <td>602</td>\n",
       "    </tr>\n",
       "    <tr>\n",
       "      <th>30</th>\n",
       "      <td>602</td>\n",
       "    </tr>\n",
       "    <tr>\n",
       "      <th>31</th>\n",
       "      <td>602</td>\n",
       "    </tr>\n",
       "    <tr>\n",
       "      <th>32</th>\n",
       "      <td>602</td>\n",
       "    </tr>\n",
       "    <tr>\n",
       "      <th>33</th>\n",
       "      <td>602</td>\n",
       "    </tr>\n",
       "    <tr>\n",
       "      <th>34</th>\n",
       "      <td>602</td>\n",
       "    </tr>\n",
       "    <tr>\n",
       "      <th>35</th>\n",
       "      <td>602</td>\n",
       "    </tr>\n",
       "    <tr>\n",
       "      <th>36</th>\n",
       "      <td>602</td>\n",
       "    </tr>\n",
       "    <tr>\n",
       "      <th>37</th>\n",
       "      <td>602</td>\n",
       "    </tr>\n",
       "    <tr>\n",
       "      <th>38</th>\n",
       "      <td>602</td>\n",
       "    </tr>\n",
       "    <tr>\n",
       "      <th>39</th>\n",
       "      <td>602</td>\n",
       "    </tr>\n",
       "    <tr>\n",
       "      <th>40</th>\n",
       "      <td>602</td>\n",
       "    </tr>\n",
       "    <tr>\n",
       "      <th>41</th>\n",
       "      <td>602</td>\n",
       "    </tr>\n",
       "    <tr>\n",
       "      <th>42</th>\n",
       "      <td>602</td>\n",
       "    </tr>\n",
       "    <tr>\n",
       "      <th>43</th>\n",
       "      <td>602</td>\n",
       "    </tr>\n",
       "    <tr>\n",
       "      <th>44</th>\n",
       "      <td>602</td>\n",
       "    </tr>\n",
       "    <tr>\n",
       "      <th>45</th>\n",
       "      <td>602</td>\n",
       "    </tr>\n",
       "    <tr>\n",
       "      <th>46</th>\n",
       "      <td>602</td>\n",
       "    </tr>\n",
       "    <tr>\n",
       "      <th>47</th>\n",
       "      <td>602</td>\n",
       "    </tr>\n",
       "    <tr>\n",
       "      <th>48</th>\n",
       "      <td>602</td>\n",
       "    </tr>\n",
       "    <tr>\n",
       "      <th>49</th>\n",
       "      <td>602</td>\n",
       "    </tr>\n",
       "  </tbody>\n",
       "</table>\n",
       "</div>"
      ],
      "text/plain": [
       "      0\n",
       "0   602\n",
       "1   602\n",
       "2   602\n",
       "3   602\n",
       "4   602\n",
       "5   602\n",
       "6   602\n",
       "7   602\n",
       "8   602\n",
       "9   602\n",
       "10  602\n",
       "11  602\n",
       "12  602\n",
       "13  602\n",
       "14  602\n",
       "15  602\n",
       "16  602\n",
       "17  602\n",
       "18  602\n",
       "19  602\n",
       "20  602\n",
       "21  602\n",
       "22  602\n",
       "23  602\n",
       "24  602\n",
       "25  602\n",
       "26  602\n",
       "27  602\n",
       "28  602\n",
       "29  602\n",
       "30  602\n",
       "31  602\n",
       "32  602\n",
       "33  602\n",
       "34  602\n",
       "35  602\n",
       "36  602\n",
       "37  602\n",
       "38  602\n",
       "39  602\n",
       "40  602\n",
       "41  602\n",
       "42  602\n",
       "43  602\n",
       "44  602\n",
       "45  602\n",
       "46  602\n",
       "47  602\n",
       "48  602\n",
       "49  602"
      ]
     },
     "execution_count": 26,
     "metadata": {
      "tags": []
     },
     "output_type": "execute_result"
    }
   ],
   "source": [
    "predictions = np.array([np.argmax(a) for a in predict])\n",
    "pd.DataFrame(predictions)"
   ]
  },
  {
   "cell_type": "code",
   "execution_count": null,
   "metadata": {
    "Collapsed": "false",
    "colab": {
     "base_uri": "https://localhost:8080/"
    },
    "id": "ipF0AhIGuHnv",
    "outputId": "dab42c60-cdff-41de-a0d6-7312889af5da"
   },
   "outputs": [
    {
     "data": {
      "text/plain": [
       "1        39572\n",
       "3         6689\n",
       "6        42949\n",
       "9        33103\n",
       "11        2694\n",
       "         ...  \n",
       "35747    30653\n",
       "35786     5478\n",
       "35792     7551\n",
       "35793    28711\n",
       "35796     5119\n",
       "Name: label, Length: 6229, dtype: int64"
      ]
     },
     "execution_count": 88,
     "metadata": {
      "tags": []
     },
     "output_type": "execute_result"
    }
   ],
   "source": [
    "dataset2['label']"
   ]
  },
  {
   "cell_type": "code",
   "execution_count": null,
   "metadata": {
    "Collapsed": "false",
    "colab": {
     "base_uri": "https://localhost:8080/",
     "height": 164
    },
    "id": "0-_AdFYpuFOb",
    "outputId": "1cf892ca-e8e9-4125-f78b-de2e83934d93"
   },
   "outputs": [
    {
     "ename": "NameError",
     "evalue": "ignored",
     "output_type": "error",
     "traceback": [
      "\u001b[0;31m---------------------------------------------------------------------------\u001b[0m",
      "\u001b[0;31mNameError\u001b[0m                                 Traceback (most recent call last)",
      "\u001b[0;32m<ipython-input-17-84cf2329bbe8>\u001b[0m in \u001b[0;36m<module>\u001b[0;34m()\u001b[0m\n\u001b[0;32m----> 1\u001b[0;31m \u001b[0mpd\u001b[0m\u001b[0;34m.\u001b[0m\u001b[0mDataFrame\u001b[0m\u001b[0;34m(\u001b[0m\u001b[0mpredictions\u001b[0m\u001b[0;34m)\u001b[0m\u001b[0;34m\u001b[0m\u001b[0;34m\u001b[0m\u001b[0m\n\u001b[0m",
      "\u001b[0;31mNameError\u001b[0m: name 'predictions' is not defined"
     ]
    }
   ],
   "source": []
  },
  {
   "cell_type": "code",
   "execution_count": null,
   "metadata": {
    "Collapsed": "false",
    "id": "gCgcShKIt0rw"
   },
   "outputs": [],
   "source": [
    "user_list_1['predicted_label'] = predictions"
   ]
  },
  {
   "cell_type": "code",
   "execution_count": null,
   "metadata": {
    "Collapsed": "false",
    "id": "7zUlDEifugRm"
   },
   "outputs": [],
   "source": [
    "user_list_1"
   ]
  },
  {
   "cell_type": "code",
   "execution_count": null,
   "metadata": {
    "Collapsed": "false",
    "id": "3hGFnFYBkh_h"
   },
   "outputs": [],
   "source": [
    "print(tf.argsort(predict,direction='DESCENDING',axis=-1))"
   ]
  },
  {
   "cell_type": "code",
   "execution_count": null,
   "metadata": {
    "Collapsed": "false",
    "id": "CpPmlMgXXOHd"
   },
   "outputs": [],
   "source": [
    "tf.nn.top_k(\n",
    "    predict,\n",
    "    k=20,\n",
    "    sorted=True,\n",
    "    name=None\n",
    ")"
   ]
  },
  {
   "cell_type": "code",
   "execution_count": null,
   "metadata": {
    "Collapsed": "false",
    "id": "PHzdoH5e1Ssp"
   },
   "outputs": [],
   "source": [
    "s=[i for i in range(len(movie2movie_encoded)) if movie2movie_encoded[i] == 365 ]"
   ]
  },
  {
   "cell_type": "code",
   "execution_count": null,
   "metadata": {
    "Collapsed": "false",
    "id": "jAvk4Zxy16EP"
   },
   "outputs": [],
   "source": [
    "movies[movies.movie_id == ''.join(str(s[0]))]"
   ]
  },
  {
   "cell_type": "markdown",
   "metadata": {
    "Collapsed": "false",
    "id": "128SyQz4ili7"
   },
   "source": [
    "### Visualize Embeddings "
   ]
  },
  {
   "cell_type": "code",
   "execution_count": null,
   "metadata": {
    "Collapsed": "false",
    "colab": {
     "base_uri": "https://localhost:8080/",
     "height": 232
    },
    "id": "vU7Ml7qHmUV1",
    "outputId": "8bf078a6-c251-4a15-9062-d78aa35b3230"
   },
   "outputs": [
    {
     "ename": "NameError",
     "evalue": "ignored",
     "output_type": "error",
     "traceback": [
      "\u001b[0;31m---------------------------------------------------------------------------\u001b[0m",
      "\u001b[0;31mNameError\u001b[0m                                 Traceback (most recent call last)",
      "\u001b[0;32m<ipython-input-37-107fe7e280b0>\u001b[0m in \u001b[0;36m<module>\u001b[0;34m()\u001b[0m\n\u001b[1;32m      3\u001b[0m \u001b[0mout_m\u001b[0m \u001b[0;34m=\u001b[0m \u001b[0mio\u001b[0m\u001b[0;34m.\u001b[0m\u001b[0mopen\u001b[0m\u001b[0;34m(\u001b[0m\u001b[0;34m'meta.tsv'\u001b[0m\u001b[0;34m,\u001b[0m \u001b[0;34m'w'\u001b[0m\u001b[0;34m,\u001b[0m \u001b[0mencoding\u001b[0m\u001b[0;34m=\u001b[0m\u001b[0;34m'utf-8'\u001b[0m\u001b[0;34m)\u001b[0m\u001b[0;34m\u001b[0m\u001b[0;34m\u001b[0m\u001b[0m\n\u001b[1;32m      4\u001b[0m \u001b[0;31m#weights =model.layers[4].get_weights()[0]\u001b[0m\u001b[0;34m\u001b[0m\u001b[0;34m\u001b[0m\u001b[0;34m\u001b[0m\u001b[0m\n\u001b[0;32m----> 5\u001b[0;31m \u001b[0mweights\u001b[0m \u001b[0;34m=\u001b[0m \u001b[0mfeatures_embedding_layer\u001b[0m\u001b[0;34m.\u001b[0m\u001b[0mget_weights\u001b[0m\u001b[0;34m(\u001b[0m\u001b[0;34m)\u001b[0m\u001b[0;34m[\u001b[0m\u001b[0;36m0\u001b[0m\u001b[0;34m]\u001b[0m\u001b[0;34m[\u001b[0m\u001b[0;36m1\u001b[0m\u001b[0;34m:\u001b[0m\u001b[0;34m]\u001b[0m\u001b[0;34m\u001b[0m\u001b[0;34m\u001b[0m\u001b[0m\n\u001b[0m\u001b[1;32m      6\u001b[0m \u001b[0;34m\u001b[0m\u001b[0m\n\u001b[1;32m      7\u001b[0m \u001b[0;32mfor\u001b[0m \u001b[0mnum\u001b[0m\u001b[0;34m,\u001b[0m \u001b[0mword\u001b[0m \u001b[0;32min\u001b[0m \u001b[0menumerate\u001b[0m\u001b[0;34m(\u001b[0m\u001b[0mtitle2title_encoded\u001b[0m\u001b[0;34m)\u001b[0m\u001b[0;34m:\u001b[0m\u001b[0;34m\u001b[0m\u001b[0;34m\u001b[0m\u001b[0m\n",
      "\u001b[0;31mNameError\u001b[0m: name 'features_embedding_layer' is not defined"
     ]
    }
   ],
   "source": [
    "import io\n",
    "out_v = io.open('vecs.tsv', 'w', encoding='utf-8')\n",
    "out_m = io.open('meta.tsv', 'w', encoding='utf-8')\n",
    "#weights =model.layers[4].get_weights()[0]\n",
    "weights = features_embedding_layer.get_weights()[0][1:]\n",
    "\n",
    "for num, word in enumerate(title2title_encoded):\n",
    "  vec = weights[num+1] # skip 0, it's padding.\n",
    "  out_m.write(word + \"\\n\")\n",
    "  out_v.write('\\t'.join([str(x) for x in vec]) + \"\\n\")\n",
    "out_v.close()\n",
    "out_m.close()"
   ]
  },
  {
   "cell_type": "code",
   "execution_count": null,
   "metadata": {
    "Collapsed": "false",
    "colab": {
     "base_uri": "https://localhost:8080/",
     "height": 17
    },
    "id": "ieKdL5TbmaAI",
    "outputId": "88f11390-3c30-410f-995b-d5cc771af236"
   },
   "outputs": [
    {
     "data": {
      "application/javascript": [
       "\n",
       "    async function download(id, filename, size) {\n",
       "      if (!google.colab.kernel.accessAllowed) {\n",
       "        return;\n",
       "      }\n",
       "      const div = document.createElement('div');\n",
       "      const label = document.createElement('label');\n",
       "      label.textContent = `Downloading \"${filename}\": `;\n",
       "      div.appendChild(label);\n",
       "      const progress = document.createElement('progress');\n",
       "      progress.max = size;\n",
       "      div.appendChild(progress);\n",
       "      document.body.appendChild(div);\n",
       "\n",
       "      const buffers = [];\n",
       "      let downloaded = 0;\n",
       "\n",
       "      const channel = await google.colab.kernel.comms.open(id);\n",
       "      // Send a message to notify the kernel that we're ready.\n",
       "      channel.send({})\n",
       "\n",
       "      for await (const message of channel.messages) {\n",
       "        // Send a message to notify the kernel that we're ready.\n",
       "        channel.send({})\n",
       "        if (message.buffers) {\n",
       "          for (const buffer of message.buffers) {\n",
       "            buffers.push(buffer);\n",
       "            downloaded += buffer.byteLength;\n",
       "            progress.value = downloaded;\n",
       "          }\n",
       "        }\n",
       "      }\n",
       "      const blob = new Blob(buffers, {type: 'application/binary'});\n",
       "      const a = document.createElement('a');\n",
       "      a.href = window.URL.createObjectURL(blob);\n",
       "      a.download = filename;\n",
       "      div.appendChild(a);\n",
       "      a.click();\n",
       "      div.remove();\n",
       "    }\n",
       "  "
      ],
      "text/plain": [
       "<IPython.core.display.Javascript object>"
      ]
     },
     "metadata": {
      "tags": []
     },
     "output_type": "display_data"
    },
    {
     "data": {
      "application/javascript": [
       "download(\"download_edda1332-e504-4b18-bfe3-36f22f7c0c88\", \"vecs.tsv\", 0)"
      ],
      "text/plain": [
       "<IPython.core.display.Javascript object>"
      ]
     },
     "metadata": {
      "tags": []
     },
     "output_type": "display_data"
    },
    {
     "data": {
      "application/javascript": [
       "\n",
       "    async function download(id, filename, size) {\n",
       "      if (!google.colab.kernel.accessAllowed) {\n",
       "        return;\n",
       "      }\n",
       "      const div = document.createElement('div');\n",
       "      const label = document.createElement('label');\n",
       "      label.textContent = `Downloading \"${filename}\": `;\n",
       "      div.appendChild(label);\n",
       "      const progress = document.createElement('progress');\n",
       "      progress.max = size;\n",
       "      div.appendChild(progress);\n",
       "      document.body.appendChild(div);\n",
       "\n",
       "      const buffers = [];\n",
       "      let downloaded = 0;\n",
       "\n",
       "      const channel = await google.colab.kernel.comms.open(id);\n",
       "      // Send a message to notify the kernel that we're ready.\n",
       "      channel.send({})\n",
       "\n",
       "      for await (const message of channel.messages) {\n",
       "        // Send a message to notify the kernel that we're ready.\n",
       "        channel.send({})\n",
       "        if (message.buffers) {\n",
       "          for (const buffer of message.buffers) {\n",
       "            buffers.push(buffer);\n",
       "            downloaded += buffer.byteLength;\n",
       "            progress.value = downloaded;\n",
       "          }\n",
       "        }\n",
       "      }\n",
       "      const blob = new Blob(buffers, {type: 'application/binary'});\n",
       "      const a = document.createElement('a');\n",
       "      a.href = window.URL.createObjectURL(blob);\n",
       "      a.download = filename;\n",
       "      div.appendChild(a);\n",
       "      a.click();\n",
       "      div.remove();\n",
       "    }\n",
       "  "
      ],
      "text/plain": [
       "<IPython.core.display.Javascript object>"
      ]
     },
     "metadata": {
      "tags": []
     },
     "output_type": "display_data"
    },
    {
     "data": {
      "application/javascript": [
       "download(\"download_6ab758a9-523d-44ba-bd53-7d6164240889\", \"meta.tsv\", 0)"
      ],
      "text/plain": [
       "<IPython.core.display.Javascript object>"
      ]
     },
     "metadata": {
      "tags": []
     },
     "output_type": "display_data"
    }
   ],
   "source": [
    "try:\n",
    "  from google.colab import files\n",
    "except ImportError:\n",
    "   pass\n",
    "else:\n",
    "  files.download('vecs.tsv')\n",
    "  files.download('meta.tsv')"
   ]
  },
  {
   "cell_type": "code",
   "execution_count": null,
   "metadata": {
    "Collapsed": "false",
    "id": "X8sWuqm6lXL6"
   },
   "outputs": [],
   "source": []
  }
 ],
 "metadata": {
  "accelerator": "GPU",
  "colab": {
   "collapsed_sections": [
    "128SyQz4ili7"
   ],
   "name": "Wine_Candidate_Rec_[Youtube_Recommendation_Candidate_Generation_Network].ipynb",
   "provenance": [],
   "toc_visible": true
  },
  "kernelspec": {
   "display_name": "Python 3",
   "language": "python",
   "name": "python3"
  },
  "language_info": {
   "codemirror_mode": {
    "name": "ipython",
    "version": 3
   },
   "file_extension": ".py",
   "mimetype": "text/x-python",
   "name": "python",
   "nbconvert_exporter": "python",
   "pygments_lexer": "ipython3",
   "version": "3.7.6"
  }
 },
 "nbformat": 4,
 "nbformat_minor": 4
}
