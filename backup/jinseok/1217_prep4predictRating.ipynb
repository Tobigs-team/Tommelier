{
 "cells": [
  {
   "cell_type": "code",
   "execution_count": 1,
   "metadata": {
    "Collapsed": "false"
   },
   "outputs": [],
   "source": [
    "import os\n",
    "import sys\n",
    "import gc\n",
    "import json\n",
    "import numpy as np\n",
    "import pandas as pd\n",
    "from tqdm import tqdm"
   ]
  },
  {
   "cell_type": "code",
   "execution_count": 2,
   "metadata": {
    "Collapsed": "false"
   },
   "outputs": [],
   "source": [
    "with open('./data/user_train_test/user_train.json', 'r') as f:\n",
    "    train = json.load(f)"
   ]
  },
  {
   "cell_type": "code",
   "execution_count": 3,
   "metadata": {
    "Collapsed": "false"
   },
   "outputs": [],
   "source": [
    "with open('./data/user_train_test/user_test.json', 'r') as f:\n",
    "    test = json.load(f)"
   ]
  },
  {
   "cell_type": "code",
   "execution_count": 4,
   "metadata": {
    "Collapsed": "false"
   },
   "outputs": [],
   "source": [
    "train = pd.DataFrame(zip(train['userID'].values(),\n",
    "                         train['wine_id'].values(),\n",
    "                         train['rating_per_user'].values()),\n",
    "                    columns = ['userID', 'wine_id', 'rating'])\n",
    "test = pd.DataFrame(zip(test['userID'].values(),\n",
    "                        test['wine_id'].values(),\n",
    "                        test['rating_per_user'].values()),\n",
    "                   columns = ['userID', 'wine_id', 'rating'])"
   ]
  },
  {
   "cell_type": "code",
   "execution_count": 5,
   "metadata": {
    "Collapsed": "false"
   },
   "outputs": [
    {
     "data": {
      "text/html": [
       "<div>\n",
       "<style scoped>\n",
       "    .dataframe tbody tr th:only-of-type {\n",
       "        vertical-align: middle;\n",
       "    }\n",
       "\n",
       "    .dataframe tbody tr th {\n",
       "        vertical-align: top;\n",
       "    }\n",
       "\n",
       "    .dataframe thead th {\n",
       "        text-align: right;\n",
       "    }\n",
       "</style>\n",
       "<table border=\"1\" class=\"dataframe\">\n",
       "  <thead>\n",
       "    <tr style=\"text-align: right;\">\n",
       "      <th></th>\n",
       "      <th>userID</th>\n",
       "      <th>wine_id</th>\n",
       "      <th>rating</th>\n",
       "    </tr>\n",
       "  </thead>\n",
       "  <tbody>\n",
       "    <tr>\n",
       "      <th>0</th>\n",
       "      <td>19484511</td>\n",
       "      <td>2532733</td>\n",
       "      <td>4.0</td>\n",
       "    </tr>\n",
       "    <tr>\n",
       "      <th>1</th>\n",
       "      <td>19484511</td>\n",
       "      <td>1253802</td>\n",
       "      <td>3.5</td>\n",
       "    </tr>\n",
       "    <tr>\n",
       "      <th>2</th>\n",
       "      <td>19484511</td>\n",
       "      <td>1123441</td>\n",
       "      <td>3.5</td>\n",
       "    </tr>\n",
       "    <tr>\n",
       "      <th>3</th>\n",
       "      <td>19484511</td>\n",
       "      <td>1157656</td>\n",
       "      <td>3.5</td>\n",
       "    </tr>\n",
       "    <tr>\n",
       "      <th>4</th>\n",
       "      <td>19484511</td>\n",
       "      <td>1134756</td>\n",
       "      <td>3.5</td>\n",
       "    </tr>\n",
       "  </tbody>\n",
       "</table>\n",
       "</div>"
      ],
      "text/plain": [
       "     userID  wine_id  rating\n",
       "0  19484511  2532733     4.0\n",
       "1  19484511  1253802     3.5\n",
       "2  19484511  1123441     3.5\n",
       "3  19484511  1157656     3.5\n",
       "4  19484511  1134756     3.5"
      ]
     },
     "execution_count": 5,
     "metadata": {},
     "output_type": "execute_result"
    }
   ],
   "source": [
    "train.head()"
   ]
  },
  {
   "cell_type": "code",
   "execution_count": 6,
   "metadata": {
    "Collapsed": "false"
   },
   "outputs": [
    {
     "data": {
      "text/html": [
       "<div>\n",
       "<style scoped>\n",
       "    .dataframe tbody tr th:only-of-type {\n",
       "        vertical-align: middle;\n",
       "    }\n",
       "\n",
       "    .dataframe tbody tr th {\n",
       "        vertical-align: top;\n",
       "    }\n",
       "\n",
       "    .dataframe thead th {\n",
       "        text-align: right;\n",
       "    }\n",
       "</style>\n",
       "<table border=\"1\" class=\"dataframe\">\n",
       "  <thead>\n",
       "    <tr style=\"text-align: right;\">\n",
       "      <th></th>\n",
       "      <th>userID</th>\n",
       "      <th>wine_id</th>\n",
       "      <th>rating</th>\n",
       "    </tr>\n",
       "  </thead>\n",
       "  <tbody>\n",
       "    <tr>\n",
       "      <th>0</th>\n",
       "      <td>19484511</td>\n",
       "      <td>1141133</td>\n",
       "      <td>4.0</td>\n",
       "    </tr>\n",
       "    <tr>\n",
       "      <th>1</th>\n",
       "      <td>352674</td>\n",
       "      <td>1141133</td>\n",
       "      <td>4.0</td>\n",
       "    </tr>\n",
       "    <tr>\n",
       "      <th>2</th>\n",
       "      <td>2148498</td>\n",
       "      <td>1141133</td>\n",
       "      <td>1.5</td>\n",
       "    </tr>\n",
       "    <tr>\n",
       "      <th>3</th>\n",
       "      <td>3450270</td>\n",
       "      <td>1141133</td>\n",
       "      <td>4.5</td>\n",
       "    </tr>\n",
       "    <tr>\n",
       "      <th>4</th>\n",
       "      <td>17786617</td>\n",
       "      <td>1141133</td>\n",
       "      <td>4.0</td>\n",
       "    </tr>\n",
       "  </tbody>\n",
       "</table>\n",
       "</div>"
      ],
      "text/plain": [
       "     userID  wine_id  rating\n",
       "0  19484511  1141133     4.0\n",
       "1    352674  1141133     4.0\n",
       "2   2148498  1141133     1.5\n",
       "3   3450270  1141133     4.5\n",
       "4  17786617  1141133     4.0"
      ]
     },
     "execution_count": 6,
     "metadata": {},
     "output_type": "execute_result"
    }
   ],
   "source": [
    "test.head()"
   ]
  },
  {
   "cell_type": "markdown",
   "metadata": {
    "Collapsed": "true"
   },
   "source": [
    "# normalize된 rating과 like 가져오기 -> 실패"
   ]
  },
  {
   "cell_type": "code",
   "execution_count": 65,
   "metadata": {
    "Collapsed": "false"
   },
   "outputs": [],
   "source": [
    "with open('./data/train_v2_201130.json', 'r') as f:\n",
    "    norm_train = json.load(f)"
   ]
  },
  {
   "cell_type": "code",
   "execution_count": 84,
   "metadata": {
    "Collapsed": "false"
   },
   "outputs": [],
   "source": [
    "with open('./data/test_v2_201130.json', 'r') as f:\n",
    "    norm_test = json.load(f)"
   ]
  },
  {
   "cell_type": "code",
   "execution_count": 66,
   "metadata": {
    "Collapsed": "false"
   },
   "outputs": [
    {
     "data": {
      "text/plain": [
       "dict_keys(['index', 'user_note', 'rating_per_user', 'vintage_id', 'user_like_count', 'userID', 'wine_id', 'wine_name', 'url', 'like'])"
      ]
     },
     "execution_count": 66,
     "metadata": {},
     "output_type": "execute_result"
    }
   ],
   "source": [
    "norm_train.keys()"
   ]
  },
  {
   "cell_type": "code",
   "execution_count": 69,
   "metadata": {
    "Collapsed": "false"
   },
   "outputs": [
    {
     "data": {
      "text/html": [
       "<div>\n",
       "<style scoped>\n",
       "    .dataframe tbody tr th:only-of-type {\n",
       "        vertical-align: middle;\n",
       "    }\n",
       "\n",
       "    .dataframe tbody tr th {\n",
       "        vertical-align: top;\n",
       "    }\n",
       "\n",
       "    .dataframe thead th {\n",
       "        text-align: right;\n",
       "    }\n",
       "</style>\n",
       "<table border=\"1\" class=\"dataframe\">\n",
       "  <thead>\n",
       "    <tr style=\"text-align: right;\">\n",
       "      <th></th>\n",
       "      <th>userID</th>\n",
       "      <th>wine_id</th>\n",
       "      <th>rating</th>\n",
       "      <th>like</th>\n",
       "    </tr>\n",
       "  </thead>\n",
       "  <tbody>\n",
       "    <tr>\n",
       "      <th>0</th>\n",
       "      <td>19484511</td>\n",
       "      <td>1141133</td>\n",
       "      <td>4.0</td>\n",
       "      <td>1</td>\n",
       "    </tr>\n",
       "    <tr>\n",
       "      <th>1</th>\n",
       "      <td>352674</td>\n",
       "      <td>1141133</td>\n",
       "      <td>4.0</td>\n",
       "      <td>1</td>\n",
       "    </tr>\n",
       "    <tr>\n",
       "      <th>2</th>\n",
       "      <td>17786617</td>\n",
       "      <td>1141133</td>\n",
       "      <td>4.0</td>\n",
       "      <td>1</td>\n",
       "    </tr>\n",
       "    <tr>\n",
       "      <th>3</th>\n",
       "      <td>8078038</td>\n",
       "      <td>1141133</td>\n",
       "      <td>4.5</td>\n",
       "      <td>1</td>\n",
       "    </tr>\n",
       "    <tr>\n",
       "      <th>4</th>\n",
       "      <td>3014532</td>\n",
       "      <td>1141133</td>\n",
       "      <td>4.0</td>\n",
       "      <td>0</td>\n",
       "    </tr>\n",
       "    <tr>\n",
       "      <th>...</th>\n",
       "      <td>...</td>\n",
       "      <td>...</td>\n",
       "      <td>...</td>\n",
       "      <td>...</td>\n",
       "    </tr>\n",
       "    <tr>\n",
       "      <th>763382</th>\n",
       "      <td>11274168</td>\n",
       "      <td>87064</td>\n",
       "      <td>3.0</td>\n",
       "      <td>0</td>\n",
       "    </tr>\n",
       "    <tr>\n",
       "      <th>763383</th>\n",
       "      <td>11274168</td>\n",
       "      <td>63654</td>\n",
       "      <td>4.0</td>\n",
       "      <td>1</td>\n",
       "    </tr>\n",
       "    <tr>\n",
       "      <th>763384</th>\n",
       "      <td>11274168</td>\n",
       "      <td>5602</td>\n",
       "      <td>4.5</td>\n",
       "      <td>1</td>\n",
       "    </tr>\n",
       "    <tr>\n",
       "      <th>763385</th>\n",
       "      <td>11274168</td>\n",
       "      <td>1396664</td>\n",
       "      <td>3.0</td>\n",
       "      <td>0</td>\n",
       "    </tr>\n",
       "    <tr>\n",
       "      <th>763386</th>\n",
       "      <td>11274168</td>\n",
       "      <td>1142712</td>\n",
       "      <td>3.5</td>\n",
       "      <td>0</td>\n",
       "    </tr>\n",
       "  </tbody>\n",
       "</table>\n",
       "<p>763387 rows × 4 columns</p>\n",
       "</div>"
      ],
      "text/plain": [
       "          userID  wine_id  rating  like\n",
       "0       19484511  1141133     4.0     1\n",
       "1         352674  1141133     4.0     1\n",
       "2       17786617  1141133     4.0     1\n",
       "3        8078038  1141133     4.5     1\n",
       "4        3014532  1141133     4.0     0\n",
       "...          ...      ...     ...   ...\n",
       "763382  11274168    87064     3.0     0\n",
       "763383  11274168    63654     4.0     1\n",
       "763384  11274168     5602     4.5     1\n",
       "763385  11274168  1396664     3.0     0\n",
       "763386  11274168  1142712     3.5     0\n",
       "\n",
       "[763387 rows x 4 columns]"
      ]
     },
     "execution_count": 69,
     "metadata": {},
     "output_type": "execute_result"
    }
   ],
   "source": [
    "norm_train = pd.DataFrame(zip(norm_train['userID'].values(),\n",
    "                              norm_train['wine_id'].values(),\n",
    "                              norm_train['rating_per_user'].values(),\n",
    "                              norm_train['like'].values(),\n",
    "                             ),\n",
    "                    columns = ['userID', 'wine_id', 'rating', 'like'])\n",
    "norm_train"
   ]
  },
  {
   "cell_type": "code",
   "execution_count": 85,
   "metadata": {
    "Collapsed": "false"
   },
   "outputs": [],
   "source": [
    "norm_test = pd.DataFrame(zip(norm_test['userID'].values(),\n",
    "                              norm_test['wine_id'].values(),\n",
    "                              norm_test['rating_per_user'].values(),\n",
    "                              norm_test['like'].values(),\n",
    "                             ),\n",
    "                    columns = ['userID', 'wine_id', 'rating', 'like'])"
   ]
  },
  {
   "cell_type": "code",
   "execution_count": 97,
   "metadata": {
    "Collapsed": "false"
   },
   "outputs": [],
   "source": [
    "norm = pd.concat([norm_train, norm_test], axis = 0)"
   ]
  },
  {
   "cell_type": "code",
   "execution_count": 124,
   "metadata": {
    "Collapsed": "false"
   },
   "outputs": [
    {
     "data": {
      "text/html": [
       "<div>\n",
       "<style scoped>\n",
       "    .dataframe tbody tr th:only-of-type {\n",
       "        vertical-align: middle;\n",
       "    }\n",
       "\n",
       "    .dataframe tbody tr th {\n",
       "        vertical-align: top;\n",
       "    }\n",
       "\n",
       "    .dataframe thead th {\n",
       "        text-align: right;\n",
       "    }\n",
       "</style>\n",
       "<table border=\"1\" class=\"dataframe\">\n",
       "  <thead>\n",
       "    <tr style=\"text-align: right;\">\n",
       "      <th></th>\n",
       "      <th>userID</th>\n",
       "      <th>wine_id</th>\n",
       "      <th>rating</th>\n",
       "      <th>like</th>\n",
       "    </tr>\n",
       "  </thead>\n",
       "  <tbody>\n",
       "    <tr>\n",
       "      <th>0</th>\n",
       "      <td>19484511</td>\n",
       "      <td>1141133</td>\n",
       "      <td>4.0</td>\n",
       "      <td>1</td>\n",
       "    </tr>\n",
       "    <tr>\n",
       "      <th>1</th>\n",
       "      <td>352674</td>\n",
       "      <td>1141133</td>\n",
       "      <td>4.0</td>\n",
       "      <td>1</td>\n",
       "    </tr>\n",
       "    <tr>\n",
       "      <th>2</th>\n",
       "      <td>17786617</td>\n",
       "      <td>1141133</td>\n",
       "      <td>4.0</td>\n",
       "      <td>1</td>\n",
       "    </tr>\n",
       "    <tr>\n",
       "      <th>3</th>\n",
       "      <td>8078038</td>\n",
       "      <td>1141133</td>\n",
       "      <td>4.5</td>\n",
       "      <td>1</td>\n",
       "    </tr>\n",
       "    <tr>\n",
       "      <th>4</th>\n",
       "      <td>3014532</td>\n",
       "      <td>1141133</td>\n",
       "      <td>4.0</td>\n",
       "      <td>0</td>\n",
       "    </tr>\n",
       "    <tr>\n",
       "      <th>...</th>\n",
       "      <td>...</td>\n",
       "      <td>...</td>\n",
       "      <td>...</td>\n",
       "      <td>...</td>\n",
       "    </tr>\n",
       "    <tr>\n",
       "      <th>188713</th>\n",
       "      <td>46404017</td>\n",
       "      <td>1155203</td>\n",
       "      <td>4.0</td>\n",
       "      <td>1</td>\n",
       "    </tr>\n",
       "    <tr>\n",
       "      <th>188714</th>\n",
       "      <td>46404017</td>\n",
       "      <td>4382344</td>\n",
       "      <td>4.0</td>\n",
       "      <td>1</td>\n",
       "    </tr>\n",
       "    <tr>\n",
       "      <th>188715</th>\n",
       "      <td>46404017</td>\n",
       "      <td>1104850</td>\n",
       "      <td>2.5</td>\n",
       "      <td>0</td>\n",
       "    </tr>\n",
       "    <tr>\n",
       "      <th>188716</th>\n",
       "      <td>46404017</td>\n",
       "      <td>1981888</td>\n",
       "      <td>3.0</td>\n",
       "      <td>0</td>\n",
       "    </tr>\n",
       "    <tr>\n",
       "      <th>188717</th>\n",
       "      <td>46404017</td>\n",
       "      <td>1254309</td>\n",
       "      <td>3.5</td>\n",
       "      <td>1</td>\n",
       "    </tr>\n",
       "  </tbody>\n",
       "</table>\n",
       "<p>952105 rows × 4 columns</p>\n",
       "</div>"
      ],
      "text/plain": [
       "          userID  wine_id  rating  like\n",
       "0       19484511  1141133     4.0     1\n",
       "1         352674  1141133     4.0     1\n",
       "2       17786617  1141133     4.0     1\n",
       "3        8078038  1141133     4.5     1\n",
       "4        3014532  1141133     4.0     0\n",
       "...          ...      ...     ...   ...\n",
       "188713  46404017  1155203     4.0     1\n",
       "188714  46404017  4382344     4.0     1\n",
       "188715  46404017  1104850     2.5     0\n",
       "188716  46404017  1981888     3.0     0\n",
       "188717  46404017  1254309     3.5     1\n",
       "\n",
       "[952105 rows x 4 columns]"
      ]
     },
     "execution_count": 124,
     "metadata": {},
     "output_type": "execute_result"
    }
   ],
   "source": [
    "norm"
   ]
  },
  {
   "cell_type": "code",
   "execution_count": 125,
   "metadata": {
    "Collapsed": "false"
   },
   "outputs": [],
   "source": [
    "train = train.merge(norm.drop_duplicates(['userID', 'wine_id', 'rating']), on = ['userID', 'wine_id', 'rating'], how = 'left')"
   ]
  },
  {
   "cell_type": "code",
   "execution_count": 128,
   "metadata": {
    "Collapsed": "false"
   },
   "outputs": [
    {
     "data": {
      "text/html": [
       "<div>\n",
       "<style scoped>\n",
       "    .dataframe tbody tr th:only-of-type {\n",
       "        vertical-align: middle;\n",
       "    }\n",
       "\n",
       "    .dataframe tbody tr th {\n",
       "        vertical-align: top;\n",
       "    }\n",
       "\n",
       "    .dataframe thead th {\n",
       "        text-align: right;\n",
       "    }\n",
       "</style>\n",
       "<table border=\"1\" class=\"dataframe\">\n",
       "  <thead>\n",
       "    <tr style=\"text-align: right;\">\n",
       "      <th></th>\n",
       "      <th>userID</th>\n",
       "      <th>wine_id</th>\n",
       "      <th>rating</th>\n",
       "      <th>like</th>\n",
       "    </tr>\n",
       "  </thead>\n",
       "  <tbody>\n",
       "  </tbody>\n",
       "</table>\n",
       "</div>"
      ],
      "text/plain": [
       "Empty DataFrame\n",
       "Columns: [userID, wine_id, rating, like]\n",
       "Index: []"
      ]
     },
     "execution_count": 128,
     "metadata": {},
     "output_type": "execute_result"
    }
   ],
   "source": [
    "norm.loc[(norm['userID'] == 19484511) & (norm['wine_id'] == 10998)]"
   ]
  },
  {
   "cell_type": "code",
   "execution_count": 126,
   "metadata": {
    "Collapsed": "false"
   },
   "outputs": [
    {
     "data": {
      "text/html": [
       "<div>\n",
       "<style scoped>\n",
       "    .dataframe tbody tr th:only-of-type {\n",
       "        vertical-align: middle;\n",
       "    }\n",
       "\n",
       "    .dataframe tbody tr th {\n",
       "        vertical-align: top;\n",
       "    }\n",
       "\n",
       "    .dataframe thead th {\n",
       "        text-align: right;\n",
       "    }\n",
       "</style>\n",
       "<table border=\"1\" class=\"dataframe\">\n",
       "  <thead>\n",
       "    <tr style=\"text-align: right;\">\n",
       "      <th></th>\n",
       "      <th>userID</th>\n",
       "      <th>wine_id</th>\n",
       "      <th>rating</th>\n",
       "      <th>like</th>\n",
       "    </tr>\n",
       "  </thead>\n",
       "  <tbody>\n",
       "    <tr>\n",
       "      <th>108</th>\n",
       "      <td>19484511</td>\n",
       "      <td>10998</td>\n",
       "      <td>3.0</td>\n",
       "      <td>NaN</td>\n",
       "    </tr>\n",
       "    <tr>\n",
       "      <th>111</th>\n",
       "      <td>19484511</td>\n",
       "      <td>77132</td>\n",
       "      <td>5.0</td>\n",
       "      <td>NaN</td>\n",
       "    </tr>\n",
       "    <tr>\n",
       "      <th>113</th>\n",
       "      <td>19484511</td>\n",
       "      <td>97902</td>\n",
       "      <td>4.0</td>\n",
       "      <td>NaN</td>\n",
       "    </tr>\n",
       "    <tr>\n",
       "      <th>115</th>\n",
       "      <td>19484511</td>\n",
       "      <td>1162580</td>\n",
       "      <td>3.0</td>\n",
       "      <td>NaN</td>\n",
       "    </tr>\n",
       "    <tr>\n",
       "      <th>122</th>\n",
       "      <td>19484511</td>\n",
       "      <td>17615</td>\n",
       "      <td>3.5</td>\n",
       "      <td>NaN</td>\n",
       "    </tr>\n",
       "    <tr>\n",
       "      <th>...</th>\n",
       "      <td>...</td>\n",
       "      <td>...</td>\n",
       "      <td>...</td>\n",
       "      <td>...</td>\n",
       "    </tr>\n",
       "    <tr>\n",
       "      <th>937722</th>\n",
       "      <td>16607503</td>\n",
       "      <td>1273886</td>\n",
       "      <td>3.5</td>\n",
       "      <td>NaN</td>\n",
       "    </tr>\n",
       "    <tr>\n",
       "      <th>937723</th>\n",
       "      <td>16607503</td>\n",
       "      <td>1743819</td>\n",
       "      <td>3.5</td>\n",
       "      <td>NaN</td>\n",
       "    </tr>\n",
       "    <tr>\n",
       "      <th>937726</th>\n",
       "      <td>16607503</td>\n",
       "      <td>61744</td>\n",
       "      <td>4.0</td>\n",
       "      <td>NaN</td>\n",
       "    </tr>\n",
       "    <tr>\n",
       "      <th>937742</th>\n",
       "      <td>16607503</td>\n",
       "      <td>1139255</td>\n",
       "      <td>4.5</td>\n",
       "      <td>NaN</td>\n",
       "    </tr>\n",
       "    <tr>\n",
       "      <th>937747</th>\n",
       "      <td>16607503</td>\n",
       "      <td>1398911</td>\n",
       "      <td>3.5</td>\n",
       "      <td>NaN</td>\n",
       "    </tr>\n",
       "  </tbody>\n",
       "</table>\n",
       "<p>131837 rows × 4 columns</p>\n",
       "</div>"
      ],
      "text/plain": [
       "          userID  wine_id  rating  like\n",
       "108     19484511    10998     3.0   NaN\n",
       "111     19484511    77132     5.0   NaN\n",
       "113     19484511    97902     4.0   NaN\n",
       "115     19484511  1162580     3.0   NaN\n",
       "122     19484511    17615     3.5   NaN\n",
       "...          ...      ...     ...   ...\n",
       "937722  16607503  1273886     3.5   NaN\n",
       "937723  16607503  1743819     3.5   NaN\n",
       "937726  16607503    61744     4.0   NaN\n",
       "937742  16607503  1139255     4.5   NaN\n",
       "937747  16607503  1398911     3.5   NaN\n",
       "\n",
       "[131837 rows x 4 columns]"
      ]
     },
     "execution_count": 126,
     "metadata": {},
     "output_type": "execute_result"
    }
   ],
   "source": [
    "# 왜 like null이 존재하징 ㅠ\n",
    "train.loc[train['like'].isnull()]"
   ]
  },
  {
   "cell_type": "code",
   "execution_count": 132,
   "metadata": {
    "Collapsed": "false"
   },
   "outputs": [
    {
     "data": {
      "text/html": [
       "<div>\n",
       "<style scoped>\n",
       "    .dataframe tbody tr th:only-of-type {\n",
       "        vertical-align: middle;\n",
       "    }\n",
       "\n",
       "    .dataframe tbody tr th {\n",
       "        vertical-align: top;\n",
       "    }\n",
       "\n",
       "    .dataframe thead th {\n",
       "        text-align: right;\n",
       "    }\n",
       "</style>\n",
       "<table border=\"1\" class=\"dataframe\">\n",
       "  <thead>\n",
       "    <tr style=\"text-align: right;\">\n",
       "      <th></th>\n",
       "      <th>userID</th>\n",
       "      <th>wine_id</th>\n",
       "      <th>rating</th>\n",
       "      <th>like</th>\n",
       "    </tr>\n",
       "  </thead>\n",
       "  <tbody>\n",
       "    <tr>\n",
       "      <th>0</th>\n",
       "      <td>19484511</td>\n",
       "      <td>2532733</td>\n",
       "      <td>4.0</td>\n",
       "      <td>1.0</td>\n",
       "    </tr>\n",
       "    <tr>\n",
       "      <th>1</th>\n",
       "      <td>19484511</td>\n",
       "      <td>1253802</td>\n",
       "      <td>3.5</td>\n",
       "      <td>0.0</td>\n",
       "    </tr>\n",
       "    <tr>\n",
       "      <th>2</th>\n",
       "      <td>19484511</td>\n",
       "      <td>1123441</td>\n",
       "      <td>3.5</td>\n",
       "      <td>0.0</td>\n",
       "    </tr>\n",
       "    <tr>\n",
       "      <th>3</th>\n",
       "      <td>19484511</td>\n",
       "      <td>1157656</td>\n",
       "      <td>3.5</td>\n",
       "      <td>0.0</td>\n",
       "    </tr>\n",
       "    <tr>\n",
       "      <th>4</th>\n",
       "      <td>19484511</td>\n",
       "      <td>1134756</td>\n",
       "      <td>3.5</td>\n",
       "      <td>0.0</td>\n",
       "    </tr>\n",
       "    <tr>\n",
       "      <th>...</th>\n",
       "      <td>...</td>\n",
       "      <td>...</td>\n",
       "      <td>...</td>\n",
       "      <td>...</td>\n",
       "    </tr>\n",
       "    <tr>\n",
       "      <th>235</th>\n",
       "      <td>19484511</td>\n",
       "      <td>87222</td>\n",
       "      <td>4.5</td>\n",
       "      <td>1.0</td>\n",
       "    </tr>\n",
       "    <tr>\n",
       "      <th>236</th>\n",
       "      <td>19484511</td>\n",
       "      <td>24056</td>\n",
       "      <td>4.0</td>\n",
       "      <td>1.0</td>\n",
       "    </tr>\n",
       "    <tr>\n",
       "      <th>237</th>\n",
       "      <td>19484511</td>\n",
       "      <td>2955936</td>\n",
       "      <td>3.0</td>\n",
       "      <td>NaN</td>\n",
       "    </tr>\n",
       "    <tr>\n",
       "      <th>238</th>\n",
       "      <td>19484511</td>\n",
       "      <td>1170133</td>\n",
       "      <td>4.0</td>\n",
       "      <td>1.0</td>\n",
       "    </tr>\n",
       "    <tr>\n",
       "      <th>239</th>\n",
       "      <td>19484511</td>\n",
       "      <td>11607</td>\n",
       "      <td>4.0</td>\n",
       "      <td>1.0</td>\n",
       "    </tr>\n",
       "  </tbody>\n",
       "</table>\n",
       "<p>240 rows × 4 columns</p>\n",
       "</div>"
      ],
      "text/plain": [
       "       userID  wine_id  rating  like\n",
       "0    19484511  2532733     4.0   1.0\n",
       "1    19484511  1253802     3.5   0.0\n",
       "2    19484511  1123441     3.5   0.0\n",
       "3    19484511  1157656     3.5   0.0\n",
       "4    19484511  1134756     3.5   0.0\n",
       "..        ...      ...     ...   ...\n",
       "235  19484511    87222     4.5   1.0\n",
       "236  19484511    24056     4.0   1.0\n",
       "237  19484511  2955936     3.0   NaN\n",
       "238  19484511  1170133     4.0   1.0\n",
       "239  19484511    11607     4.0   1.0\n",
       "\n",
       "[240 rows x 4 columns]"
      ]
     },
     "execution_count": 132,
     "metadata": {},
     "output_type": "execute_result"
    }
   ],
   "source": [
    "train.loc[train['userID'] == 19484511]"
   ]
  },
  {
   "cell_type": "code",
   "execution_count": 133,
   "metadata": {
    "Collapsed": "false"
   },
   "outputs": [
    {
     "data": {
      "text/html": [
       "<div>\n",
       "<style scoped>\n",
       "    .dataframe tbody tr th:only-of-type {\n",
       "        vertical-align: middle;\n",
       "    }\n",
       "\n",
       "    .dataframe tbody tr th {\n",
       "        vertical-align: top;\n",
       "    }\n",
       "\n",
       "    .dataframe thead th {\n",
       "        text-align: right;\n",
       "    }\n",
       "</style>\n",
       "<table border=\"1\" class=\"dataframe\">\n",
       "  <thead>\n",
       "    <tr style=\"text-align: right;\">\n",
       "      <th></th>\n",
       "      <th>userID</th>\n",
       "      <th>wine_id</th>\n",
       "      <th>rating</th>\n",
       "      <th>like</th>\n",
       "    </tr>\n",
       "  </thead>\n",
       "  <tbody>\n",
       "    <tr>\n",
       "      <th>0</th>\n",
       "      <td>19484511</td>\n",
       "      <td>1141133</td>\n",
       "      <td>4.0</td>\n",
       "      <td>1</td>\n",
       "    </tr>\n",
       "    <tr>\n",
       "      <th>30</th>\n",
       "      <td>19484511</td>\n",
       "      <td>2532733</td>\n",
       "      <td>4.0</td>\n",
       "      <td>1</td>\n",
       "    </tr>\n",
       "    <tr>\n",
       "      <th>36</th>\n",
       "      <td>19484511</td>\n",
       "      <td>1253802</td>\n",
       "      <td>3.5</td>\n",
       "      <td>0</td>\n",
       "    </tr>\n",
       "    <tr>\n",
       "      <th>38</th>\n",
       "      <td>19484511</td>\n",
       "      <td>1123441</td>\n",
       "      <td>3.5</td>\n",
       "      <td>0</td>\n",
       "    </tr>\n",
       "    <tr>\n",
       "      <th>39</th>\n",
       "      <td>19484511</td>\n",
       "      <td>1157656</td>\n",
       "      <td>3.5</td>\n",
       "      <td>0</td>\n",
       "    </tr>\n",
       "    <tr>\n",
       "      <th>...</th>\n",
       "      <td>...</td>\n",
       "      <td>...</td>\n",
       "      <td>...</td>\n",
       "      <td>...</td>\n",
       "    </tr>\n",
       "    <tr>\n",
       "      <th>154623</th>\n",
       "      <td>19484511</td>\n",
       "      <td>1690177</td>\n",
       "      <td>4.0</td>\n",
       "      <td>1</td>\n",
       "    </tr>\n",
       "    <tr>\n",
       "      <th>154624</th>\n",
       "      <td>19484511</td>\n",
       "      <td>1252056</td>\n",
       "      <td>3.5</td>\n",
       "      <td>0</td>\n",
       "    </tr>\n",
       "    <tr>\n",
       "      <th>154625</th>\n",
       "      <td>19484511</td>\n",
       "      <td>1992</td>\n",
       "      <td>3.5</td>\n",
       "      <td>0</td>\n",
       "    </tr>\n",
       "    <tr>\n",
       "      <th>154626</th>\n",
       "      <td>19484511</td>\n",
       "      <td>2389254</td>\n",
       "      <td>4.0</td>\n",
       "      <td>1</td>\n",
       "    </tr>\n",
       "    <tr>\n",
       "      <th>154627</th>\n",
       "      <td>19484511</td>\n",
       "      <td>1505995</td>\n",
       "      <td>3.5</td>\n",
       "      <td>0</td>\n",
       "    </tr>\n",
       "  </tbody>\n",
       "</table>\n",
       "<p>246 rows × 4 columns</p>\n",
       "</div>"
      ],
      "text/plain": [
       "          userID  wine_id  rating  like\n",
       "0       19484511  1141133     4.0     1\n",
       "30      19484511  2532733     4.0     1\n",
       "36      19484511  1253802     3.5     0\n",
       "38      19484511  1123441     3.5     0\n",
       "39      19484511  1157656     3.5     0\n",
       "...          ...      ...     ...   ...\n",
       "154623  19484511  1690177     4.0     1\n",
       "154624  19484511  1252056     3.5     0\n",
       "154625  19484511     1992     3.5     0\n",
       "154626  19484511  2389254     4.0     1\n",
       "154627  19484511  1505995     3.5     0\n",
       "\n",
       "[246 rows x 4 columns]"
      ]
     },
     "execution_count": 133,
     "metadata": {},
     "output_type": "execute_result"
    }
   ],
   "source": [
    "norm.loc[norm['userID'] == 19484511]"
   ]
  },
  {
   "cell_type": "markdown",
   "metadata": {
    "Collapsed": "false"
   },
   "source": [
    "# Feature Engineering"
   ]
  },
  {
   "cell_type": "code",
   "execution_count": 7,
   "metadata": {
    "Collapsed": "false"
   },
   "outputs": [],
   "source": [
    "# user가 wine_id를 rating하는 각 시점마다 history를 계산"
   ]
  },
  {
   "cell_type": "code",
   "execution_count": 8,
   "metadata": {
    "Collapsed": "false"
   },
   "outputs": [
    {
     "data": {
      "text/plain": [
       "6343"
      ]
     },
     "execution_count": 8,
     "metadata": {},
     "output_type": "execute_result"
    }
   ],
   "source": [
    "train.userID.nunique()"
   ]
  },
  {
   "cell_type": "code",
   "execution_count": 9,
   "metadata": {
    "Collapsed": "false"
   },
   "outputs": [
    {
     "data": {
      "text/html": [
       "<div>\n",
       "<style scoped>\n",
       "    .dataframe tbody tr th:only-of-type {\n",
       "        vertical-align: middle;\n",
       "    }\n",
       "\n",
       "    .dataframe tbody tr th {\n",
       "        vertical-align: top;\n",
       "    }\n",
       "\n",
       "    .dataframe thead th {\n",
       "        text-align: right;\n",
       "    }\n",
       "</style>\n",
       "<table border=\"1\" class=\"dataframe\">\n",
       "  <thead>\n",
       "    <tr style=\"text-align: right;\">\n",
       "      <th></th>\n",
       "      <th>userID</th>\n",
       "      <th>wine_id</th>\n",
       "      <th>rating</th>\n",
       "    </tr>\n",
       "  </thead>\n",
       "  <tbody>\n",
       "    <tr>\n",
       "      <th>240</th>\n",
       "      <td>352674</td>\n",
       "      <td>23051</td>\n",
       "      <td>4.0</td>\n",
       "    </tr>\n",
       "    <tr>\n",
       "      <th>241</th>\n",
       "      <td>352674</td>\n",
       "      <td>18929</td>\n",
       "      <td>4.5</td>\n",
       "    </tr>\n",
       "    <tr>\n",
       "      <th>242</th>\n",
       "      <td>352674</td>\n",
       "      <td>1178210</td>\n",
       "      <td>4.0</td>\n",
       "    </tr>\n",
       "    <tr>\n",
       "      <th>243</th>\n",
       "      <td>352674</td>\n",
       "      <td>1211816</td>\n",
       "      <td>4.5</td>\n",
       "    </tr>\n",
       "    <tr>\n",
       "      <th>244</th>\n",
       "      <td>352674</td>\n",
       "      <td>76431</td>\n",
       "      <td>4.5</td>\n",
       "    </tr>\n",
       "    <tr>\n",
       "      <th>...</th>\n",
       "      <td>...</td>\n",
       "      <td>...</td>\n",
       "      <td>...</td>\n",
       "    </tr>\n",
       "    <tr>\n",
       "      <th>485</th>\n",
       "      <td>352674</td>\n",
       "      <td>1156411</td>\n",
       "      <td>4.0</td>\n",
       "    </tr>\n",
       "    <tr>\n",
       "      <th>486</th>\n",
       "      <td>352674</td>\n",
       "      <td>1191976</td>\n",
       "      <td>4.0</td>\n",
       "    </tr>\n",
       "    <tr>\n",
       "      <th>487</th>\n",
       "      <td>352674</td>\n",
       "      <td>1212255</td>\n",
       "      <td>4.5</td>\n",
       "    </tr>\n",
       "    <tr>\n",
       "      <th>488</th>\n",
       "      <td>352674</td>\n",
       "      <td>1189640</td>\n",
       "      <td>4.0</td>\n",
       "    </tr>\n",
       "    <tr>\n",
       "      <th>489</th>\n",
       "      <td>352674</td>\n",
       "      <td>1977</td>\n",
       "      <td>4.0</td>\n",
       "    </tr>\n",
       "  </tbody>\n",
       "</table>\n",
       "<p>250 rows × 3 columns</p>\n",
       "</div>"
      ],
      "text/plain": [
       "     userID  wine_id  rating\n",
       "240  352674    23051     4.0\n",
       "241  352674    18929     4.5\n",
       "242  352674  1178210     4.0\n",
       "243  352674  1211816     4.5\n",
       "244  352674    76431     4.5\n",
       "..      ...      ...     ...\n",
       "485  352674  1156411     4.0\n",
       "486  352674  1191976     4.0\n",
       "487  352674  1212255     4.5\n",
       "488  352674  1189640     4.0\n",
       "489  352674     1977     4.0\n",
       "\n",
       "[250 rows x 3 columns]"
      ]
     },
     "execution_count": 9,
     "metadata": {},
     "output_type": "execute_result"
    }
   ],
   "source": [
    "# userID '19484511'이 가지는 wine rating history\n",
    "# index 내림차순으로 최근순\n",
    "# 즉 index 0인 2532733에 대한 rating은 그 전 239개를 마시고 내린 rating이라고 볼 수 있음\n",
    "u = train.userID.unique()[1]\n",
    "train.loc[train['userID'] == u]"
   ]
  },
  {
   "cell_type": "code",
   "execution_count": 10,
   "metadata": {
    "Collapsed": "false"
   },
   "outputs": [],
   "source": [
    "u_history = train.loc[train['userID'] == u]"
   ]
  },
  {
   "cell_type": "code",
   "execution_count": 11,
   "metadata": {
    "Collapsed": "false"
   },
   "outputs": [
    {
     "data": {
      "text/plain": [
       "241      18929\n",
       "242    1178210\n",
       "243    1211816\n",
       "244      76431\n",
       "245    2141966\n",
       "246    1258186\n",
       "247      22175\n",
       "248    1926947\n",
       "249    1870315\n",
       "250    2929415\n",
       "Name: wine_id, dtype: int64"
      ]
     },
     "execution_count": 11,
     "metadata": {},
     "output_type": "execute_result"
    }
   ],
   "source": [
    "# 해당 wine 이전 최근에 마신 wine 10개!\n",
    "u_history['wine_id'][1:11]"
   ]
  },
  {
   "cell_type": "code",
   "execution_count": 12,
   "metadata": {
    "Collapsed": "false"
   },
   "outputs": [
    {
     "data": {
      "text/html": [
       "<div>\n",
       "<style scoped>\n",
       "    .dataframe tbody tr th:only-of-type {\n",
       "        vertical-align: middle;\n",
       "    }\n",
       "\n",
       "    .dataframe tbody tr th {\n",
       "        vertical-align: top;\n",
       "    }\n",
       "\n",
       "    .dataframe thead th {\n",
       "        text-align: right;\n",
       "    }\n",
       "</style>\n",
       "<table border=\"1\" class=\"dataframe\">\n",
       "  <thead>\n",
       "    <tr style=\"text-align: right;\">\n",
       "      <th></th>\n",
       "      <th>userID</th>\n",
       "      <th>wine_id</th>\n",
       "      <th>rating</th>\n",
       "    </tr>\n",
       "  </thead>\n",
       "  <tbody>\n",
       "    <tr>\n",
       "      <th>240</th>\n",
       "      <td>352674</td>\n",
       "      <td>23051</td>\n",
       "      <td>4.0</td>\n",
       "    </tr>\n",
       "    <tr>\n",
       "      <th>241</th>\n",
       "      <td>352674</td>\n",
       "      <td>18929</td>\n",
       "      <td>4.5</td>\n",
       "    </tr>\n",
       "    <tr>\n",
       "      <th>242</th>\n",
       "      <td>352674</td>\n",
       "      <td>1178210</td>\n",
       "      <td>4.0</td>\n",
       "    </tr>\n",
       "    <tr>\n",
       "      <th>243</th>\n",
       "      <td>352674</td>\n",
       "      <td>1211816</td>\n",
       "      <td>4.5</td>\n",
       "    </tr>\n",
       "    <tr>\n",
       "      <th>244</th>\n",
       "      <td>352674</td>\n",
       "      <td>76431</td>\n",
       "      <td>4.5</td>\n",
       "    </tr>\n",
       "    <tr>\n",
       "      <th>...</th>\n",
       "      <td>...</td>\n",
       "      <td>...</td>\n",
       "      <td>...</td>\n",
       "    </tr>\n",
       "    <tr>\n",
       "      <th>485</th>\n",
       "      <td>352674</td>\n",
       "      <td>1156411</td>\n",
       "      <td>4.0</td>\n",
       "    </tr>\n",
       "    <tr>\n",
       "      <th>486</th>\n",
       "      <td>352674</td>\n",
       "      <td>1191976</td>\n",
       "      <td>4.0</td>\n",
       "    </tr>\n",
       "    <tr>\n",
       "      <th>487</th>\n",
       "      <td>352674</td>\n",
       "      <td>1212255</td>\n",
       "      <td>4.5</td>\n",
       "    </tr>\n",
       "    <tr>\n",
       "      <th>488</th>\n",
       "      <td>352674</td>\n",
       "      <td>1189640</td>\n",
       "      <td>4.0</td>\n",
       "    </tr>\n",
       "    <tr>\n",
       "      <th>489</th>\n",
       "      <td>352674</td>\n",
       "      <td>1977</td>\n",
       "      <td>4.0</td>\n",
       "    </tr>\n",
       "  </tbody>\n",
       "</table>\n",
       "<p>250 rows × 3 columns</p>\n",
       "</div>"
      ],
      "text/plain": [
       "     userID  wine_id  rating\n",
       "240  352674    23051     4.0\n",
       "241  352674    18929     4.5\n",
       "242  352674  1178210     4.0\n",
       "243  352674  1211816     4.5\n",
       "244  352674    76431     4.5\n",
       "..      ...      ...     ...\n",
       "485  352674  1156411     4.0\n",
       "486  352674  1191976     4.0\n",
       "487  352674  1212255     4.5\n",
       "488  352674  1189640     4.0\n",
       "489  352674     1977     4.0\n",
       "\n",
       "[250 rows x 3 columns]"
      ]
     },
     "execution_count": 12,
     "metadata": {},
     "output_type": "execute_result"
    }
   ],
   "source": [
    "u_history"
   ]
  },
  {
   "cell_type": "code",
   "execution_count": 13,
   "metadata": {
    "Collapsed": "false"
   },
   "outputs": [],
   "source": [
    "## Embedding을 위한 seq부여"
   ]
  },
  {
   "cell_type": "code",
   "execution_count": 14,
   "metadata": {
    "Collapsed": "false"
   },
   "outputs": [],
   "source": [
    "user_ids = train['userID'].unique().tolist()\n",
    "user2user_encoded = {x: i for i, x in enumerate(user_ids)}\n",
    "userencoded2user = {i: x for i, x in enumerate(user_ids)}\n",
    "\n",
    "wine_ids = train['wine_id'].unique().tolist()\n",
    "wine2wine_encoded = {x: i for i, x in enumerate(wine_ids)}\n",
    "wine_encoded2wine = {i: x for i, x in enumerate(wine_ids)}\n",
    "\n",
    "train['enc_userID'] = train['userID'].map(user2user_encoded)\n",
    "train[\"enc_wine_id\"] = train['wine_id'].map(wine2wine_encoded)\n",
    "\n",
    "test['enc_userID'] = test['userID'].map(user2user_encoded)\n",
    "test[\"enc_wine_id\"] = test['wine_id'].map(wine2wine_encoded)"
   ]
  },
  {
   "cell_type": "code",
   "execution_count": 15,
   "metadata": {
    "Collapsed": "false"
   },
   "outputs": [
    {
     "data": {
      "text/html": [
       "<div>\n",
       "<style scoped>\n",
       "    .dataframe tbody tr th:only-of-type {\n",
       "        vertical-align: middle;\n",
       "    }\n",
       "\n",
       "    .dataframe tbody tr th {\n",
       "        vertical-align: top;\n",
       "    }\n",
       "\n",
       "    .dataframe thead th {\n",
       "        text-align: right;\n",
       "    }\n",
       "</style>\n",
       "<table border=\"1\" class=\"dataframe\">\n",
       "  <thead>\n",
       "    <tr style=\"text-align: right;\">\n",
       "      <th></th>\n",
       "      <th>userID</th>\n",
       "      <th>wine_id</th>\n",
       "      <th>rating</th>\n",
       "      <th>enc_userID</th>\n",
       "      <th>enc_wine_id</th>\n",
       "    </tr>\n",
       "  </thead>\n",
       "  <tbody>\n",
       "    <tr>\n",
       "      <th>0</th>\n",
       "      <td>19484511</td>\n",
       "      <td>2532733</td>\n",
       "      <td>4.0</td>\n",
       "      <td>0</td>\n",
       "      <td>0</td>\n",
       "    </tr>\n",
       "    <tr>\n",
       "      <th>1</th>\n",
       "      <td>19484511</td>\n",
       "      <td>1253802</td>\n",
       "      <td>3.5</td>\n",
       "      <td>0</td>\n",
       "      <td>1</td>\n",
       "    </tr>\n",
       "    <tr>\n",
       "      <th>2</th>\n",
       "      <td>19484511</td>\n",
       "      <td>1123441</td>\n",
       "      <td>3.5</td>\n",
       "      <td>0</td>\n",
       "      <td>2</td>\n",
       "    </tr>\n",
       "    <tr>\n",
       "      <th>3</th>\n",
       "      <td>19484511</td>\n",
       "      <td>1157656</td>\n",
       "      <td>3.5</td>\n",
       "      <td>0</td>\n",
       "      <td>3</td>\n",
       "    </tr>\n",
       "    <tr>\n",
       "      <th>4</th>\n",
       "      <td>19484511</td>\n",
       "      <td>1134756</td>\n",
       "      <td>3.5</td>\n",
       "      <td>0</td>\n",
       "      <td>4</td>\n",
       "    </tr>\n",
       "    <tr>\n",
       "      <th>...</th>\n",
       "      <td>...</td>\n",
       "      <td>...</td>\n",
       "      <td>...</td>\n",
       "      <td>...</td>\n",
       "      <td>...</td>\n",
       "    </tr>\n",
       "    <tr>\n",
       "      <th>937751</th>\n",
       "      <td>16607503</td>\n",
       "      <td>1135203</td>\n",
       "      <td>3.5</td>\n",
       "      <td>6342</td>\n",
       "      <td>4672</td>\n",
       "    </tr>\n",
       "    <tr>\n",
       "      <th>937752</th>\n",
       "      <td>16607503</td>\n",
       "      <td>4303173</td>\n",
       "      <td>3.0</td>\n",
       "      <td>6342</td>\n",
       "      <td>1023</td>\n",
       "    </tr>\n",
       "    <tr>\n",
       "      <th>937753</th>\n",
       "      <td>16607503</td>\n",
       "      <td>2364090</td>\n",
       "      <td>4.0</td>\n",
       "      <td>6342</td>\n",
       "      <td>14075</td>\n",
       "    </tr>\n",
       "    <tr>\n",
       "      <th>937754</th>\n",
       "      <td>16607503</td>\n",
       "      <td>1679387</td>\n",
       "      <td>3.5</td>\n",
       "      <td>6342</td>\n",
       "      <td>3894</td>\n",
       "    </tr>\n",
       "    <tr>\n",
       "      <th>937755</th>\n",
       "      <td>16607503</td>\n",
       "      <td>1838367</td>\n",
       "      <td>4.0</td>\n",
       "      <td>6342</td>\n",
       "      <td>4067</td>\n",
       "    </tr>\n",
       "  </tbody>\n",
       "</table>\n",
       "<p>937756 rows × 5 columns</p>\n",
       "</div>"
      ],
      "text/plain": [
       "          userID  wine_id  rating  enc_userID  enc_wine_id\n",
       "0       19484511  2532733     4.0           0            0\n",
       "1       19484511  1253802     3.5           0            1\n",
       "2       19484511  1123441     3.5           0            2\n",
       "3       19484511  1157656     3.5           0            3\n",
       "4       19484511  1134756     3.5           0            4\n",
       "...          ...      ...     ...         ...          ...\n",
       "937751  16607503  1135203     3.5        6342         4672\n",
       "937752  16607503  4303173     3.0        6342         1023\n",
       "937753  16607503  2364090     4.0        6342        14075\n",
       "937754  16607503  1679387     3.5        6342         3894\n",
       "937755  16607503  1838367     4.0        6342         4067\n",
       "\n",
       "[937756 rows x 5 columns]"
      ]
     },
     "execution_count": 15,
     "metadata": {},
     "output_type": "execute_result"
    }
   ],
   "source": [
    "train"
   ]
  },
  {
   "cell_type": "code",
   "execution_count": 183,
   "metadata": {
    "Collapsed": "false"
   },
   "outputs": [
    {
     "name": "stderr",
     "output_type": "stream",
     "text": [
      "100%|██████████| 6343/6343 [39:38<00:00,  2.67it/s] \n"
     ]
    }
   ],
   "source": [
    "train['recent'] = None\n",
    "train['like'] = None\n",
    "train['dislike'] = None\n",
    "test['recent'] = None\n",
    "test['like'] = None\n",
    "test['dislike'] = None\n",
    "\n",
    "for u in tqdm(train.enc_userID.unique()):\n",
    "\n",
    "    u_history = train.loc[train['enc_userID'] == u] # user의 history 전체\n",
    "    test_history = list(u_history['enc_wine_id'][:10]) # test의 history\n",
    "    test_like = list(u_history.loc[u_history['rating'] > 4, 'enc_wine_id'][:10])\n",
    "    test_dislike = list(u_history.loc[u_history['rating'] < 3.5, 'enc_wine_id'][:10])\n",
    "    \n",
    "    recent_history = []\n",
    "    like_list = []\n",
    "    dislike_list = []\n",
    "    for i, (idx, args) in enumerate(zip(u_history.index, u_history.values)):\n",
    "        recent = list(u_history['enc_wine_id'][1+i : 11+i])\n",
    "        recent_history.append(recent)\n",
    "        like = list(u_history.loc[0+idx:].loc[u_history['rating'] > 4, 'enc_wine_id'][:10])\n",
    "        like_list.append(like)\n",
    "        dislike = list(u_history.loc[0+idx:].loc[u_history['rating'] < 3.5, 'enc_wine_id'][:10])\n",
    "        dislike_list.append(dislike)\n",
    "    \n",
    "    train.loc[train['enc_userID'] == u, 'recent'] = recent_history\n",
    "    try:\n",
    "        train.loc[train['enc_userID'] == u, 'like'] = like_list\n",
    "    except:\n",
    "        pass\n",
    "    try:\n",
    "        train.loc[train['enc_userID'] == u, 'dislike'] = dislike_list\n",
    "    except:\n",
    "        pass\n",
    "    \n",
    "    i = test.loc[test['enc_userID'] == u].index[0]\n",
    "    test._set_value(i, 'recent', test_history)\n",
    "    test._set_value(i, 'like', test_like)\n",
    "    test._set_value(i, 'dislike', test_dislike)"
   ]
  },
  {
   "cell_type": "code",
   "execution_count": 185,
   "metadata": {
    "Collapsed": "false"
   },
   "outputs": [],
   "source": [
    "idx = train.loc[train['like'].isnull(), 'like'].index\n",
    "for i in idx:\n",
    "    train._set_value(i, 'like', [])"
   ]
  },
  {
   "cell_type": "code",
   "execution_count": 186,
   "metadata": {
    "Collapsed": "false"
   },
   "outputs": [],
   "source": [
    "idx = train.loc[train['dislike'].isnull(), 'dislike'].index\n",
    "for i in idx:\n",
    "    train._set_value(i, 'dislike', [])"
   ]
  },
  {
   "cell_type": "code",
   "execution_count": 187,
   "metadata": {
    "Collapsed": "false"
   },
   "outputs": [],
   "source": [
    "train.loc[train['like'].apply(lambda x: type(x)) == int, 'like'] = (train.loc[train['like']\n",
    "                                                                              .apply(lambda x: type(x)) == int, 'like']\n",
    "                                                                    .apply(lambda x : [x])\n",
    ")\n",
    "\n",
    "train.loc[train['dislike'].apply(lambda x: type(x)) == int, 'dislike'] = (train.loc[train['dislike']\n",
    "                                                                                   .apply(lambda x: type(x)) == int, 'dislike']\n",
    "                                                                          .apply(lambda x : [x])\n",
    "                                                                         )"
   ]
  },
  {
   "cell_type": "code",
   "execution_count": 188,
   "metadata": {
    "Collapsed": "false"
   },
   "outputs": [
    {
     "data": {
      "text/plain": [
       "['./dataset.pkl']"
      ]
     },
     "execution_count": 188,
     "metadata": {},
     "output_type": "execute_result"
    }
   ],
   "source": [
    "import joblib\n",
    "joblib.dump({\n",
    "    'train' : train,\n",
    "    'test' : test\n",
    "}, './dataset.pkl')"
   ]
  },
  {
   "cell_type": "markdown",
   "metadata": {
    "Collapsed": "false"
   },
   "source": [
    "## 아이템 메타 추가"
   ]
  },
  {
   "cell_type": "code",
   "execution_count": 41,
   "metadata": {
    "Collapsed": "false"
   },
   "outputs": [],
   "source": [
    "item = pd.read_csv('./data/Wine_Meta_final_201208.csv')"
   ]
  },
  {
   "cell_type": "code",
   "execution_count": 42,
   "metadata": {
    "Collapsed": "false"
   },
   "outputs": [
    {
     "data": {
      "text/html": [
       "<div>\n",
       "<style scoped>\n",
       "    .dataframe tbody tr th:only-of-type {\n",
       "        vertical-align: middle;\n",
       "    }\n",
       "\n",
       "    .dataframe tbody tr th {\n",
       "        vertical-align: top;\n",
       "    }\n",
       "\n",
       "    .dataframe thead th {\n",
       "        text-align: right;\n",
       "    }\n",
       "</style>\n",
       "<table border=\"1\" class=\"dataframe\">\n",
       "  <thead>\n",
       "    <tr style=\"text-align: right;\">\n",
       "      <th></th>\n",
       "      <th>wine_id</th>\n",
       "      <th>name</th>\n",
       "      <th>rating_count</th>\n",
       "      <th>rating_average</th>\n",
       "      <th>label_count</th>\n",
       "      <th>review_count</th>\n",
       "      <th>type_id</th>\n",
       "      <th>body</th>\n",
       "      <th>acidity_x</th>\n",
       "      <th>alcohol</th>\n",
       "      <th>...</th>\n",
       "      <th>wood smoke</th>\n",
       "      <th>wood varnish</th>\n",
       "      <th>yeast</th>\n",
       "      <th>yellow apple</th>\n",
       "      <th>yellow beet</th>\n",
       "      <th>yellow peach</th>\n",
       "      <th>yellow plum</th>\n",
       "      <th>yellow raisin</th>\n",
       "      <th>yerba mate</th>\n",
       "      <th>yogurt</th>\n",
       "    </tr>\n",
       "  </thead>\n",
       "  <tbody>\n",
       "    <tr>\n",
       "      <th>0</th>\n",
       "      <td>1938520</td>\n",
       "      <td>1882 Cabernet Sauvignon</td>\n",
       "      <td>1697</td>\n",
       "      <td>4.1</td>\n",
       "      <td>14879</td>\n",
       "      <td>16</td>\n",
       "      <td>1</td>\n",
       "      <td>5.0</td>\n",
       "      <td>2.0</td>\n",
       "      <td>14.5</td>\n",
       "      <td>...</td>\n",
       "      <td>0.0</td>\n",
       "      <td>0.0</td>\n",
       "      <td>0.0</td>\n",
       "      <td>0.0</td>\n",
       "      <td>0.0</td>\n",
       "      <td>0.0</td>\n",
       "      <td>0.0</td>\n",
       "      <td>0.0</td>\n",
       "      <td>0.0</td>\n",
       "      <td>0.0</td>\n",
       "    </tr>\n",
       "    <tr>\n",
       "      <th>1</th>\n",
       "      <td>14604</td>\n",
       "      <td>Les Bessards Hermitage</td>\n",
       "      <td>1078</td>\n",
       "      <td>4.3</td>\n",
       "      <td>5370</td>\n",
       "      <td>3</td>\n",
       "      <td>1</td>\n",
       "      <td>5.0</td>\n",
       "      <td>3.0</td>\n",
       "      <td>14.0</td>\n",
       "      <td>...</td>\n",
       "      <td>0.0</td>\n",
       "      <td>0.0</td>\n",
       "      <td>0.0</td>\n",
       "      <td>0.0</td>\n",
       "      <td>0.0</td>\n",
       "      <td>0.0</td>\n",
       "      <td>0.0</td>\n",
       "      <td>0.0</td>\n",
       "      <td>0.0</td>\n",
       "      <td>0.0</td>\n",
       "    </tr>\n",
       "    <tr>\n",
       "      <th>2</th>\n",
       "      <td>1930757</td>\n",
       "      <td>Patriarch Estate Grown</td>\n",
       "      <td>1072</td>\n",
       "      <td>4.6</td>\n",
       "      <td>6042</td>\n",
       "      <td>25</td>\n",
       "      <td>1</td>\n",
       "      <td>4.0</td>\n",
       "      <td>3.0</td>\n",
       "      <td>14.2</td>\n",
       "      <td>...</td>\n",
       "      <td>0.0</td>\n",
       "      <td>0.0</td>\n",
       "      <td>0.0</td>\n",
       "      <td>0.0</td>\n",
       "      <td>0.0</td>\n",
       "      <td>0.0</td>\n",
       "      <td>0.0</td>\n",
       "      <td>0.0</td>\n",
       "      <td>0.0</td>\n",
       "      <td>0.0</td>\n",
       "    </tr>\n",
       "    <tr>\n",
       "      <th>3</th>\n",
       "      <td>1564280</td>\n",
       "      <td>Merlot</td>\n",
       "      <td>3577</td>\n",
       "      <td>4.3</td>\n",
       "      <td>18748</td>\n",
       "      <td>52</td>\n",
       "      <td>1</td>\n",
       "      <td>4.0</td>\n",
       "      <td>3.0</td>\n",
       "      <td>14.4</td>\n",
       "      <td>...</td>\n",
       "      <td>0.0</td>\n",
       "      <td>0.0</td>\n",
       "      <td>0.0</td>\n",
       "      <td>0.0</td>\n",
       "      <td>0.0</td>\n",
       "      <td>0.0</td>\n",
       "      <td>0.0</td>\n",
       "      <td>0.0</td>\n",
       "      <td>0.0</td>\n",
       "      <td>0.0</td>\n",
       "    </tr>\n",
       "    <tr>\n",
       "      <th>4</th>\n",
       "      <td>2576427</td>\n",
       "      <td>Cabernet Sauvignon F Block</td>\n",
       "      <td>115</td>\n",
       "      <td>4.4</td>\n",
       "      <td>806</td>\n",
       "      <td>1</td>\n",
       "      <td>1</td>\n",
       "      <td>5.0</td>\n",
       "      <td>2.0</td>\n",
       "      <td>0.0</td>\n",
       "      <td>...</td>\n",
       "      <td>0.0</td>\n",
       "      <td>0.0</td>\n",
       "      <td>0.0</td>\n",
       "      <td>0.0</td>\n",
       "      <td>0.0</td>\n",
       "      <td>0.0</td>\n",
       "      <td>0.0</td>\n",
       "      <td>0.0</td>\n",
       "      <td>0.0</td>\n",
       "      <td>0.0</td>\n",
       "    </tr>\n",
       "    <tr>\n",
       "      <th>...</th>\n",
       "      <td>...</td>\n",
       "      <td>...</td>\n",
       "      <td>...</td>\n",
       "      <td>...</td>\n",
       "      <td>...</td>\n",
       "      <td>...</td>\n",
       "      <td>...</td>\n",
       "      <td>...</td>\n",
       "      <td>...</td>\n",
       "      <td>...</td>\n",
       "      <td>...</td>\n",
       "      <td>...</td>\n",
       "      <td>...</td>\n",
       "      <td>...</td>\n",
       "      <td>...</td>\n",
       "      <td>...</td>\n",
       "      <td>...</td>\n",
       "      <td>...</td>\n",
       "      <td>...</td>\n",
       "      <td>...</td>\n",
       "      <td>...</td>\n",
       "    </tr>\n",
       "    <tr>\n",
       "      <th>50855</th>\n",
       "      <td>1669561</td>\n",
       "      <td>Garganega - Pinot Grigio</td>\n",
       "      <td>788</td>\n",
       "      <td>3.5</td>\n",
       "      <td>6635</td>\n",
       "      <td>9</td>\n",
       "      <td>2</td>\n",
       "      <td>3.0</td>\n",
       "      <td>3.0</td>\n",
       "      <td>0.0</td>\n",
       "      <td>...</td>\n",
       "      <td>0.0</td>\n",
       "      <td>0.0</td>\n",
       "      <td>1.0</td>\n",
       "      <td>1.0</td>\n",
       "      <td>0.0</td>\n",
       "      <td>0.0</td>\n",
       "      <td>0.0</td>\n",
       "      <td>0.0</td>\n",
       "      <td>0.0</td>\n",
       "      <td>0.0</td>\n",
       "    </tr>\n",
       "    <tr>\n",
       "      <th>50856</th>\n",
       "      <td>1861275</td>\n",
       "      <td>Dadà Langhe Chardonnay</td>\n",
       "      <td>231</td>\n",
       "      <td>3.8</td>\n",
       "      <td>961</td>\n",
       "      <td>6</td>\n",
       "      <td>2</td>\n",
       "      <td>3.0</td>\n",
       "      <td>3.0</td>\n",
       "      <td>13.5</td>\n",
       "      <td>...</td>\n",
       "      <td>0.0</td>\n",
       "      <td>0.0</td>\n",
       "      <td>0.0</td>\n",
       "      <td>0.0</td>\n",
       "      <td>0.0</td>\n",
       "      <td>0.0</td>\n",
       "      <td>1.0</td>\n",
       "      <td>0.0</td>\n",
       "      <td>0.0</td>\n",
       "      <td>1.0</td>\n",
       "    </tr>\n",
       "    <tr>\n",
       "      <th>50857</th>\n",
       "      <td>2201892</td>\n",
       "      <td>Metodo Zero Prosecco Extra Dry</td>\n",
       "      <td>390</td>\n",
       "      <td>3.9</td>\n",
       "      <td>1983</td>\n",
       "      <td>14</td>\n",
       "      <td>3</td>\n",
       "      <td>1.0</td>\n",
       "      <td>3.0</td>\n",
       "      <td>0.0</td>\n",
       "      <td>...</td>\n",
       "      <td>0.0</td>\n",
       "      <td>0.0</td>\n",
       "      <td>0.0</td>\n",
       "      <td>0.0</td>\n",
       "      <td>0.0</td>\n",
       "      <td>0.0</td>\n",
       "      <td>0.0</td>\n",
       "      <td>0.0</td>\n",
       "      <td>0.0</td>\n",
       "      <td>0.0</td>\n",
       "    </tr>\n",
       "    <tr>\n",
       "      <th>50858</th>\n",
       "      <td>2396179</td>\n",
       "      <td>Les Monts Damnés Sancerre</td>\n",
       "      <td>302</td>\n",
       "      <td>4.2</td>\n",
       "      <td>730</td>\n",
       "      <td>4</td>\n",
       "      <td>2</td>\n",
       "      <td>4.0</td>\n",
       "      <td>3.0</td>\n",
       "      <td>13.5</td>\n",
       "      <td>...</td>\n",
       "      <td>0.0</td>\n",
       "      <td>0.0</td>\n",
       "      <td>1.0</td>\n",
       "      <td>0.0</td>\n",
       "      <td>0.0</td>\n",
       "      <td>0.0</td>\n",
       "      <td>0.0</td>\n",
       "      <td>0.0</td>\n",
       "      <td>0.0</td>\n",
       "      <td>0.0</td>\n",
       "    </tr>\n",
       "    <tr>\n",
       "      <th>50859</th>\n",
       "      <td>7715684</td>\n",
       "      <td>Gran Paso a Paso Doble Monastrell</td>\n",
       "      <td>82</td>\n",
       "      <td>4.1</td>\n",
       "      <td>483</td>\n",
       "      <td>4</td>\n",
       "      <td>1</td>\n",
       "      <td>5.0</td>\n",
       "      <td>3.0</td>\n",
       "      <td>0.0</td>\n",
       "      <td>...</td>\n",
       "      <td>0.0</td>\n",
       "      <td>0.0</td>\n",
       "      <td>0.0</td>\n",
       "      <td>0.0</td>\n",
       "      <td>0.0</td>\n",
       "      <td>0.0</td>\n",
       "      <td>0.0</td>\n",
       "      <td>0.0</td>\n",
       "      <td>0.0</td>\n",
       "      <td>0.0</td>\n",
       "    </tr>\n",
       "  </tbody>\n",
       "</table>\n",
       "<p>50860 rows × 559 columns</p>\n",
       "</div>"
      ],
      "text/plain": [
       "       wine_id                               name  rating_count  \\\n",
       "0      1938520            1882 Cabernet Sauvignon          1697   \n",
       "1        14604             Les Bessards Hermitage          1078   \n",
       "2      1930757             Patriarch Estate Grown          1072   \n",
       "3      1564280                             Merlot          3577   \n",
       "4      2576427         Cabernet Sauvignon F Block           115   \n",
       "...        ...                                ...           ...   \n",
       "50855  1669561           Garganega - Pinot Grigio           788   \n",
       "50856  1861275             Dadà Langhe Chardonnay           231   \n",
       "50857  2201892     Metodo Zero Prosecco Extra Dry           390   \n",
       "50858  2396179          Les Monts Damnés Sancerre           302   \n",
       "50859  7715684  Gran Paso a Paso Doble Monastrell            82   \n",
       "\n",
       "       rating_average  label_count  review_count  type_id  body  acidity_x  \\\n",
       "0                 4.1        14879            16        1   5.0        2.0   \n",
       "1                 4.3         5370             3        1   5.0        3.0   \n",
       "2                 4.6         6042            25        1   4.0        3.0   \n",
       "3                 4.3        18748            52        1   4.0        3.0   \n",
       "4                 4.4          806             1        1   5.0        2.0   \n",
       "...               ...          ...           ...      ...   ...        ...   \n",
       "50855             3.5         6635             9        2   3.0        3.0   \n",
       "50856             3.8          961             6        2   3.0        3.0   \n",
       "50857             3.9         1983            14        3   1.0        3.0   \n",
       "50858             4.2          730             4        2   4.0        3.0   \n",
       "50859             4.1          483             4        1   5.0        3.0   \n",
       "\n",
       "       alcohol  ... wood smoke  wood varnish yeast  yellow apple  yellow beet  \\\n",
       "0         14.5  ...        0.0           0.0   0.0           0.0          0.0   \n",
       "1         14.0  ...        0.0           0.0   0.0           0.0          0.0   \n",
       "2         14.2  ...        0.0           0.0   0.0           0.0          0.0   \n",
       "3         14.4  ...        0.0           0.0   0.0           0.0          0.0   \n",
       "4          0.0  ...        0.0           0.0   0.0           0.0          0.0   \n",
       "...        ...  ...        ...           ...   ...           ...          ...   \n",
       "50855      0.0  ...        0.0           0.0   1.0           1.0          0.0   \n",
       "50856     13.5  ...        0.0           0.0   0.0           0.0          0.0   \n",
       "50857      0.0  ...        0.0           0.0   0.0           0.0          0.0   \n",
       "50858     13.5  ...        0.0           0.0   1.0           0.0          0.0   \n",
       "50859      0.0  ...        0.0           0.0   0.0           0.0          0.0   \n",
       "\n",
       "       yellow peach  yellow plum  yellow raisin  yerba mate  yogurt  \n",
       "0               0.0          0.0            0.0         0.0     0.0  \n",
       "1               0.0          0.0            0.0         0.0     0.0  \n",
       "2               0.0          0.0            0.0         0.0     0.0  \n",
       "3               0.0          0.0            0.0         0.0     0.0  \n",
       "4               0.0          0.0            0.0         0.0     0.0  \n",
       "...             ...          ...            ...         ...     ...  \n",
       "50855           0.0          0.0            0.0         0.0     0.0  \n",
       "50856           0.0          1.0            0.0         0.0     1.0  \n",
       "50857           0.0          0.0            0.0         0.0     0.0  \n",
       "50858           0.0          0.0            0.0         0.0     0.0  \n",
       "50859           0.0          0.0            0.0         0.0     0.0  \n",
       "\n",
       "[50860 rows x 559 columns]"
      ]
     },
     "execution_count": 42,
     "metadata": {},
     "output_type": "execute_result"
    }
   ],
   "source": [
    "item"
   ]
  },
  {
   "cell_type": "code",
   "execution_count": 193,
   "metadata": {
    "Collapsed": "false"
   },
   "outputs": [
    {
     "data": {
      "text/plain": [
       "47"
      ]
     },
     "execution_count": 193,
     "metadata": {},
     "output_type": "execute_result"
    }
   ],
   "source": [
    "# 1886805 해당 wine에 대한 meta 정보가 없음\n",
    "train.loc[train['wine_id'] == 1886805].shape[0]"
   ]
  },
  {
   "cell_type": "code",
   "execution_count": 194,
   "metadata": {
    "Collapsed": "false"
   },
   "outputs": [],
   "source": [
    "train_item = train.merge(item,\n",
    "           on = 'wine_id',\n",
    "           how = 'left')"
   ]
  },
  {
   "cell_type": "code",
   "execution_count": 195,
   "metadata": {
    "Collapsed": "false"
   },
   "outputs": [],
   "source": [
    "test_item = test.merge(item,\n",
    "           on = 'wine_id',\n",
    "           how = 'left')"
   ]
  },
  {
   "cell_type": "code",
   "execution_count": 196,
   "metadata": {
    "Collapsed": "false"
   },
   "outputs": [],
   "source": [
    "train_item.loc[5168, item.columns[1:]] = item.loc[item['wine_id'] == 1183966].values[0][1:]"
   ]
  },
  {
   "cell_type": "code",
   "execution_count": 197,
   "metadata": {
    "Collapsed": "false"
   },
   "outputs": [
    {
     "name": "stderr",
     "output_type": "stream",
     "text": [
      "100%|██████████| 47/47 [01:24<00:00,  1.81s/it]\n"
     ]
    }
   ],
   "source": [
    "for idx in tqdm(train_item.loc[train_item['wine_id'] == 1886805].index):\n",
    "    train_item.loc[idx, item.columns[1:]] = item.loc[item['wine_id'] == 1183966].values[0][1:]"
   ]
  },
  {
   "cell_type": "code",
   "execution_count": 198,
   "metadata": {
    "Collapsed": "false"
   },
   "outputs": [
    {
     "data": {
      "text/html": [
       "<div>\n",
       "<style scoped>\n",
       "    .dataframe tbody tr th:only-of-type {\n",
       "        vertical-align: middle;\n",
       "    }\n",
       "\n",
       "    .dataframe tbody tr th {\n",
       "        vertical-align: top;\n",
       "    }\n",
       "\n",
       "    .dataframe thead th {\n",
       "        text-align: right;\n",
       "    }\n",
       "</style>\n",
       "<table border=\"1\" class=\"dataframe\">\n",
       "  <thead>\n",
       "    <tr style=\"text-align: right;\">\n",
       "      <th></th>\n",
       "      <th>userID</th>\n",
       "      <th>wine_id</th>\n",
       "      <th>rating</th>\n",
       "      <th>enc_userID</th>\n",
       "      <th>enc_wine_id</th>\n",
       "      <th>recent</th>\n",
       "      <th>like</th>\n",
       "      <th>dislike</th>\n",
       "      <th>name</th>\n",
       "      <th>rating_count</th>\n",
       "      <th>...</th>\n",
       "      <th>wood smoke</th>\n",
       "      <th>wood varnish</th>\n",
       "      <th>yeast</th>\n",
       "      <th>yellow apple</th>\n",
       "      <th>yellow beet</th>\n",
       "      <th>yellow peach</th>\n",
       "      <th>yellow plum</th>\n",
       "      <th>yellow raisin</th>\n",
       "      <th>yerba mate</th>\n",
       "      <th>yogurt</th>\n",
       "    </tr>\n",
       "  </thead>\n",
       "  <tbody>\n",
       "    <tr>\n",
       "      <th>5168</th>\n",
       "      <td>15409535</td>\n",
       "      <td>1886805</td>\n",
       "      <td>3.5</td>\n",
       "      <td>18</td>\n",
       "      <td>3924</td>\n",
       "      <td>[3925, 1553, 3926, 3927, 3928, 3929, 3100, 393...</td>\n",
       "      <td>[3254, 2182, 3951, 3958, 3970, 3897, 3995, 400...</td>\n",
       "      <td>[3935, 3948, 3949, 991, 3954, 3961, 3964, 3967...</td>\n",
       "      <td>Méthode Champenoise Brut (Gold Label)</td>\n",
       "      <td>4712.0</td>\n",
       "      <td>...</td>\n",
       "      <td>0.0</td>\n",
       "      <td>0.0</td>\n",
       "      <td>26.0</td>\n",
       "      <td>1.0</td>\n",
       "      <td>0.0</td>\n",
       "      <td>0.0</td>\n",
       "      <td>0.0</td>\n",
       "      <td>0.0</td>\n",
       "      <td>0.0</td>\n",
       "      <td>0.0</td>\n",
       "    </tr>\n",
       "    <tr>\n",
       "      <th>120521</th>\n",
       "      <td>643840</td>\n",
       "      <td>1886805</td>\n",
       "      <td>4.0</td>\n",
       "      <td>466</td>\n",
       "      <td>3924</td>\n",
       "      <td>[18041, 19996, 2520, 27649, 33812, 34386, 1512...</td>\n",
       "      <td>[18041, 19996, 2520, 15125, 4709, 19271, 28926...</td>\n",
       "      <td>[34386, 2997, 34388, 3922, 14182, 3091, 10438,...</td>\n",
       "      <td>Méthode Champenoise Brut (Gold Label)</td>\n",
       "      <td>4712.0</td>\n",
       "      <td>...</td>\n",
       "      <td>0.0</td>\n",
       "      <td>0.0</td>\n",
       "      <td>26.0</td>\n",
       "      <td>1.0</td>\n",
       "      <td>0.0</td>\n",
       "      <td>0.0</td>\n",
       "      <td>0.0</td>\n",
       "      <td>0.0</td>\n",
       "      <td>0.0</td>\n",
       "      <td>0.0</td>\n",
       "    </tr>\n",
       "    <tr>\n",
       "      <th>140564</th>\n",
       "      <td>13358262</td>\n",
       "      <td>1886805</td>\n",
       "      <td>3.0</td>\n",
       "      <td>545</td>\n",
       "      <td>3924</td>\n",
       "      <td>[17669, 2548, 8819, 3537, 3537, 6872, 20193, 3...</td>\n",
       "      <td>[2548, 3537, 3537, 20193, 22192, 36916, 19289,...</td>\n",
       "      <td>[3924, 36911, 7917, 36912, 36913, 4917, 44, 18...</td>\n",
       "      <td>Méthode Champenoise Brut (Gold Label)</td>\n",
       "      <td>4712.0</td>\n",
       "      <td>...</td>\n",
       "      <td>0.0</td>\n",
       "      <td>0.0</td>\n",
       "      <td>26.0</td>\n",
       "      <td>1.0</td>\n",
       "      <td>0.0</td>\n",
       "      <td>0.0</td>\n",
       "      <td>0.0</td>\n",
       "      <td>0.0</td>\n",
       "      <td>0.0</td>\n",
       "      <td>0.0</td>\n",
       "    </tr>\n",
       "    <tr>\n",
       "      <th>144555</th>\n",
       "      <td>12936090</td>\n",
       "      <td>1886805</td>\n",
       "      <td>2.5</td>\n",
       "      <td>560</td>\n",
       "      <td>3924</td>\n",
       "      <td>[6879, 3092, 6552, 12940, 6880, 3846, 3695, 33...</td>\n",
       "      <td>[6880, 20201, 2514, 7928, 37415, 22940, 19443,...</td>\n",
       "      <td>[3924, 6879, 6552, 12940, 26679, 5886, 19697, ...</td>\n",
       "      <td>Méthode Champenoise Brut (Gold Label)</td>\n",
       "      <td>4712.0</td>\n",
       "      <td>...</td>\n",
       "      <td>0.0</td>\n",
       "      <td>0.0</td>\n",
       "      <td>26.0</td>\n",
       "      <td>1.0</td>\n",
       "      <td>0.0</td>\n",
       "      <td>0.0</td>\n",
       "      <td>0.0</td>\n",
       "      <td>0.0</td>\n",
       "      <td>0.0</td>\n",
       "      <td>0.0</td>\n",
       "    </tr>\n",
       "    <tr>\n",
       "      <th>173278</th>\n",
       "      <td>2301477</td>\n",
       "      <td>1886805</td>\n",
       "      <td>3.5</td>\n",
       "      <td>674</td>\n",
       "      <td>3924</td>\n",
       "      <td>[4089, 4252, 33914, 2805, 3742, 3660, 13173, 3...</td>\n",
       "      <td>[4252, 3742, 3660, 13173, 1605, 17558, 14178, ...</td>\n",
       "      <td>[5412, 2320, 3937, 33387, 7219, 9884, 3363, 10...</td>\n",
       "      <td>Méthode Champenoise Brut (Gold Label)</td>\n",
       "      <td>4712.0</td>\n",
       "      <td>...</td>\n",
       "      <td>0.0</td>\n",
       "      <td>0.0</td>\n",
       "      <td>26.0</td>\n",
       "      <td>1.0</td>\n",
       "      <td>0.0</td>\n",
       "      <td>0.0</td>\n",
       "      <td>0.0</td>\n",
       "      <td>0.0</td>\n",
       "      <td>0.0</td>\n",
       "      <td>0.0</td>\n",
       "    </tr>\n",
       "  </tbody>\n",
       "</table>\n",
       "<p>5 rows × 566 columns</p>\n",
       "</div>"
      ],
      "text/plain": [
       "          userID  wine_id  rating  enc_userID  enc_wine_id  \\\n",
       "5168    15409535  1886805     3.5          18         3924   \n",
       "120521    643840  1886805     4.0         466         3924   \n",
       "140564  13358262  1886805     3.0         545         3924   \n",
       "144555  12936090  1886805     2.5         560         3924   \n",
       "173278   2301477  1886805     3.5         674         3924   \n",
       "\n",
       "                                                   recent  \\\n",
       "5168    [3925, 1553, 3926, 3927, 3928, 3929, 3100, 393...   \n",
       "120521  [18041, 19996, 2520, 27649, 33812, 34386, 1512...   \n",
       "140564  [17669, 2548, 8819, 3537, 3537, 6872, 20193, 3...   \n",
       "144555  [6879, 3092, 6552, 12940, 6880, 3846, 3695, 33...   \n",
       "173278  [4089, 4252, 33914, 2805, 3742, 3660, 13173, 3...   \n",
       "\n",
       "                                                     like  \\\n",
       "5168    [3254, 2182, 3951, 3958, 3970, 3897, 3995, 400...   \n",
       "120521  [18041, 19996, 2520, 15125, 4709, 19271, 28926...   \n",
       "140564  [2548, 3537, 3537, 20193, 22192, 36916, 19289,...   \n",
       "144555  [6880, 20201, 2514, 7928, 37415, 22940, 19443,...   \n",
       "173278  [4252, 3742, 3660, 13173, 1605, 17558, 14178, ...   \n",
       "\n",
       "                                                  dislike  \\\n",
       "5168    [3935, 3948, 3949, 991, 3954, 3961, 3964, 3967...   \n",
       "120521  [34386, 2997, 34388, 3922, 14182, 3091, 10438,...   \n",
       "140564  [3924, 36911, 7917, 36912, 36913, 4917, 44, 18...   \n",
       "144555  [3924, 6879, 6552, 12940, 26679, 5886, 19697, ...   \n",
       "173278  [5412, 2320, 3937, 33387, 7219, 9884, 3363, 10...   \n",
       "\n",
       "                                         name  rating_count  ...  wood smoke  \\\n",
       "5168    Méthode Champenoise Brut (Gold Label)        4712.0  ...         0.0   \n",
       "120521  Méthode Champenoise Brut (Gold Label)        4712.0  ...         0.0   \n",
       "140564  Méthode Champenoise Brut (Gold Label)        4712.0  ...         0.0   \n",
       "144555  Méthode Champenoise Brut (Gold Label)        4712.0  ...         0.0   \n",
       "173278  Méthode Champenoise Brut (Gold Label)        4712.0  ...         0.0   \n",
       "\n",
       "        wood varnish  yeast  yellow apple  yellow beet  yellow peach  \\\n",
       "5168             0.0   26.0           1.0          0.0           0.0   \n",
       "120521           0.0   26.0           1.0          0.0           0.0   \n",
       "140564           0.0   26.0           1.0          0.0           0.0   \n",
       "144555           0.0   26.0           1.0          0.0           0.0   \n",
       "173278           0.0   26.0           1.0          0.0           0.0   \n",
       "\n",
       "        yellow plum yellow raisin  yerba mate yogurt  \n",
       "5168            0.0           0.0         0.0    0.0  \n",
       "120521          0.0           0.0         0.0    0.0  \n",
       "140564          0.0           0.0         0.0    0.0  \n",
       "144555          0.0           0.0         0.0    0.0  \n",
       "173278          0.0           0.0         0.0    0.0  \n",
       "\n",
       "[5 rows x 566 columns]"
      ]
     },
     "execution_count": 198,
     "metadata": {},
     "output_type": "execute_result"
    }
   ],
   "source": [
    "train_item.loc[train_item['wine_id'] == 1886805].head()"
   ]
  },
  {
   "cell_type": "code",
   "execution_count": 199,
   "metadata": {
    "Collapsed": "false"
   },
   "outputs": [
    {
     "data": {
      "text/plain": [
       "['./dataset_item.pkl']"
      ]
     },
     "execution_count": 199,
     "metadata": {},
     "output_type": "execute_result"
    }
   ],
   "source": [
    "joblib.dump({\n",
    "    'train' : train_item,\n",
    "    'test' : test_item\n",
    "}, './dataset_item.pkl')"
   ]
  },
  {
   "cell_type": "code",
   "execution_count": 121,
   "metadata": {
    "Collapsed": "false"
   },
   "outputs": [],
   "source": [
    "from sklearn.decomposition import PCA"
   ]
  },
  {
   "cell_type": "code",
   "execution_count": 167,
   "metadata": {
    "Collapsed": "false"
   },
   "outputs": [],
   "source": [
    "pca = PCA(n_components = 50)"
   ]
  },
  {
   "cell_type": "code",
   "execution_count": 142,
   "metadata": {
    "Collapsed": "false"
   },
   "outputs": [],
   "source": [
    "categorical_columns = list(item.columns[item.columns.str.contains('_id')])"
   ]
  },
  {
   "cell_type": "code",
   "execution_count": 161,
   "metadata": {
    "Collapsed": "false"
   },
   "outputs": [],
   "source": [
    "categorical_columns = categorical_columns[1:] + ['country_code']"
   ]
  },
  {
   "cell_type": "code",
   "execution_count": 162,
   "metadata": {
    "Collapsed": "false"
   },
   "outputs": [],
   "source": [
    "item_continuous = item.drop(categorical_columns[1:], axis = 1)"
   ]
  },
  {
   "cell_type": "code",
   "execution_count": 168,
   "metadata": {
    "Collapsed": "false"
   },
   "outputs": [],
   "source": [
    "reduced = pca.fit_transform(item_continuous.iloc[:, 2:].fillna(0))"
   ]
  },
  {
   "cell_type": "code",
   "execution_count": 177,
   "metadata": {
    "Collapsed": "false"
   },
   "outputs": [],
   "source": [
    "item_reduced = pd.DataFrame(reduced, index = item.wine_id, columns = ['pca_{}'.format(i) for i in range(1, 51)])"
   ]
  },
  {
   "cell_type": "code",
   "execution_count": 202,
   "metadata": {
    "Collapsed": "false"
   },
   "outputs": [],
   "source": [
    "item_reduced = item_reduced.reset_index()"
   ]
  },
  {
   "cell_type": "code",
   "execution_count": 204,
   "metadata": {
    "Collapsed": "false"
   },
   "outputs": [],
   "source": [
    "train_item_pca = train.merge(item_reduced,\n",
    "           on = 'wine_id',\n",
    "           how = 'left')"
   ]
  },
  {
   "cell_type": "code",
   "execution_count": 210,
   "metadata": {
    "Collapsed": "false"
   },
   "outputs": [],
   "source": [
    "test_item_pca = test.merge(item_reduced,\n",
    "           on = 'wine_id',\n",
    "           how = 'left')"
   ]
  },
  {
   "cell_type": "code",
   "execution_count": 212,
   "metadata": {
    "Collapsed": "false"
   },
   "outputs": [
    {
     "data": {
      "text/plain": [
       "['./dataset_item_pca.pkl']"
      ]
     },
     "execution_count": 212,
     "metadata": {},
     "output_type": "execute_result"
    }
   ],
   "source": [
    "joblib.dump({\n",
    "    'train' : train_item_pca,\n",
    "    'test' : test_item_pca\n",
    "}, './dataset_item_pca.pkl')"
   ]
  },
  {
   "cell_type": "code",
   "execution_count": 213,
   "metadata": {
    "Collapsed": "false"
   },
   "outputs": [],
   "source": [
    "from sklearn.preprocessing import MinMaxScaler\n",
    "scaler = MinMaxScaler()"
   ]
  }
 ],
 "metadata": {
  "kernelspec": {
   "display_name": "Python 3",
   "language": "python",
   "name": "python3"
  },
  "language_info": {
   "codemirror_mode": {
    "name": "ipython",
    "version": 3
   },
   "file_extension": ".py",
   "mimetype": "text/x-python",
   "name": "python",
   "nbconvert_exporter": "python",
   "pygments_lexer": "ipython3",
   "version": "3.7.6"
  }
 },
 "nbformat": 4,
 "nbformat_minor": 4
}
