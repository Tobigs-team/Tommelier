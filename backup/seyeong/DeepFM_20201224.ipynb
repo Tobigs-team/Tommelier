{
  "nbformat": 4,
  "nbformat_minor": 0,
  "metadata": {
    "colab": {
      "name": "DeepFM_20201224.ipynb",
      "provenance": [],
      "collapsed_sections": []
    },
    "kernelspec": {
      "name": "python3",
      "display_name": "Python 3"
    }
  },
  "cells": [
    {
      "cell_type": "code",
      "metadata": {
        "colab": {
          "base_uri": "https://localhost:8080/"
        },
        "id": "IcVy7RaYfWz4",
        "outputId": "17afb091-5ba0-43bc-9026-8b2360fed499"
      },
      "source": [
        "pip install deepctr"
      ],
      "execution_count": 1,
      "outputs": [
        {
          "output_type": "stream",
          "text": [
            "Collecting deepctr\n",
            "\u001b[?25l  Downloading https://files.pythonhosted.org/packages/5d/61/fb1c7f06f0fed2be82068f365824532afcf0bbed77e85cdb4107196ea0bf/deepctr-0.8.2-py3-none-any.whl (110kB)\n",
            "\r\u001b[K     |███                             | 10kB 13.8MB/s eta 0:00:01\r\u001b[K     |██████                          | 20kB 18.7MB/s eta 0:00:01\r\u001b[K     |████████▉                       | 30kB 12.4MB/s eta 0:00:01\r\u001b[K     |███████████▉                    | 40kB 8.3MB/s eta 0:00:01\r\u001b[K     |██████████████▊                 | 51kB 4.3MB/s eta 0:00:01\r\u001b[K     |█████████████████▊              | 61kB 4.8MB/s eta 0:00:01\r\u001b[K     |████████████████████▋           | 71kB 5.0MB/s eta 0:00:01\r\u001b[K     |███████████████████████▋        | 81kB 5.4MB/s eta 0:00:01\r\u001b[K     |██████████████████████████▋     | 92kB 5.8MB/s eta 0:00:01\r\u001b[K     |█████████████████████████████▌  | 102kB 5.7MB/s eta 0:00:01\r\u001b[K     |████████████████████████████████| 112kB 5.7MB/s \n",
            "\u001b[?25hRequirement already satisfied: requests in /usr/local/lib/python3.6/dist-packages (from deepctr) (2.23.0)\n",
            "Requirement already satisfied: h5py in /usr/local/lib/python3.6/dist-packages (from deepctr) (2.10.0)\n",
            "Requirement already satisfied: urllib3!=1.25.0,!=1.25.1,<1.26,>=1.21.1 in /usr/local/lib/python3.6/dist-packages (from requests->deepctr) (1.24.3)\n",
            "Requirement already satisfied: idna<3,>=2.5 in /usr/local/lib/python3.6/dist-packages (from requests->deepctr) (2.10)\n",
            "Requirement already satisfied: certifi>=2017.4.17 in /usr/local/lib/python3.6/dist-packages (from requests->deepctr) (2020.12.5)\n",
            "Requirement already satisfied: chardet<4,>=3.0.2 in /usr/local/lib/python3.6/dist-packages (from requests->deepctr) (3.0.4)\n",
            "Requirement already satisfied: six in /usr/local/lib/python3.6/dist-packages (from h5py->deepctr) (1.15.0)\n",
            "Requirement already satisfied: numpy>=1.7 in /usr/local/lib/python3.6/dist-packages (from h5py->deepctr) (1.19.4)\n",
            "Installing collected packages: deepctr\n",
            "Successfully installed deepctr-0.8.2\n"
          ],
          "name": "stdout"
        }
      ]
    },
    {
      "cell_type": "code",
      "metadata": {
        "colab": {
          "base_uri": "https://localhost:8080/"
        },
        "id": "h-0PNmcMf7Ga",
        "outputId": "537e9400-4f95-42d5-90c8-794103c2f515"
      },
      "source": [
        "from google.colab import drive\r\n",
        "drive.mount('/content/drive')\r\n",
        "\r\n",
        "%cd /content/drive/My Drive/Tobigs/컨퍼런스_와인추천/"
      ],
      "execution_count": 2,
      "outputs": [
        {
          "output_type": "stream",
          "text": [
            "Mounted at /content/drive\n",
            "/content/drive/My Drive/Tobigs/컨퍼런스_와인추천\n"
          ],
          "name": "stdout"
        }
      ]
    },
    {
      "cell_type": "code",
      "metadata": {
        "id": "uiuLR-nrgRMU"
      },
      "source": [
        "import pandas as pd\r\n",
        "import numpy as np\r\n",
        "from deepctr.models import DeepFM\r\n",
        "from deepctr.feature_column import SparseFeat, DenseFeat, get_feature_names\r\n",
        "from sklearn.preprocessing import LabelEncoder, MinMaxScaler\r\n",
        "from tf.keras.callbacks import EarlyStopping\r\n",
        "from sklearn.metrics import accuracy_score, roc_auc_score"
      ],
      "execution_count": 3,
      "outputs": []
    },
    {
      "cell_type": "code",
      "metadata": {
        "id": "DcMQGP9Mgg4u"
      },
      "source": [
        "train_df = pd.read_json('Data 최종본/train_all_meta_v2.json')\r\n",
        "test_df = pd.read_json('Data 최종본/test_all_meta_v2.json')"
      ],
      "execution_count": 4,
      "outputs": []
    },
    {
      "cell_type": "markdown",
      "metadata": {
        "id": "9TepuZujfu0d"
      },
      "source": [
        "feature : userID, food, grapes, region_id + 연속형 변수"
      ]
    },
    {
      "cell_type": "code",
      "metadata": {
        "id": "WI9O6VS_fqoF"
      },
      "source": [
        "X_train = train_df.loc[:,['rating_count','rating_average','body','acidity','alcohol','winery_ratings_count','winery_ratings_average','user_follower_count','user_following_count','user_rating_count','userID','food','grapes','region_id']]\r\n",
        "y_train = train_df['like']\r\n",
        "X_test = test_df.loc[:,['rating_count','rating_average','body','acidity','alcohol','winery_ratings_count','winery_ratings_average','user_follower_count','user_following_count','user_rating_count','userID','food','grapes','region_id']]\r\n",
        "y_test = test_df['like']"
      ],
      "execution_count": 5,
      "outputs": []
    },
    {
      "cell_type": "code",
      "metadata": {
        "id": "c5M3mNC9fqlS"
      },
      "source": [
        "# food 리스트 -> str\r\n",
        "food_str = []\r\n",
        "for i in range(len(X_train['food'])):\r\n",
        "    if X_train['food'][i]:food_str.append(' '.join(X_train['food'][i]))\r\n",
        "    else:food_str.append(' ')\r\n",
        "X_train.food = pd.Series(food_str, name='food')\r\n",
        "\r\n",
        "food_str = []\r\n",
        "for i in range(len(X_test['food'])):\r\n",
        "    if X_test['food'][i]:food_str.append(' '.join(X_test['food'][i]))\r\n",
        "    else:food_str.append(' ')\r\n",
        "X_test.food = pd.Series(food_str, name='food')\r\n",
        "\r\n",
        "# grapes 리스트 -> str\r\n",
        "grapes_str = []\r\n",
        "for i in range(len(X_train['grapes'])):\r\n",
        "    if X_train['grapes'][i]:grapes_str.append(' '.join(X_train['grapes'][i]))\r\n",
        "    else:grapes_str.append(' ')\r\n",
        "X_train.grapes = pd.Series(grapes_str, name='grapes')\r\n",
        "\r\n",
        "grapes_str = []\r\n",
        "for i in range(len(X_test['grapes'])):\r\n",
        "    if X_test['grapes'][i]:grapes_str.append(' '.join(X_test['grapes'][i]))\r\n",
        "    else:grapes_str.append(' ')\r\n",
        "X_test.grapes = pd.Series(grapes_str, name='grapes')\r\n",
        "\r\n",
        "# userID, region_id -> str\r\n",
        "X_train.userID = X_train.userID.astype(str)\r\n",
        "X_train.region_id = X_train.region_id.astype(str)\r\n",
        "\r\n",
        "X_test.userID = X_test.userID.astype(str)\r\n",
        "X_test.region_id = X_test.region_id.astype(str)"
      ],
      "execution_count": 6,
      "outputs": []
    },
    {
      "cell_type": "code",
      "metadata": {
        "id": "WI5zSCGUf26U"
      },
      "source": [
        "sparse_features = ['userID', 'food', 'grapes', 'region_id']\r\n",
        "\r\n",
        "dense_features = ['rating_count', 'rating_average', 'body', 'acidity', 'alcohol',\r\n",
        "       'winery_ratings_count', 'winery_ratings_average', 'user_follower_count',\r\n",
        "       'user_following_count', 'user_rating_count']\r\n",
        "\r\n",
        "for feat in sparse_features:\r\n",
        "        lbe = LabelEncoder()\r\n",
        "        all = pd.concat([X_train[feat], X_test[feat]], axis=0).drop_duplicates() # train, test 전체를 묶어서 LabelEncoder fit\r\n",
        "        lbe = lbe.fit(all)\r\n",
        "        X_train[feat] = lbe.transform(X_train[feat])\r\n",
        "        X_test[feat] = lbe.transform(X_test[feat])\r\n",
        "\r\n",
        "mms = MinMaxScaler(feature_range=(0, 1))\r\n",
        "X_train[dense_features] = mms.fit_transform(X_train[dense_features])\r\n",
        "X_test[dense_features] = mms.transform(X_test[dense_features])\r\n",
        "\r\n",
        "fixlen_feature_columns = [SparseFeat(feat, vocabulary_size=X_train[feat].nunique(),embedding_dim=4)\r\n",
        "                           for i,feat in enumerate(sparse_features)] + [DenseFeat(feat, 1,) for feat in dense_features]\r\n",
        "\r\n",
        "dnn_feature_columns = fixlen_feature_columns\r\n",
        "linear_feature_columns = fixlen_feature_columns\r\n",
        "\r\n",
        "feature_names = get_feature_names(linear_feature_columns + dnn_feature_columns)\r\n",
        "\r\n",
        "# 결측치 mean으로 처리\r\n",
        "X_train.fillna(X_train.mean(), inplace=True)\r\n",
        "X_test.fillna(X_test.mean(), inplace=True)\r\n",
        "\r\n",
        "train_model_input = {name:X_train[name] for name in feature_names}\r\n",
        "test_model_input = {name:X_test[name] for name in feature_names}"
      ],
      "execution_count": 7,
      "outputs": []
    },
    {
      "cell_type": "code",
      "metadata": {
        "id": "35vy8GK_h2r-"
      },
      "source": [
        "# parameters\r\n",
        "BATCH_SIZE = 256\r\n",
        "EPOCHS = 100\r\n",
        "# early_stopping = EarlyStopping(monitor='val_loss', mode='min', verbose=1, patience=10)"
      ],
      "execution_count": 8,
      "outputs": []
    },
    {
      "cell_type": "code",
      "metadata": {
        "colab": {
          "base_uri": "https://localhost:8080/"
        },
        "id": "BLDLneF4fqil",
        "outputId": "67e80034-44fa-45f3-f229-5039a3d64844"
      },
      "source": [
        "model = DeepFM(linear_feature_columns, dnn_feature_columns, task='binary')\r\n",
        "model.compile(\"adam\", \"binary_crossentropy\",metrics=['binary_crossentropy'])\r\n",
        "\r\n",
        "history = model.fit(train_model_input, y_train.values,\r\n",
        "                    batch_size=BATCH_SIZE, epochs=EPOCHS, verbose=2, validation_split=0.2)\r\n",
        "y_pred = model.predict(test_model_input, batch_size=BATCH_SIZE)\r\n",
        "print(\"test AUC\", round(roc_auc_score(y_test.values, y_pred), 4))\r\n",
        "print(\"\\ntest Auccuracy\", round(accuracy_score(y_test.values, y_pred.round()), 4))"
      ],
      "execution_count": 9,
      "outputs": [
        {
          "output_type": "stream",
          "text": [
            "Epoch 1/100\n",
            "2386/2386 - 18s - loss: 0.5707 - binary_crossentropy: 0.5701 - val_loss: 0.6516 - val_binary_crossentropy: 0.6506\n",
            "Epoch 2/100\n",
            "2386/2386 - 14s - loss: 0.5421 - binary_crossentropy: 0.5405 - val_loss: 0.6638 - val_binary_crossentropy: 0.6618\n",
            "Epoch 3/100\n",
            "2386/2386 - 14s - loss: 0.5358 - binary_crossentropy: 0.5333 - val_loss: 0.6615 - val_binary_crossentropy: 0.6586\n",
            "Epoch 4/100\n",
            "2386/2386 - 13s - loss: 0.5297 - binary_crossentropy: 0.5265 - val_loss: 0.6549 - val_binary_crossentropy: 0.6514\n",
            "Epoch 5/100\n",
            "2386/2386 - 13s - loss: 0.5256 - binary_crossentropy: 0.5218 - val_loss: 0.6499 - val_binary_crossentropy: 0.6459\n",
            "Epoch 6/100\n",
            "2386/2386 - 14s - loss: 0.5225 - binary_crossentropy: 0.5181 - val_loss: 0.6457 - val_binary_crossentropy: 0.6411\n",
            "Epoch 7/100\n",
            "2386/2386 - 14s - loss: 0.5201 - binary_crossentropy: 0.5152 - val_loss: 0.6504 - val_binary_crossentropy: 0.6453\n",
            "Epoch 8/100\n",
            "2386/2386 - 14s - loss: 0.5181 - binary_crossentropy: 0.5126 - val_loss: 0.6560 - val_binary_crossentropy: 0.6504\n",
            "Epoch 9/100\n",
            "2386/2386 - 13s - loss: 0.5162 - binary_crossentropy: 0.5103 - val_loss: 0.6539 - val_binary_crossentropy: 0.6479\n",
            "Epoch 10/100\n",
            "2386/2386 - 14s - loss: 0.5147 - binary_crossentropy: 0.5084 - val_loss: 0.6567 - val_binary_crossentropy: 0.6503\n",
            "Epoch 11/100\n",
            "2386/2386 - 13s - loss: 0.5137 - binary_crossentropy: 0.5070 - val_loss: 0.6706 - val_binary_crossentropy: 0.6638\n",
            "Epoch 12/100\n",
            "2386/2386 - 14s - loss: 0.5122 - binary_crossentropy: 0.5051 - val_loss: 0.6511 - val_binary_crossentropy: 0.6439\n",
            "Epoch 13/100\n",
            "2386/2386 - 13s - loss: 0.5114 - binary_crossentropy: 0.5039 - val_loss: 0.6516 - val_binary_crossentropy: 0.6440\n",
            "Epoch 14/100\n",
            "2386/2386 - 13s - loss: 0.5105 - binary_crossentropy: 0.5027 - val_loss: 0.6527 - val_binary_crossentropy: 0.6448\n",
            "Epoch 15/100\n",
            "2386/2386 - 13s - loss: 0.5095 - binary_crossentropy: 0.5013 - val_loss: 0.6549 - val_binary_crossentropy: 0.6467\n",
            "Epoch 16/100\n",
            "2386/2386 - 14s - loss: 0.5085 - binary_crossentropy: 0.5001 - val_loss: 0.6536 - val_binary_crossentropy: 0.6451\n",
            "Epoch 17/100\n",
            "2386/2386 - 13s - loss: 0.5077 - binary_crossentropy: 0.4990 - val_loss: 0.6565 - val_binary_crossentropy: 0.6477\n",
            "Epoch 18/100\n",
            "2386/2386 - 13s - loss: 0.5070 - binary_crossentropy: 0.4980 - val_loss: 0.6530 - val_binary_crossentropy: 0.6439\n",
            "Epoch 19/100\n",
            "2386/2386 - 12s - loss: 0.5061 - binary_crossentropy: 0.4968 - val_loss: 0.6487 - val_binary_crossentropy: 0.6394\n",
            "Epoch 20/100\n",
            "2386/2386 - 14s - loss: 0.5055 - binary_crossentropy: 0.4960 - val_loss: 0.6522 - val_binary_crossentropy: 0.6427\n",
            "Epoch 21/100\n",
            "2386/2386 - 13s - loss: 0.5047 - binary_crossentropy: 0.4949 - val_loss: 0.6558 - val_binary_crossentropy: 0.6460\n",
            "Epoch 22/100\n",
            "2386/2386 - 13s - loss: 0.5040 - binary_crossentropy: 0.4940 - val_loss: 0.6616 - val_binary_crossentropy: 0.6515\n",
            "Epoch 23/100\n",
            "2386/2386 - 13s - loss: 0.5032 - binary_crossentropy: 0.4930 - val_loss: 0.6634 - val_binary_crossentropy: 0.6531\n",
            "Epoch 24/100\n",
            "2386/2386 - 13s - loss: 0.5025 - binary_crossentropy: 0.4921 - val_loss: 0.6632 - val_binary_crossentropy: 0.6527\n",
            "Epoch 25/100\n",
            "2386/2386 - 13s - loss: 0.5019 - binary_crossentropy: 0.4913 - val_loss: 0.6569 - val_binary_crossentropy: 0.6462\n",
            "Epoch 26/100\n",
            "2386/2386 - 13s - loss: 0.5011 - binary_crossentropy: 0.4903 - val_loss: 0.6595 - val_binary_crossentropy: 0.6486\n",
            "Epoch 27/100\n",
            "2386/2386 - 13s - loss: 0.5006 - binary_crossentropy: 0.4896 - val_loss: 0.6607 - val_binary_crossentropy: 0.6496\n",
            "Epoch 28/100\n",
            "2386/2386 - 13s - loss: 0.4997 - binary_crossentropy: 0.4885 - val_loss: 0.6617 - val_binary_crossentropy: 0.6504\n",
            "Epoch 29/100\n",
            "2386/2386 - 13s - loss: 0.4992 - binary_crossentropy: 0.4878 - val_loss: 0.6599 - val_binary_crossentropy: 0.6484\n",
            "Epoch 30/100\n",
            "2386/2386 - 13s - loss: 0.4989 - binary_crossentropy: 0.4873 - val_loss: 0.6640 - val_binary_crossentropy: 0.6524\n",
            "Epoch 31/100\n",
            "2386/2386 - 13s - loss: 0.4981 - binary_crossentropy: 0.4863 - val_loss: 0.6678 - val_binary_crossentropy: 0.6559\n",
            "Epoch 32/100\n",
            "2386/2386 - 13s - loss: 0.4974 - binary_crossentropy: 0.4854 - val_loss: 0.6661 - val_binary_crossentropy: 0.6541\n",
            "Epoch 33/100\n",
            "2386/2386 - 13s - loss: 0.4970 - binary_crossentropy: 0.4848 - val_loss: 0.6674 - val_binary_crossentropy: 0.6552\n",
            "Epoch 34/100\n",
            "2386/2386 - 13s - loss: 0.4963 - binary_crossentropy: 0.4840 - val_loss: 0.6717 - val_binary_crossentropy: 0.6594\n",
            "Epoch 35/100\n",
            "2386/2386 - 13s - loss: 0.4957 - binary_crossentropy: 0.4832 - val_loss: 0.6668 - val_binary_crossentropy: 0.6543\n",
            "Epoch 36/100\n",
            "2386/2386 - 13s - loss: 0.4953 - binary_crossentropy: 0.4826 - val_loss: 0.6725 - val_binary_crossentropy: 0.6599\n",
            "Epoch 37/100\n",
            "2386/2386 - 13s - loss: 0.4948 - binary_crossentropy: 0.4820 - val_loss: 0.6706 - val_binary_crossentropy: 0.6577\n",
            "Epoch 38/100\n",
            "2386/2386 - 13s - loss: 0.4941 - binary_crossentropy: 0.4811 - val_loss: 0.6756 - val_binary_crossentropy: 0.6626\n",
            "Epoch 39/100\n",
            "2386/2386 - 13s - loss: 0.4937 - binary_crossentropy: 0.4807 - val_loss: 0.6753 - val_binary_crossentropy: 0.6622\n",
            "Epoch 40/100\n",
            "2386/2386 - 13s - loss: 0.4931 - binary_crossentropy: 0.4798 - val_loss: 0.6755 - val_binary_crossentropy: 0.6623\n",
            "Epoch 41/100\n",
            "2386/2386 - 14s - loss: 0.4927 - binary_crossentropy: 0.4793 - val_loss: 0.6782 - val_binary_crossentropy: 0.6648\n",
            "Epoch 42/100\n",
            "2386/2386 - 12s - loss: 0.4921 - binary_crossentropy: 0.4786 - val_loss: 0.6768 - val_binary_crossentropy: 0.6632\n",
            "Epoch 43/100\n",
            "2386/2386 - 12s - loss: 0.4918 - binary_crossentropy: 0.4782 - val_loss: 0.6781 - val_binary_crossentropy: 0.6644\n",
            "Epoch 44/100\n",
            "2386/2386 - 13s - loss: 0.4914 - binary_crossentropy: 0.4777 - val_loss: 0.6847 - val_binary_crossentropy: 0.6709\n",
            "Epoch 45/100\n",
            "2386/2386 - 12s - loss: 0.4910 - binary_crossentropy: 0.4771 - val_loss: 0.6766 - val_binary_crossentropy: 0.6626\n",
            "Epoch 46/100\n",
            "2386/2386 - 13s - loss: 0.4907 - binary_crossentropy: 0.4766 - val_loss: 0.6822 - val_binary_crossentropy: 0.6682\n",
            "Epoch 47/100\n",
            "2386/2386 - 13s - loss: 0.4901 - binary_crossentropy: 0.4759 - val_loss: 0.6821 - val_binary_crossentropy: 0.6680\n",
            "Epoch 48/100\n",
            "2386/2386 - 12s - loss: 0.4898 - binary_crossentropy: 0.4756 - val_loss: 0.6854 - val_binary_crossentropy: 0.6711\n",
            "Epoch 49/100\n",
            "2386/2386 - 13s - loss: 0.4892 - binary_crossentropy: 0.4748 - val_loss: 0.6902 - val_binary_crossentropy: 0.6758\n",
            "Epoch 50/100\n",
            "2386/2386 - 13s - loss: 0.4889 - binary_crossentropy: 0.4744 - val_loss: 0.6891 - val_binary_crossentropy: 0.6746\n",
            "Epoch 51/100\n",
            "2386/2386 - 13s - loss: 0.4883 - binary_crossentropy: 0.4737 - val_loss: 0.6863 - val_binary_crossentropy: 0.6717\n",
            "Epoch 52/100\n",
            "2386/2386 - 12s - loss: 0.4882 - binary_crossentropy: 0.4735 - val_loss: 0.6859 - val_binary_crossentropy: 0.6712\n",
            "Epoch 53/100\n",
            "2386/2386 - 12s - loss: 0.4874 - binary_crossentropy: 0.4726 - val_loss: 0.6900 - val_binary_crossentropy: 0.6752\n",
            "Epoch 54/100\n",
            "2386/2386 - 13s - loss: 0.4872 - binary_crossentropy: 0.4723 - val_loss: 0.6897 - val_binary_crossentropy: 0.6748\n",
            "Epoch 55/100\n",
            "2386/2386 - 13s - loss: 0.4871 - binary_crossentropy: 0.4721 - val_loss: 0.6929 - val_binary_crossentropy: 0.6778\n",
            "Epoch 56/100\n",
            "2386/2386 - 13s - loss: 0.4867 - binary_crossentropy: 0.4716 - val_loss: 0.6905 - val_binary_crossentropy: 0.6753\n",
            "Epoch 57/100\n",
            "2386/2386 - 13s - loss: 0.4863 - binary_crossentropy: 0.4711 - val_loss: 0.6950 - val_binary_crossentropy: 0.6798\n",
            "Epoch 58/100\n",
            "2386/2386 - 13s - loss: 0.4860 - binary_crossentropy: 0.4707 - val_loss: 0.6880 - val_binary_crossentropy: 0.6727\n",
            "Epoch 59/100\n",
            "2386/2386 - 13s - loss: 0.4854 - binary_crossentropy: 0.4701 - val_loss: 0.6978 - val_binary_crossentropy: 0.6824\n",
            "Epoch 60/100\n",
            "2386/2386 - 13s - loss: 0.4852 - binary_crossentropy: 0.4697 - val_loss: 0.6907 - val_binary_crossentropy: 0.6752\n",
            "Epoch 61/100\n",
            "2386/2386 - 13s - loss: 0.4850 - binary_crossentropy: 0.4695 - val_loss: 0.6994 - val_binary_crossentropy: 0.6838\n",
            "Epoch 62/100\n",
            "2386/2386 - 12s - loss: 0.4849 - binary_crossentropy: 0.4692 - val_loss: 0.6932 - val_binary_crossentropy: 0.6775\n",
            "Epoch 63/100\n",
            "2386/2386 - 13s - loss: 0.4844 - binary_crossentropy: 0.4687 - val_loss: 0.7018 - val_binary_crossentropy: 0.6860\n",
            "Epoch 64/100\n",
            "2386/2386 - 13s - loss: 0.4840 - binary_crossentropy: 0.4682 - val_loss: 0.6996 - val_binary_crossentropy: 0.6838\n",
            "Epoch 65/100\n",
            "2386/2386 - 13s - loss: 0.4835 - binary_crossentropy: 0.4677 - val_loss: 0.6977 - val_binary_crossentropy: 0.6818\n",
            "Epoch 66/100\n",
            "2386/2386 - 13s - loss: 0.4837 - binary_crossentropy: 0.4677 - val_loss: 0.7040 - val_binary_crossentropy: 0.6880\n",
            "Epoch 67/100\n",
            "2386/2386 - 13s - loss: 0.4831 - binary_crossentropy: 0.4671 - val_loss: 0.6991 - val_binary_crossentropy: 0.6831\n",
            "Epoch 68/100\n",
            "2386/2386 - 14s - loss: 0.4828 - binary_crossentropy: 0.4667 - val_loss: 0.7056 - val_binary_crossentropy: 0.6895\n",
            "Epoch 69/100\n",
            "2386/2386 - 13s - loss: 0.4827 - binary_crossentropy: 0.4666 - val_loss: 0.6995 - val_binary_crossentropy: 0.6833\n",
            "Epoch 70/100\n",
            "2386/2386 - 13s - loss: 0.4825 - binary_crossentropy: 0.4662 - val_loss: 0.7001 - val_binary_crossentropy: 0.6839\n",
            "Epoch 71/100\n",
            "2386/2386 - 13s - loss: 0.4820 - binary_crossentropy: 0.4657 - val_loss: 0.7069 - val_binary_crossentropy: 0.6906\n",
            "Epoch 72/100\n",
            "2386/2386 - 13s - loss: 0.4820 - binary_crossentropy: 0.4657 - val_loss: 0.6989 - val_binary_crossentropy: 0.6825\n",
            "Epoch 73/100\n",
            "2386/2386 - 13s - loss: 0.4816 - binary_crossentropy: 0.4651 - val_loss: 0.7073 - val_binary_crossentropy: 0.6909\n",
            "Epoch 74/100\n",
            "2386/2386 - 13s - loss: 0.4814 - binary_crossentropy: 0.4648 - val_loss: 0.7055 - val_binary_crossentropy: 0.6890\n",
            "Epoch 75/100\n",
            "2386/2386 - 14s - loss: 0.4810 - binary_crossentropy: 0.4644 - val_loss: 0.7073 - val_binary_crossentropy: 0.6907\n",
            "Epoch 76/100\n",
            "2386/2386 - 13s - loss: 0.4806 - binary_crossentropy: 0.4639 - val_loss: 0.7071 - val_binary_crossentropy: 0.6905\n",
            "Epoch 77/100\n",
            "2386/2386 - 13s - loss: 0.4803 - binary_crossentropy: 0.4636 - val_loss: 0.7088 - val_binary_crossentropy: 0.6921\n",
            "Epoch 78/100\n",
            "2386/2386 - 13s - loss: 0.4801 - binary_crossentropy: 0.4634 - val_loss: 0.7065 - val_binary_crossentropy: 0.6897\n",
            "Epoch 79/100\n",
            "2386/2386 - 13s - loss: 0.4799 - binary_crossentropy: 0.4631 - val_loss: 0.7107 - val_binary_crossentropy: 0.6938\n",
            "Epoch 80/100\n",
            "2386/2386 - 13s - loss: 0.4796 - binary_crossentropy: 0.4627 - val_loss: 0.7143 - val_binary_crossentropy: 0.6974\n",
            "Epoch 81/100\n",
            "2386/2386 - 14s - loss: 0.4793 - binary_crossentropy: 0.4623 - val_loss: 0.7101 - val_binary_crossentropy: 0.6931\n",
            "Epoch 82/100\n",
            "2386/2386 - 14s - loss: 0.4794 - binary_crossentropy: 0.4624 - val_loss: 0.7171 - val_binary_crossentropy: 0.7001\n",
            "Epoch 83/100\n",
            "2386/2386 - 13s - loss: 0.4788 - binary_crossentropy: 0.4617 - val_loss: 0.7194 - val_binary_crossentropy: 0.7023\n",
            "Epoch 84/100\n",
            "2386/2386 - 14s - loss: 0.4791 - binary_crossentropy: 0.4619 - val_loss: 0.7144 - val_binary_crossentropy: 0.6973\n",
            "Epoch 85/100\n",
            "2386/2386 - 13s - loss: 0.4788 - binary_crossentropy: 0.4616 - val_loss: 0.7123 - val_binary_crossentropy: 0.6951\n",
            "Epoch 86/100\n",
            "2386/2386 - 13s - loss: 0.4783 - binary_crossentropy: 0.4610 - val_loss: 0.7163 - val_binary_crossentropy: 0.6991\n",
            "Epoch 87/100\n",
            "2386/2386 - 13s - loss: 0.4781 - binary_crossentropy: 0.4608 - val_loss: 0.7167 - val_binary_crossentropy: 0.6994\n",
            "Epoch 88/100\n",
            "2386/2386 - 13s - loss: 0.4779 - binary_crossentropy: 0.4606 - val_loss: 0.7142 - val_binary_crossentropy: 0.6968\n",
            "Epoch 89/100\n",
            "2386/2386 - 14s - loss: 0.4776 - binary_crossentropy: 0.4603 - val_loss: 0.7213 - val_binary_crossentropy: 0.7039\n",
            "Epoch 90/100\n",
            "2386/2386 - 14s - loss: 0.4773 - binary_crossentropy: 0.4598 - val_loss: 0.7260 - val_binary_crossentropy: 0.7086\n",
            "Epoch 91/100\n",
            "2386/2386 - 14s - loss: 0.4773 - binary_crossentropy: 0.4598 - val_loss: 0.7124 - val_binary_crossentropy: 0.6949\n",
            "Epoch 92/100\n",
            "2386/2386 - 13s - loss: 0.4768 - binary_crossentropy: 0.4592 - val_loss: 0.7198 - val_binary_crossentropy: 0.7023\n",
            "Epoch 93/100\n",
            "2386/2386 - 13s - loss: 0.4770 - binary_crossentropy: 0.4594 - val_loss: 0.7151 - val_binary_crossentropy: 0.6975\n",
            "Epoch 94/100\n",
            "2386/2386 - 13s - loss: 0.4766 - binary_crossentropy: 0.4589 - val_loss: 0.7175 - val_binary_crossentropy: 0.6998\n",
            "Epoch 95/100\n",
            "2386/2386 - 13s - loss: 0.4763 - binary_crossentropy: 0.4587 - val_loss: 0.7173 - val_binary_crossentropy: 0.6996\n",
            "Epoch 96/100\n",
            "2386/2386 - 13s - loss: 0.4761 - binary_crossentropy: 0.4584 - val_loss: 0.7178 - val_binary_crossentropy: 0.7001\n",
            "Epoch 97/100\n",
            "2386/2386 - 13s - loss: 0.4758 - binary_crossentropy: 0.4580 - val_loss: 0.7233 - val_binary_crossentropy: 0.7055\n",
            "Epoch 98/100\n",
            "2386/2386 - 14s - loss: 0.4757 - binary_crossentropy: 0.4578 - val_loss: 0.7263 - val_binary_crossentropy: 0.7085\n",
            "Epoch 99/100\n",
            "2386/2386 - 14s - loss: 0.4755 - binary_crossentropy: 0.4576 - val_loss: 0.7160 - val_binary_crossentropy: 0.6981\n",
            "Epoch 100/100\n",
            "2386/2386 - 14s - loss: 0.4755 - binary_crossentropy: 0.4576 - val_loss: 0.7194 - val_binary_crossentropy: 0.7015\n",
            "test AUC 0.8235\n",
            "\n",
            "test Auccuracy 0.745\n"
          ],
          "name": "stdout"
        }
      ]
    },
    {
      "cell_type": "code",
      "metadata": {
        "id": "2fEWeEvTgjGZ"
      },
      "source": [
        ""
      ],
      "execution_count": null,
      "outputs": []
    },
    {
      "cell_type": "code",
      "metadata": {
        "id": "fbIGSvQhiJAU"
      },
      "source": [
        ""
      ],
      "execution_count": null,
      "outputs": []
    }
  ]
}