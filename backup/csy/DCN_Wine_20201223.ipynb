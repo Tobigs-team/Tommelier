{
  "nbformat": 4,
  "nbformat_minor": 0,
  "metadata": {
    "colab": {
      "name": "DCN_Wine_20201223.ipynb",
      "provenance": [],
      "collapsed_sections": [],
      "toc_visible": true,
      "machine_shape": "hm"
    },
    "kernelspec": {
      "name": "python3",
      "display_name": "Python 3"
    },
    "accelerator": "GPU"
  },
  "cells": [
    {
      "cell_type": "markdown",
      "metadata": {
        "id": "8GKTUjbaFBCK"
      },
      "source": [
        "# DCN"
      ]
    },
    {
      "cell_type": "markdown",
      "metadata": {
        "id": "k_7EINAjZ4Ci"
      },
      "source": [
        "## 1. Install & Import Packages"
      ]
    },
    {
      "cell_type": "code",
      "metadata": {
        "colab": {
          "base_uri": "https://localhost:8080/"
        },
        "id": "Qp9uuMCmE-kJ",
        "outputId": "696d1f25-47ad-4451-d688-ec975c567228"
      },
      "source": [
        "!pip install -q tensorflow-recommenders\n",
        "!pip install -q --upgrade tensorflow-datasets"
      ],
      "execution_count": 2,
      "outputs": [
        {
          "output_type": "stream",
          "text": [
            "\u001b[K     |████████████████████████████████| 51kB 5.7MB/s \n",
            "\u001b[K     |████████████████████████████████| 3.6MB 14.7MB/s \n",
            "\u001b[?25h"
          ],
          "name": "stdout"
        }
      ]
    },
    {
      "cell_type": "code",
      "metadata": {
        "id": "_BGWsdC9E_Xg"
      },
      "source": [
        "import os\n",
        "import pandas as pd\n",
        "\n",
        "import tensorflow as tf\n",
        "\n",
        "import numpy as np\n",
        "import matplotlib.pyplot as plt\n",
        "\n",
        "import pprint\n",
        "\n",
        "%matplotlib inline\n",
        "import matplotlib.pyplot as plt\n",
        "from mpl_toolkits.axes_grid1 import make_axes_locatable\n",
        "\n",
        "import tensorflow as tf\n",
        "import tensorflow_recommenders as tfrs\n",
        "\n",
        "from tensorflow.keras.losses import binary_crossentropy\n",
        "from tensorflow.keras import backend as K\n",
        "from tensorflow.keras.layers import Lambda, Input, Dense, Dropout\n",
        "from tensorflow.keras.models import Model\n",
        "from tensorflow.keras.callbacks import LambdaCallback, EarlyStopping, Callback\n",
        "from tensorflow.keras.utils import plot_model\n",
        "import glob"
      ],
      "execution_count": 3,
      "outputs": []
    },
    {
      "cell_type": "code",
      "metadata": {
        "colab": {
          "base_uri": "https://localhost:8080/"
        },
        "id": "2m9OAWnLE_aQ",
        "outputId": "c6620d67-fcc9-42ad-f5f1-22f68b15db5c"
      },
      "source": [
        "def get_path(filename):\n",
        "  return f'drive/MyDrive/Colab Notebooks/Data/{filename}'\n",
        "\n",
        "glob.glob(\"drive/MyDrive/Colab Notebooks/Data/*\")"
      ],
      "execution_count": 4,
      "outputs": [
        {
          "output_type": "execute_result",
          "data": {
            "text/plain": [
              "['drive/MyDrive/Colab Notebooks/Data/Wine_Meta_v1_201129.json',\n",
              " 'drive/MyDrive/Colab Notebooks/Data/User_Meta_v1_201129.json',\n",
              " 'drive/MyDrive/Colab Notebooks/Data/PrevData',\n",
              " 'drive/MyDrive/Colab Notebooks/Data/RAW_v2_201130.json',\n",
              " 'drive/MyDrive/Colab Notebooks/Data/test_v2_201130.json',\n",
              " 'drive/MyDrive/Colab Notebooks/Data/train_v2_201130.json',\n",
              " 'drive/MyDrive/Colab Notebooks/Data/train_all_meta_v2.json',\n",
              " 'drive/MyDrive/Colab Notebooks/Data/test_all_meta_v2.json',\n",
              " 'drive/MyDrive/Colab Notebooks/Data/v1 (wine_id- userID - rating)',\n",
              " 'drive/MyDrive/Colab Notebooks/Data/데이터 명세.gsheet',\n",
              " 'drive/MyDrive/Colab Notebooks/Data/Wine_Token_v1_201129.json',\n",
              " 'drive/MyDrive/Colab Notebooks/Data/Wine_taste_v1_201129.csv',\n",
              " 'drive/MyDrive/Colab Notebooks/Data/user_clustering_train.csv',\n",
              " 'drive/MyDrive/Colab Notebooks/Data/user_clustering_test.csv',\n",
              " 'drive/MyDrive/Colab Notebooks/Data/food_token_one_hot.csv',\n",
              " 'drive/MyDrive/Colab Notebooks/Data/Wine_Meta_final_201208.csv',\n",
              " 'drive/MyDrive/Colab Notebooks/Data/Wine_Meta_final_201210.json']"
            ]
          },
          "metadata": {
            "tags": []
          },
          "execution_count": 4
        }
      ]
    },
    {
      "cell_type": "code",
      "metadata": {
        "id": "H6rdJyO9E_cp"
      },
      "source": [
        "train = pd.read_json(get_path('train_all_meta_v2.json'))\n",
        "test = pd.read_json(get_path('test_all_meta_v2.json'))"
      ],
      "execution_count": 5,
      "outputs": []
    },
    {
      "cell_type": "code",
      "metadata": {
        "colab": {
          "base_uri": "https://localhost:8080/"
        },
        "id": "8Bp0sOylE_fR",
        "outputId": "9fb7e112-a050-4ddb-aa50-2e134725d211"
      },
      "source": [
        "train.body.value_counts().sum()"
      ],
      "execution_count": 6,
      "outputs": [
        {
          "output_type": "execute_result",
          "data": {
            "text/plain": [
              "705693"
            ]
          },
          "metadata": {
            "tags": []
          },
          "execution_count": 6
        }
      ]
    },
    {
      "cell_type": "markdown",
      "metadata": {
        "id": "Ly1wQ-DFaC_c"
      },
      "source": [
        "## 2. Preprocess"
      ]
    },
    {
      "cell_type": "code",
      "metadata": {
        "id": "LnEau7V_54Zy"
      },
      "source": [
        "train = train[~train.body.isna()].reset_index(drop=True)\n",
        "test = test[~test.body.isna()].reset_index(drop=True)"
      ],
      "execution_count": 7,
      "outputs": []
    },
    {
      "cell_type": "code",
      "metadata": {
        "id": "HO7mDXv852PN"
      },
      "source": [
        "INT_FEATURES = [\"type_id\", \"body\", \"acidity\", \"like\"]\n",
        "\n",
        "for int_feature in INT_FEATURES:\n",
        "  train[int_feature] = train[int_feature].astype(int)\n",
        "  test[int_feature] = test[int_feature].astype(int)\n",
        "\n",
        "train.country_code= train.country_code.fillna('un')\n",
        "test.country_code= test.country_code.fillna('un')"
      ],
      "execution_count": 8,
      "outputs": []
    },
    {
      "cell_type": "code",
      "metadata": {
        "id": "x6LtLOT96Mzb"
      },
      "source": [
        "train['grapes_id_unique'] = train.grapes_id.map(lambda x: x[0] if x else 0)\n",
        "test['grapes_id_unique'] = test.grapes_id.map(lambda x: x[0] if x else 0)"
      ],
      "execution_count": 9,
      "outputs": []
    },
    {
      "cell_type": "code",
      "metadata": {
        "id": "RSKmd_EEE_hq"
      },
      "source": [
        "# tf.keras.layers.experimental.preprocessing.\n",
        "feature_names = [\"userID\", \"wine_id\", \"country_code\",  \"like\",\n",
        "                 \"type_id\", \"body\", \"acidity\", \"grapes_id_unique\"]"
      ],
      "execution_count": 10,
      "outputs": []
    },
    {
      "cell_type": "code",
      "metadata": {
        "colab": {
          "base_uri": "https://localhost:8080/"
        },
        "id": "wbyVDdw48xA5",
        "outputId": "fb060046-7f5b-4489-b2b6-41f38c7983fc"
      },
      "source": [
        "for feature_name in feature_names:\n",
        "  print(feature_name, train[feature_name].isna().sum())"
      ],
      "execution_count": 11,
      "outputs": [
        {
          "output_type": "stream",
          "text": [
            "userID 0\n",
            "wine_id 0\n",
            "country_code 0\n",
            "like 0\n",
            "type_id 0\n",
            "body 0\n",
            "acidity 0\n",
            "grapes_id_unique 0\n"
          ],
          "name": "stdout"
        }
      ]
    },
    {
      "cell_type": "code",
      "metadata": {
        "colab": {
          "base_uri": "https://localhost:8080/"
        },
        "id": "qjHEbielHh2x",
        "outputId": "e537adf0-90a3-49af-ba12-c2a58b5c4722"
      },
      "source": [
        "for feature_name in feature_names:\n",
        "  print(feature_name, test[feature_name].isna().sum())"
      ],
      "execution_count": 12,
      "outputs": [
        {
          "output_type": "stream",
          "text": [
            "userID 0\n",
            "wine_id 0\n",
            "country_code 0\n",
            "like 0\n",
            "type_id 0\n",
            "body 0\n",
            "acidity 0\n",
            "grapes_id_unique 0\n"
          ],
          "name": "stdout"
        }
      ]
    },
    {
      "cell_type": "code",
      "metadata": {
        "id": "7hpLs8deJPEM"
      },
      "source": [
        "str_features = [\"userID\", \"wine_id\", \"country_code\"]\n",
        "int_features = [\"type_id\", \"body\", \"acidity\", \"grapes_id_unique\", \"like\"]"
      ],
      "execution_count": 13,
      "outputs": []
    },
    {
      "cell_type": "code",
      "metadata": {
        "id": "3R46ijW3JbBw"
      },
      "source": [
        "train_str_dict = {\n",
        "    str_feature: [str(val).encode() for val in train[str_feature].values]\n",
        "    for str_feature in str_features\n",
        "}\n",
        "\n",
        "train_int_dict = {\n",
        "    int_feature: train[int_feature].values\n",
        "    for int_feature in int_features\n",
        "}"
      ],
      "execution_count": 14,
      "outputs": []
    },
    {
      "cell_type": "code",
      "metadata": {
        "colab": {
          "base_uri": "https://localhost:8080/"
        },
        "id": "s-1Dtmcv8w3S",
        "outputId": "a29050db-d7fa-4b39-97d6-bcfbad154fa2"
      },
      "source": [
        "train_str_dict.update(train_int_dict)\n",
        "train_str_dict.keys()"
      ],
      "execution_count": 15,
      "outputs": [
        {
          "output_type": "execute_result",
          "data": {
            "text/plain": [
              "dict_keys(['userID', 'wine_id', 'country_code', 'type_id', 'body', 'acidity', 'grapes_id_unique', 'like'])"
            ]
          },
          "metadata": {
            "tags": []
          },
          "execution_count": 15
        }
      ]
    },
    {
      "cell_type": "code",
      "metadata": {
        "colab": {
          "base_uri": "https://localhost:8080/"
        },
        "id": "ujMC2axLKTIQ",
        "outputId": "b053afb0-8101-47d0-eb72-0dd378be7217"
      },
      "source": [
        "test_str_dict = {\n",
        "    str_feature: [str(val).encode() for val in test[str_feature].values]\n",
        "    for str_feature in str_features\n",
        "}\n",
        "\n",
        "test_int_dict = {\n",
        "    int_feature: test[int_feature].values\n",
        "    for int_feature in int_features\n",
        "}\n",
        "\n",
        "test_str_dict.update(test_int_dict)\n",
        "test_str_dict.keys()"
      ],
      "execution_count": 16,
      "outputs": [
        {
          "output_type": "execute_result",
          "data": {
            "text/plain": [
              "dict_keys(['userID', 'wine_id', 'country_code', 'type_id', 'body', 'acidity', 'grapes_id_unique', 'like'])"
            ]
          },
          "metadata": {
            "tags": []
          },
          "execution_count": 16
        }
      ]
    },
    {
      "cell_type": "code",
      "metadata": {
        "id": "rn6hRQuIKTF2"
      },
      "source": [
        "train = tf.data.Dataset.from_tensor_slices(train_str_dict)\n",
        "test = tf.data.Dataset.from_tensor_slices(test_str_dict)"
      ],
      "execution_count": 17,
      "outputs": []
    },
    {
      "cell_type": "code",
      "metadata": {
        "id": "eTX_MnSnKTDZ"
      },
      "source": [
        "vocabularies = {}\n",
        "\n",
        "for feature_name in feature_names:\n",
        "  vocab = train.batch(1_000_000).map(lambda x: x[feature_name])\n",
        "  vocabularies[feature_name] = np.unique(np.concatenate(list(vocab)))"
      ],
      "execution_count": 18,
      "outputs": []
    },
    {
      "cell_type": "code",
      "metadata": {
        "colab": {
          "base_uri": "https://localhost:8080/"
        },
        "id": "isI0q7zvKOc9",
        "outputId": "315cfa3a-d90c-4b8f-d937-b12cd43550b9"
      },
      "source": [
        "vocabularies"
      ],
      "execution_count": 20,
      "outputs": [
        {
          "output_type": "execute_result",
          "data": {
            "text/plain": [
              "{'acidity': array([1, 2, 3]),\n",
              " 'body': array([1, 2, 3, 4, 5]),\n",
              " 'country_code': array([b'ar', b'at', b'au', b'br', b'ca', b'ch', b'cl', b'de', b'es',\n",
              "        b'fr', b'gb', b'gr', b'hu', b'il', b'it', b'jp', b'lu', b'mx',\n",
              "        b'nz', b'pt', b'ru', b'un', b'us', b'uy', b'za'], dtype=object),\n",
              " 'grapes_id_unique': array([   0,    1,    2,    3,    5,    6,    7,    8,    9,   10,   11,\n",
              "          12,   13,   14,   15,   16,   17,   18,   19,   20,   21,   22,\n",
              "          23,   24,   25,   29,   31,   32,   33,   34,   35,   36,   37,\n",
              "          38,   39,   40,   41,   42,   43,   44,   45,   46,   47,   48,\n",
              "          49,   50,   51,   52,   53,   54,   55,   56,   57,   58,   59,\n",
              "          62,   63,   64,   67,   68,   69,   70,   71,   74,   75,   76,\n",
              "          77,   78,   80,   81,   82,   83,   85,   86,   88,   89,   91,\n",
              "          92,   93,   94,   96,   97,   98,  100,  101,  102,  103,  104,\n",
              "         105,  106,  108,  109,  110,  111,  112,  114,  115,  116,  118,\n",
              "         119,  120,  122,  123,  124,  127,  128,  129,  130,  131,  132,\n",
              "         135,  136,  137,  138,  142,  144,  145,  147,  148,  149,  150,\n",
              "         151,  156,  157,  158,  159,  161,  162,  165,  166,  167,  168,\n",
              "         169,  170,  171,  172,  173,  174,  175,  176,  177,  178,  179,\n",
              "         180,  184,  190,  191,  192,  196,  197,  198,  199,  200,  202,\n",
              "         204,  206,  209,  210,  215,  216,  219,  221,  222,  224,  225,\n",
              "         226,  228,  231,  232,  233,  235,  239,  241,  242,  243,  245,\n",
              "         246,  251,  252,  254,  255,  257,  259,  260,  261,  262,  264,\n",
              "         265,  267,  268,  270,  271,  273,  274,  275,  280,  282,  283,\n",
              "         284,  286,  289,  291,  292,  293,  294,  295,  299,  300,  302,\n",
              "         304,  308,  309,  310,  311,  312,  314,  316,  317,  318,  320,\n",
              "         321,  325,  334,  335,  336,  337,  339,  341,  343,  348,  349,\n",
              "         353,  354,  355,  363,  365,  366,  367,  368,  370,  374,  377,\n",
              "         382,  383,  385,  386,  387,  388,  389,  390,  454,  464,  474,\n",
              "         504,  514,  524,  534,  545,  546,  547,  548,  550,  553,  557,\n",
              "         562,  565,  566,  567,  572,  573,  576,  577,  579,  580,  583,\n",
              "         584,  585,  586,  589,  594,  597,  601,  608,  614,  617,  628,\n",
              "         630,  633,  634,  635,  642,  643,  653,  661,  662,  664,  669,\n",
              "         671,  673,  674,  675,  677,  678,  698,  702,  714,  725,  732,\n",
              "         750,  760,  780,  785,  839,  847,  852,  883,  887,  927,  938,\n",
              "         947,  951,  957,  966,  973,  975,  978, 1005, 1006, 1011, 1019,\n",
              "        1030, 1032, 1033, 1034, 1044, 1072, 1074, 1098, 1116, 1121, 1156,\n",
              "        1175, 1176, 1178, 1185, 1222, 1232, 1262, 1265, 1266, 1281, 1282,\n",
              "        1285, 1291, 1320, 1333, 1336, 1353, 1364, 1374, 1394, 1427, 1495,\n",
              "        1519, 1529, 1536, 1543, 1544, 1551, 1555, 1587, 1589, 1594, 1595,\n",
              "        1596, 1602, 1632, 1639, 1645, 1665, 1670, 1672, 1675, 1677, 1678,\n",
              "        1680, 1687, 1688, 1697, 1710, 1715, 1716, 1718, 1719, 1721, 1730,\n",
              "        1733, 1739]),\n",
              " 'like': array([0, 1]),\n",
              " 'type_id': array([ 1,  2,  3,  4,  7, 24, 25]),\n",
              " 'userID': array([b'10001895', b'10003665', b'10006310', ..., b'9990646', b'9993784',\n",
              "        b'9993829'], dtype=object),\n",
              " 'wine_id': array([b'10000', b'100002', b'100006', ..., b'99984', b'99986', b'99988'],\n",
              "       dtype=object)}"
            ]
          },
          "metadata": {
            "tags": []
          },
          "execution_count": 20
        }
      ]
    },
    {
      "cell_type": "markdown",
      "metadata": {
        "id": "xpwbc3gIdHkH"
      },
      "source": [
        "## 3. Model"
      ]
    },
    {
      "cell_type": "code",
      "metadata": {
        "id": "wEor3JA2E_kB"
      },
      "source": [
        "class DCN(tfrs.Model):\n",
        "\n",
        "  def __init__(self, use_cross_layer, deep_layer_sizes, projection_dim=None):\n",
        "    super().__init__()\n",
        "\n",
        "    self.embedding_dimension = 32\n",
        "\n",
        "    str_features = [\"userID\", \"wine_id\", \"country_code\"]\n",
        "    int_features = [\"type_id\", \"body\", \"acidity\", \"grapes_id_unique\"]\n",
        "\n",
        "    self._all_features = str_features + int_features\n",
        "    self._embeddings = {}\n",
        "\n",
        "    # Compute embeddings for string features.\n",
        "    for feature_name in str_features:\n",
        "      vocabulary = vocabularies[feature_name]\n",
        "      self._embeddings[feature_name] = tf.keras.Sequential(\n",
        "          [tf.keras.layers.experimental.preprocessing.StringLookup(\n",
        "              vocabulary=vocabulary, mask_token=None),\n",
        "           tf.keras.layers.Embedding(len(vocabulary) + 1,\n",
        "                                     self.embedding_dimension)\n",
        "    ])\n",
        "      \n",
        "    # Compute embeddings for int features.\n",
        "    for feature_name in int_features:\n",
        "      vocabulary = vocabularies[feature_name]\n",
        "      self._embeddings[feature_name] = tf.keras.Sequential(\n",
        "          [tf.keras.layers.experimental.preprocessing.IntegerLookup(\n",
        "              vocabulary=vocabulary, mask_value=None),\n",
        "           tf.keras.layers.Embedding(len(vocabulary) + 1,\n",
        "                                     self.embedding_dimension)\n",
        "    ])\n",
        "\n",
        "    if use_cross_layer:\n",
        "      self._cross_layer = tfrs.layers.dcn.Cross(\n",
        "          projection_dim=projection_dim,\n",
        "          kernel_initializer=\"glorot_uniform\")\n",
        "    else:\n",
        "      self._cross_layer = None\n",
        "\n",
        "    self._deep_layers = [tf.keras.layers.Dense(layer_size, activation=\"relu\")\n",
        "      for layer_size in deep_layer_sizes]\n",
        "\n",
        "    self._logit_layer = tf.keras.layers.Dense(1)\n",
        "\n",
        "    self.task = tfrs.tasks.Ranking(\n",
        "      loss=tf.keras.losses.MeanSquaredError(),\n",
        "      metrics=[tf.keras.metrics.RootMeanSquaredError(\"RMSE\")]\n",
        "    )\n",
        "\n",
        "  def call(self, features):\n",
        "    # Concatenate embeddings\n",
        "    embeddings = []\n",
        "    for feature_name in self._all_features:\n",
        "      embedding_fn = self._embeddings[feature_name]\n",
        "      embeddings.append(embedding_fn(features[feature_name]))\n",
        "\n",
        "    x = tf.concat(embeddings, axis=1)\n",
        "\n",
        "    # Build Cross Network\n",
        "    if self._cross_layer is not None:\n",
        "      x = self._cross_layer(x)\n",
        "    \n",
        "    # Build Deep Network\n",
        "    for deep_layer in self._deep_layers:\n",
        "      x = deep_layer(x)\n",
        "\n",
        "    return self._logit_layer(x)\n",
        "\n",
        "  def compute_loss(self, features, training=False):\n",
        "    labels = features.pop(\"like\")\n",
        "    scores = self(features)\n",
        "    return self.task(\n",
        "        labels=labels,\n",
        "        predictions=scores,\n",
        "    )"
      ],
      "execution_count": 21,
      "outputs": []
    },
    {
      "cell_type": "code",
      "metadata": {
        "id": "WUJSVDSdE_pS"
      },
      "source": [
        "learning_rate = 0.002"
      ],
      "execution_count": 32,
      "outputs": []
    },
    {
      "cell_type": "code",
      "metadata": {
        "id": "AG7HIk_LE_rt"
      },
      "source": [
        "cached_train = train.shuffle(100_000).batch(8192).cache()\n",
        "cached_test = test.batch(4096).cache()"
      ],
      "execution_count": 23,
      "outputs": []
    },
    {
      "cell_type": "code",
      "metadata": {
        "id": "lUaE6B_a7bAS"
      },
      "source": [
        "model = DCN(use_cross_layer=True, deep_layer_sizes=[192, 192], projection_dim=None)\n",
        "model.compile(optimizer=tf.keras.optimizers.Adam(learning_rate))"
      ],
      "execution_count": 24,
      "outputs": []
    },
    {
      "cell_type": "markdown",
      "metadata": {
        "id": "Onmh1vqddSHQ"
      },
      "source": [
        "## 4. Train & Result"
      ]
    },
    {
      "cell_type": "code",
      "metadata": {
        "id": "x1LOTnFa7a4r"
      },
      "source": [
        "from sklearn.metrics import roc_auc_score\n",
        "from sklearn.metrics import classification_report\n",
        "import tensorflow_datasets as tfds\n",
        "\n",
        "cached_test_numpy = tfds.as_numpy(cached_test)\n",
        "y_true = [item['like'] for item in cached_test_numpy]\n",
        "y_true = np.concatenate(y_true)"
      ],
      "execution_count": 26,
      "outputs": []
    },
    {
      "cell_type": "code",
      "metadata": {
        "id": "0UDVml_P7a2M"
      },
      "source": [
        "def get_result(model):\n",
        "  y_pred = model.predict(cached_test).flatten()\n",
        "  y_pred_class = [1 if pred > 0.5 else 0 for pred in y_pred]\n",
        "\n",
        "  print(f\"ROC: {roc_auc_score(y_true, y_pred)}\")\n",
        "  print(classification_report(y_true, y_pred_class))"
      ],
      "execution_count": 27,
      "outputs": []
    },
    {
      "cell_type": "code",
      "metadata": {
        "colab": {
          "base_uri": "https://localhost:8080/"
        },
        "id": "2d4cI2zzNJOg",
        "outputId": "233fc36e-2a32-49f6-dc6c-47abf6831d62"
      },
      "source": [
        "history1 = model.fit(cached_train,  epochs=10, verbose=True)"
      ],
      "execution_count": 28,
      "outputs": [
        {
          "output_type": "stream",
          "text": [
            "Epoch 1/10\n",
            "87/87 [==============================] - 10s 81ms/step - RMSE: 0.4794 - loss: 0.2291 - regularization_loss: 0.0000e+00 - total_loss: 0.2291\n",
            "Epoch 2/10\n",
            "87/87 [==============================] - 2s 20ms/step - RMSE: 0.4276 - loss: 0.1821 - regularization_loss: 0.0000e+00 - total_loss: 0.1821\n",
            "Epoch 3/10\n",
            "87/87 [==============================] - 2s 20ms/step - RMSE: 0.4108 - loss: 0.1674 - regularization_loss: 0.0000e+00 - total_loss: 0.1674\n",
            "Epoch 4/10\n",
            "87/87 [==============================] - 2s 21ms/step - RMSE: 0.3972 - loss: 0.1559 - regularization_loss: 0.0000e+00 - total_loss: 0.1559\n",
            "Epoch 5/10\n",
            "87/87 [==============================] - 2s 21ms/step - RMSE: 0.3878 - loss: 0.1485 - regularization_loss: 0.0000e+00 - total_loss: 0.1485\n",
            "Epoch 6/10\n",
            "87/87 [==============================] - 2s 21ms/step - RMSE: 0.3813 - loss: 0.1434 - regularization_loss: 0.0000e+00 - total_loss: 0.1434\n",
            "Epoch 7/10\n",
            "87/87 [==============================] - 2s 20ms/step - RMSE: 0.3786 - loss: 0.1415 - regularization_loss: 0.0000e+00 - total_loss: 0.1415\n",
            "Epoch 8/10\n",
            "87/87 [==============================] - 2s 21ms/step - RMSE: 0.3755 - loss: 0.1392 - regularization_loss: 0.0000e+00 - total_loss: 0.1392\n",
            "Epoch 9/10\n",
            "87/87 [==============================] - 2s 21ms/step - RMSE: 0.3714 - loss: 0.1364 - regularization_loss: 0.0000e+00 - total_loss: 0.1364\n",
            "Epoch 10/10\n",
            "87/87 [==============================] - 2s 21ms/step - RMSE: 0.3666 - loss: 0.1324 - regularization_loss: 0.0000e+00 - total_loss: 0.1324\n"
          ],
          "name": "stdout"
        }
      ]
    },
    {
      "cell_type": "code",
      "metadata": {
        "colab": {
          "base_uri": "https://localhost:8080/"
        },
        "id": "FyPNZUAhNI_F",
        "outputId": "b74a34e0-5f6c-4f84-df6f-e648c9c9d58c"
      },
      "source": [
        "get_result(model)"
      ],
      "execution_count": 29,
      "outputs": [
        {
          "output_type": "stream",
          "text": [
            "ROC: 0.8222539098559614\n",
            "              precision    recall  f1-score   support\n",
            "\n",
            "           0       0.73      0.75      0.74     81031\n",
            "           1       0.78      0.76      0.77     93416\n",
            "\n",
            "    accuracy                           0.76    174447\n",
            "   macro avg       0.76      0.76      0.76    174447\n",
            "weighted avg       0.76      0.76      0.76    174447\n",
            "\n"
          ],
          "name": "stdout"
        }
      ]
    },
    {
      "cell_type": "code",
      "metadata": {
        "colab": {
          "base_uri": "https://localhost:8080/"
        },
        "id": "ksjRkMR-NI8l",
        "outputId": "235193a3-7415-4522-cee2-1fdd22921cb3"
      },
      "source": [
        "history2 = model.fit(cached_train,  epochs=10, verbose=True)\n",
        "get_result(model)"
      ],
      "execution_count": 30,
      "outputs": [
        {
          "output_type": "stream",
          "text": [
            "Epoch 1/10\n",
            "87/87 [==============================] - 2s 19ms/step - RMSE: 0.3556 - loss: 0.1246 - regularization_loss: 0.0000e+00 - total_loss: 0.1246\n",
            "Epoch 2/10\n",
            "87/87 [==============================] - 2s 20ms/step - RMSE: 0.3448 - loss: 0.1172 - regularization_loss: 0.0000e+00 - total_loss: 0.1172\n",
            "Epoch 3/10\n",
            "87/87 [==============================] - 2s 20ms/step - RMSE: 0.3378 - loss: 0.1123 - regularization_loss: 0.0000e+00 - total_loss: 0.1123\n",
            "Epoch 4/10\n",
            "87/87 [==============================] - 2s 20ms/step - RMSE: 0.3284 - loss: 0.1061 - regularization_loss: 0.0000e+00 - total_loss: 0.1061\n",
            "Epoch 5/10\n",
            "87/87 [==============================] - 2s 19ms/step - RMSE: 0.3255 - loss: 0.1045 - regularization_loss: 0.0000e+00 - total_loss: 0.1045\n",
            "Epoch 6/10\n",
            "87/87 [==============================] - 2s 20ms/step - RMSE: 0.3212 - loss: 0.1015 - regularization_loss: 0.0000e+00 - total_loss: 0.1015\n",
            "Epoch 7/10\n",
            "87/87 [==============================] - 2s 21ms/step - RMSE: 0.3145 - loss: 0.0971 - regularization_loss: 0.0000e+00 - total_loss: 0.0971\n",
            "Epoch 8/10\n",
            "87/87 [==============================] - 2s 21ms/step - RMSE: 0.2979 - loss: 0.0871 - regularization_loss: 0.0000e+00 - total_loss: 0.0871\n",
            "Epoch 9/10\n",
            "87/87 [==============================] - 2s 20ms/step - RMSE: 0.2786 - loss: 0.0762 - regularization_loss: 0.0000e+00 - total_loss: 0.0762\n",
            "Epoch 10/10\n",
            "87/87 [==============================] - 2s 21ms/step - RMSE: 0.2611 - loss: 0.0669 - regularization_loss: 0.0000e+00 - total_loss: 0.0669\n",
            "ROC: 0.9205528569753161\n",
            "              precision    recall  f1-score   support\n",
            "\n",
            "           0       0.87      0.86      0.87     81031\n",
            "           1       0.88      0.89      0.89     93416\n",
            "\n",
            "    accuracy                           0.88    174447\n",
            "   macro avg       0.88      0.88      0.88    174447\n",
            "weighted avg       0.88      0.88      0.88    174447\n",
            "\n"
          ],
          "name": "stdout"
        }
      ]
    },
    {
      "cell_type": "code",
      "metadata": {
        "colab": {
          "base_uri": "https://localhost:8080/"
        },
        "id": "PS-Fw8gHNI6W",
        "outputId": "3c8a534d-1bdb-419c-80da-4daf4738a810"
      },
      "source": [
        "history3 = model.fit(cached_train,  epochs=10, verbose=True)\n",
        "get_result(model)"
      ],
      "execution_count": 31,
      "outputs": [
        {
          "output_type": "stream",
          "text": [
            "Epoch 1/10\n",
            "87/87 [==============================] - 2s 21ms/step - RMSE: 0.2469 - loss: 0.0599 - regularization_loss: 0.0000e+00 - total_loss: 0.0599\n",
            "Epoch 2/10\n",
            "87/87 [==============================] - 2s 21ms/step - RMSE: 0.2366 - loss: 0.0549 - regularization_loss: 0.0000e+00 - total_loss: 0.0549\n",
            "Epoch 3/10\n",
            "87/87 [==============================] - 2s 22ms/step - RMSE: 0.2302 - loss: 0.0520 - regularization_loss: 0.0000e+00 - total_loss: 0.0520\n",
            "Epoch 4/10\n",
            "87/87 [==============================] - 2s 21ms/step - RMSE: 0.2272 - loss: 0.0506 - regularization_loss: 0.0000e+00 - total_loss: 0.0506\n",
            "Epoch 5/10\n",
            "87/87 [==============================] - 2s 21ms/step - RMSE: 0.2252 - loss: 0.0498 - regularization_loss: 0.0000e+00 - total_loss: 0.0498\n",
            "Epoch 6/10\n",
            "87/87 [==============================] - 2s 20ms/step - RMSE: 0.2228 - loss: 0.0488 - regularization_loss: 0.0000e+00 - total_loss: 0.0488\n",
            "Epoch 7/10\n",
            "87/87 [==============================] - 2s 21ms/step - RMSE: 0.2201 - loss: 0.0476 - regularization_loss: 0.0000e+00 - total_loss: 0.0476\n",
            "Epoch 8/10\n",
            "87/87 [==============================] - 2s 21ms/step - RMSE: 0.2164 - loss: 0.0460 - regularization_loss: 0.0000e+00 - total_loss: 0.0460\n",
            "Epoch 9/10\n",
            "87/87 [==============================] - 2s 21ms/step - RMSE: 0.2120 - loss: 0.0441 - regularization_loss: 0.0000e+00 - total_loss: 0.0441\n",
            "Epoch 10/10\n",
            "87/87 [==============================] - 2s 21ms/step - RMSE: 0.2071 - loss: 0.0421 - regularization_loss: 0.0000e+00 - total_loss: 0.0421\n",
            "ROC: 0.9317573329451261\n",
            "              precision    recall  f1-score   support\n",
            "\n",
            "           0       0.91      0.85      0.88     81031\n",
            "           1       0.88      0.93      0.90     93416\n",
            "\n",
            "    accuracy                           0.89    174447\n",
            "   macro avg       0.90      0.89      0.89    174447\n",
            "weighted avg       0.89      0.89      0.89    174447\n",
            "\n"
          ],
          "name": "stdout"
        }
      ]
    },
    {
      "cell_type": "code",
      "metadata": {
        "colab": {
          "base_uri": "https://localhost:8080/"
        },
        "id": "4DGbHd9xOBes",
        "outputId": "2b9c6be5-2014-4f75-c4c0-14adedacffb8"
      },
      "source": [
        "model.summary()"
      ],
      "execution_count": 35,
      "outputs": [
        {
          "output_type": "stream",
          "text": [
            "Model: \"dcn\"\n",
            "_________________________________________________________________\n",
            "Layer (type)                 Output Shape              Param #   \n",
            "=================================================================\n",
            "sequential_5 (Sequential)    (None, 32)                128       \n",
            "_________________________________________________________________\n",
            "sequential_4 (Sequential)    (None, 32)                192       \n",
            "_________________________________________________________________\n",
            "sequential_2 (Sequential)    (None, 32)                832       \n",
            "_________________________________________________________________\n",
            "sequential_6 (Sequential)    (None, 32)                12768     \n",
            "_________________________________________________________________\n",
            "sequential_3 (Sequential)    (None, 32)                256       \n",
            "_________________________________________________________________\n",
            "sequential (Sequential)      (None, 32)                203008    \n",
            "_________________________________________________________________\n",
            "sequential_1 (Sequential)    (None, 32)                1417600   \n",
            "_________________________________________________________________\n",
            "cross (Cross)                multiple                  50400     \n",
            "_________________________________________________________________\n",
            "dense (Dense)                multiple                  43200     \n",
            "_________________________________________________________________\n",
            "dense_1 (Dense)              multiple                  37056     \n",
            "_________________________________________________________________\n",
            "dense_2 (Dense)              multiple                  193       \n",
            "_________________________________________________________________\n",
            "ranking (Ranking)            multiple                  2         \n",
            "=================================================================\n",
            "Total params: 1,765,635\n",
            "Trainable params: 1,765,633\n",
            "Non-trainable params: 2\n",
            "_________________________________________________________________\n"
          ],
          "name": "stdout"
        }
      ]
    },
    {
      "cell_type": "code",
      "metadata": {
        "colab": {
          "base_uri": "https://localhost:8080/",
          "height": 336
        },
        "id": "Oyw80pVJOA3R",
        "outputId": "2c7431f0-5585-4ff1-a1d2-13d9f3db5a73"
      },
      "source": [
        "mat = model._cross_layer._dense.kernel\n",
        "features = model._all_features\n",
        "\n",
        "block_norm = np.ones([len(features), len(features)])\n",
        "\n",
        "dim = model.embedding_dimension\n",
        "\n",
        "# Compute the norms of the blocks.\n",
        "for i in range(len(features)):\n",
        "  for j in range(len(features)):\n",
        "    block = mat[i * dim:(i + 1) * dim,\n",
        "                j * dim:(j + 1) * dim]\n",
        "    block_norm[i,j] = np.linalg.norm(block, ord=\"fro\")\n",
        "\n",
        "plt.figure(figsize=(9,9))\n",
        "im = plt.matshow(block_norm, cmap=plt.cm.Blues)\n",
        "ax = plt.gca()\n",
        "divider = make_axes_locatable(plt.gca())\n",
        "cax = divider.append_axes(\"right\", size=\"5%\", pad=0.05)\n",
        "plt.colorbar(im, cax=cax)\n",
        "cax.tick_params(labelsize=10) \n",
        "_ = ax.set_xticklabels([\"\"] + features, rotation=45, ha=\"left\", fontsize=10)\n",
        "_ = ax.set_yticklabels([\"\"] + features, fontsize=10)"
      ],
      "execution_count": 33,
      "outputs": [
        {
          "output_type": "display_data",
          "data": {
            "text/plain": [
              "<Figure size 648x648 with 0 Axes>"
            ]
          },
          "metadata": {
            "tags": []
          }
        },
        {
          "output_type": "display_data",
          "data": {
            "image/png": "[encoded data removed]",
            "text/plain": [
              "<Figure size 288x288 with 2 Axes>"
            ]
          },
          "metadata": {
            "tags": [],
            "needs_background": "light"
          }
        }
      ]
    },
    {
      "cell_type": "code",
      "metadata": {
        "colab": {
          "base_uri": "https://localhost:8080/"
        },
        "id": "nVOPTRe2hXFs",
        "outputId": "f150e568-fcbd-4174-eaa5-3028998cd52d"
      },
      "source": [
        "test.take(100).batch(100)"
      ],
      "execution_count": 41,
      "outputs": [
        {
          "output_type": "execute_result",
          "data": {
            "text/plain": [
              "<BatchDataset shapes: {userID: (None,), wine_id: (None,), country_code: (None,), type_id: (None,), body: (None,), acidity: (None,), grapes_id_unique: (None,), like: (None,)}, types: {userID: tf.string, wine_id: tf.string, country_code: tf.string, type_id: tf.int64, body: tf.int64, acidity: tf.int64, grapes_id_unique: tf.int64, like: tf.int64}>"
            ]
          },
          "metadata": {
            "tags": []
          },
          "execution_count": 41
        }
      ]
    },
    {
      "cell_type": "code",
      "metadata": {
        "id": "zo0ruEx5etU3"
      },
      "source": [
        "model"
      ],
      "execution_count": 43,
      "outputs": []
    },
    {
      "cell_type": "code",
      "metadata": {
        "colab": {
          "base_uri": "https://localhost:8080/"
        },
        "id": "XYaoKPcxhZaq",
        "outputId": "b8ff1005-bbeb-44d8-e9f2-2b0902ab24c1"
      },
      "source": [
        "model.predict(cached_test)"
      ],
      "execution_count": 45,
      "outputs": [
        {
          "output_type": "execute_result",
          "data": {
            "text/plain": [
              "array([[ 0.9059499 ],\n",
              "       [ 0.929794  ],\n",
              "       [ 0.96498656],\n",
              "       ...,\n",
              "       [ 0.8952126 ],\n",
              "       [-0.00504744],\n",
              "       [ 0.93719846]], dtype=float32)"
            ]
          },
          "metadata": {
            "tags": []
          },
          "execution_count": 45
        }
      ]
    }
  ]
}