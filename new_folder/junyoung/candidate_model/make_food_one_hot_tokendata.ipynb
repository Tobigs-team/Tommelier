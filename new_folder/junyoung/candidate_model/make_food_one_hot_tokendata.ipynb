{
  "nbformat": 4,
  "nbformat_minor": 0,
  "metadata": {
    "colab": {
      "name": "make_food_one_hot_tokendata",
      "provenance": [],
      "collapsed_sections": [],
      "toc_visible": true
    },
    "kernelspec": {
      "display_name": "Python 3",
      "name": "python3"
    }
  },
  "cells": [
    {
      "cell_type": "code",
      "metadata": {
        "id": "fNTsloY9w--t"
      },
      "source": [
        "import json\n",
        "import numpy as np\n",
        "import pandas as pd"
      ],
      "execution_count": null,
      "outputs": []
    },
    {
      "cell_type": "code",
      "metadata": {
        "colab": {
          "base_uri": "https://localhost:8080/"
        },
        "id": "_gdHp-ZxM9gp",
        "outputId": "6bf3be64-a16a-457a-b496-49734e9711fa"
      },
      "source": [
        "from google.colab import drive\n",
        "drive.mount('/content/drive')"
      ],
      "execution_count": null,
      "outputs": [
        {
          "output_type": "stream",
          "text": [
            "Mounted at /content/drive\n"
          ],
          "name": "stdout"
        }
      ]
    },
    {
      "cell_type": "code",
      "metadata": {
        "id": "Vxw_iScEq-7b"
      },
      "source": [
        "wine_meta = '/content/drive/MyDrive/tobigs14_conference/data/v_2/oldfile/Wine_Meta_v1_201129.json'\r\n",
        "wine_meta = pd.read_json(wine_meta)"
      ],
      "execution_count": null,
      "outputs": []
    },
    {
      "cell_type": "code",
      "metadata": {
        "id": "MCBurh6cDnPK"
      },
      "source": [
        "food=wine_meta.iloc[:, [1, 11]]"
      ],
      "execution_count": null,
      "outputs": []
    },
    {
      "cell_type": "code",
      "metadata": {
        "colab": {
          "base_uri": "https://localhost:8080/",
          "height": 419
        },
        "id": "Ej-OEYkkDzMm",
        "outputId": "417d0f02-7d84-4a6b-faf4-dc16af6df257"
      },
      "source": [
        "food"
      ],
      "execution_count": null,
      "outputs": [
        {
          "output_type": "execute_result",
          "data": {
            "text/html": [
              "<div>\n",
              "<style scoped>\n",
              "    .dataframe tbody tr th:only-of-type {\n",
              "        vertical-align: middle;\n",
              "    }\n",
              "\n",
              "    .dataframe tbody tr th {\n",
              "        vertical-align: top;\n",
              "    }\n",
              "\n",
              "    .dataframe thead th {\n",
              "        text-align: right;\n",
              "    }\n",
              "</style>\n",
              "<table border=\"1\" class=\"dataframe\">\n",
              "  <thead>\n",
              "    <tr style=\"text-align: right;\">\n",
              "      <th></th>\n",
              "      <th>wine_id</th>\n",
              "      <th>food</th>\n",
              "    </tr>\n",
              "  </thead>\n",
              "  <tbody>\n",
              "    <tr>\n",
              "      <th>0</th>\n",
              "      <td>1938520</td>\n",
              "      <td>[Beef, Lamb, Game (deer, venison), Mature and ...</td>\n",
              "    </tr>\n",
              "    <tr>\n",
              "      <th>1</th>\n",
              "      <td>14604</td>\n",
              "      <td>[Beef, Lamb, Game (deer, venison), Poultry]</td>\n",
              "    </tr>\n",
              "    <tr>\n",
              "      <th>2</th>\n",
              "      <td>1930757</td>\n",
              "      <td>[Beef, Lamb, Veal, Poultry]</td>\n",
              "    </tr>\n",
              "    <tr>\n",
              "      <th>3</th>\n",
              "      <td>1564280</td>\n",
              "      <td>[Beef, Lamb, Veal]</td>\n",
              "    </tr>\n",
              "    <tr>\n",
              "      <th>4</th>\n",
              "      <td>2576427</td>\n",
              "      <td>[Beef, Lamb, Game (deer, venison), Mature and ...</td>\n",
              "    </tr>\n",
              "    <tr>\n",
              "      <th>...</th>\n",
              "      <td>...</td>\n",
              "      <td>...</td>\n",
              "    </tr>\n",
              "    <tr>\n",
              "      <th>50855</th>\n",
              "      <td>1669561</td>\n",
              "      <td>[Pasta, Shellfish, Mature and hard cheese, Lea...</td>\n",
              "    </tr>\n",
              "    <tr>\n",
              "      <th>50856</th>\n",
              "      <td>1861275</td>\n",
              "      <td>[Pasta, Shellfish, Mature and hard cheese, Lea...</td>\n",
              "    </tr>\n",
              "    <tr>\n",
              "      <th>50857</th>\n",
              "      <td>2201892</td>\n",
              "      <td>[Shellfish, Vegetarian, Appetizers and snacks,...</td>\n",
              "    </tr>\n",
              "    <tr>\n",
              "      <th>50858</th>\n",
              "      <td>2396179</td>\n",
              "      <td>[Pork, Shellfish, Spicy food, Vegetarian, Goat...</td>\n",
              "    </tr>\n",
              "    <tr>\n",
              "      <th>50859</th>\n",
              "      <td>7715684</td>\n",
              "      <td>[Beef, Pasta, Lamb, Game (deer, venison)]</td>\n",
              "    </tr>\n",
              "  </tbody>\n",
              "</table>\n",
              "<p>50860 rows × 2 columns</p>\n",
              "</div>"
            ],
            "text/plain": [
              "       wine_id                                               food\n",
              "0      1938520  [Beef, Lamb, Game (deer, venison), Mature and ...\n",
              "1        14604        [Beef, Lamb, Game (deer, venison), Poultry]\n",
              "2      1930757                        [Beef, Lamb, Veal, Poultry]\n",
              "3      1564280                                 [Beef, Lamb, Veal]\n",
              "4      2576427  [Beef, Lamb, Game (deer, venison), Mature and ...\n",
              "...        ...                                                ...\n",
              "50855  1669561  [Pasta, Shellfish, Mature and hard cheese, Lea...\n",
              "50856  1861275  [Pasta, Shellfish, Mature and hard cheese, Lea...\n",
              "50857  2201892  [Shellfish, Vegetarian, Appetizers and snacks,...\n",
              "50858  2396179  [Pork, Shellfish, Spicy food, Vegetarian, Goat...\n",
              "50859  7715684          [Beef, Pasta, Lamb, Game (deer, venison)]\n",
              "\n",
              "[50860 rows x 2 columns]"
            ]
          },
          "metadata": {
            "tags": []
          },
          "execution_count": 20
        }
      ]
    },
    {
      "cell_type": "code",
      "metadata": {
        "id": "eiBBco__CqYN",
        "colab": {
          "base_uri": "https://localhost:8080/"
        },
        "outputId": "45591a17-5002-41db-974d-01e8eb0bea0a"
      },
      "source": [
        "# 특수문자 제거\n",
        "food['food']=food['food'].map(lambda x: str(x).lstrip('[').rstrip(']'))\n",
        "food['food'].replace(r'\\([^)]*\\)', '', regex=True, inplace=True)\n",
        "food['food'].replace(r',', '|', regex=True, inplace=True)"
      ],
      "execution_count": null,
      "outputs": [
        {
          "output_type": "stream",
          "text": [
            "/usr/local/lib/python3.6/dist-packages/ipykernel_launcher.py:2: SettingWithCopyWarning: \n",
            "A value is trying to be set on a copy of a slice from a DataFrame.\n",
            "Try using .loc[row_indexer,col_indexer] = value instead\n",
            "\n",
            "See the caveats in the documentation: https://pandas.pydata.org/pandas-docs/stable/user_guide/indexing.html#returning-a-view-versus-a-copy\n",
            "  \n",
            "/usr/local/lib/python3.6/dist-packages/pandas/core/series.py:4582: SettingWithCopyWarning: \n",
            "A value is trying to be set on a copy of a slice from a DataFrame\n",
            "\n",
            "See the caveats in the documentation: https://pandas.pydata.org/pandas-docs/stable/user_guide/indexing.html#returning-a-view-versus-a-copy\n",
            "  method=method,\n"
          ],
          "name": "stderr"
        }
      ]
    },
    {
      "cell_type": "code",
      "metadata": {
        "id": "tpVk7xRUI5qZ"
      },
      "source": [
        "# 원핫 인코딩\n",
        "one_hot=pd.Series(food['food']).str.get_dummies()"
      ],
      "execution_count": null,
      "outputs": []
    },
    {
      "cell_type": "code",
      "metadata": {
        "colab": {
          "base_uri": "https://localhost:8080/"
        },
        "id": "29uII-oeG_Ln",
        "outputId": "5366d691-79c7-4c16-dbf4-0a95d00707d6"
      },
      "source": [
        "food['food']=food['food'].map(lambda x: str(x).lstrip('[').rstrip(']'))"
      ],
      "execution_count": null,
      "outputs": [
        {
          "output_type": "stream",
          "text": [
            "/usr/local/lib/python3.6/dist-packages/ipykernel_launcher.py:1: SettingWithCopyWarning: \n",
            "A value is trying to be set on a copy of a slice from a DataFrame.\n",
            "Try using .loc[row_indexer,col_indexer] = value instead\n",
            "\n",
            "See the caveats in the documentation: https://pandas.pydata.org/pandas-docs/stable/user_guide/indexing.html#returning-a-view-versus-a-copy\n",
            "  \"\"\"Entry point for launching an IPython kernel.\n"
          ],
          "name": "stderr"
        }
      ]
    },
    {
      "cell_type": "code",
      "metadata": {
        "id": "xMRgGt7XJYli"
      },
      "source": [
        "food_one_hot=pd.merge(food, one_hot, left_index=True, right_index=True, how='left')"
      ],
      "execution_count": null,
      "outputs": []
    },
    {
      "cell_type": "code",
      "metadata": {
        "id": "ZbqJFV4SKeii"
      },
      "source": [
        "import re\n",
        "document = re.sub(r'[^ ㄱ-ㅣ가-힣A-Za-z]', '', str(list(food_one_hot.columns))) #특수기호 제거, 정규 표현식"
      ],
      "execution_count": null,
      "outputs": []
    },
    {
      "cell_type": "code",
      "metadata": {
        "id": "zjZRJ9OoMClF"
      },
      "source": [
        "col_list=[]\n",
        "for i in food_one_hot.columns:\n",
        "    col_list.append(i.lstrip().rstrip().strip(\"'\"))"
      ],
      "execution_count": null,
      "outputs": []
    },
    {
      "cell_type": "code",
      "metadata": {
        "id": "SfOomAOIMPDo"
      },
      "source": [
        "food_one_hot.columns=col_list"
      ],
      "execution_count": null,
      "outputs": []
    },
    {
      "cell_type": "code",
      "metadata": {
        "id": "QID4CLCYM0wk"
      },
      "source": [
        "food_one_hot=food_one_hot.sort_values('wine_id')"
      ],
      "execution_count": null,
      "outputs": []
    },
    {
      "cell_type": "code",
      "metadata": {
        "id": "ZPV8zrG8NqSz"
      },
      "source": [
        "food_one_hot.reset_index(drop=True, inplace=True)"
      ],
      "execution_count": null,
      "outputs": []
    },
    {
      "cell_type": "code",
      "metadata": {
        "colab": {
          "base_uri": "https://localhost:8080/",
          "height": 513
        },
        "id": "3Zv8XRn8PRAn",
        "outputId": "e1e10eb6-0b4d-4e6d-8220-e21609f117aa"
      },
      "source": [
        "food_one_hot.head()"
      ],
      "execution_count": null,
      "outputs": [
        {
          "output_type": "execute_result",
          "data": {
            "text/html": [
              "<div>\n",
              "<style scoped>\n",
              "    .dataframe tbody tr th:only-of-type {\n",
              "        vertical-align: middle;\n",
              "    }\n",
              "\n",
              "    .dataframe tbody tr th {\n",
              "        vertical-align: top;\n",
              "    }\n",
              "\n",
              "    .dataframe thead th {\n",
              "        text-align: right;\n",
              "    }\n",
              "</style>\n",
              "<table border=\"1\" class=\"dataframe\">\n",
              "  <thead>\n",
              "    <tr style=\"text-align: right;\">\n",
              "      <th></th>\n",
              "      <th>wine_id</th>\n",
              "      <th>food</th>\n",
              "      <th>Aperitif</th>\n",
              "      <th>Appetizers and snacks</th>\n",
              "      <th>Blue cheese</th>\n",
              "      <th>Cured Meat</th>\n",
              "      <th>Fruity desserts</th>\n",
              "      <th>Game</th>\n",
              "      <th>Goat cheese</th>\n",
              "      <th>Lamb</th>\n",
              "      <th>Lean fish</th>\n",
              "      <th>Mature and hard cheese</th>\n",
              "      <th>Mild and soft cheese</th>\n",
              "      <th>Mushrooms</th>\n",
              "      <th>Pasta</th>\n",
              "      <th>Pork</th>\n",
              "      <th>Poultry</th>\n",
              "      <th>Rich fish</th>\n",
              "      <th>Shellfish</th>\n",
              "      <th>Spicy food</th>\n",
              "      <th>Sweet desserts</th>\n",
              "      <th>Veal</th>\n",
              "      <th>Vegetarian</th>\n",
              "      <th>Beef</th>\n",
              "      <th>Blue cheese</th>\n",
              "      <th>Fruity desserts</th>\n",
              "      <th>Game</th>\n",
              "      <th>Lamb</th>\n",
              "      <th>Mature and hard cheese</th>\n",
              "      <th>Pasta</th>\n",
              "      <th>Pork</th>\n",
              "      <th>Poultry</th>\n",
              "      <th>Rich fish</th>\n",
              "      <th>Shellfish</th>\n",
              "      <th>Spicy food</th>\n",
              "      <th>Sweet desserts</th>\n",
              "      <th>Veal</th>\n",
              "      <th>Vegetarian</th>\n",
              "      <th>None</th>\n",
              "    </tr>\n",
              "  </thead>\n",
              "  <tbody>\n",
              "    <tr>\n",
              "      <th>0</th>\n",
              "      <td>10</td>\n",
              "      <td>None</td>\n",
              "      <td>0</td>\n",
              "      <td>0</td>\n",
              "      <td>0</td>\n",
              "      <td>0</td>\n",
              "      <td>0</td>\n",
              "      <td>0</td>\n",
              "      <td>0</td>\n",
              "      <td>0</td>\n",
              "      <td>0</td>\n",
              "      <td>0</td>\n",
              "      <td>0</td>\n",
              "      <td>0</td>\n",
              "      <td>0</td>\n",
              "      <td>0</td>\n",
              "      <td>0</td>\n",
              "      <td>0</td>\n",
              "      <td>0</td>\n",
              "      <td>0</td>\n",
              "      <td>0</td>\n",
              "      <td>0</td>\n",
              "      <td>0</td>\n",
              "      <td>0</td>\n",
              "      <td>0</td>\n",
              "      <td>0</td>\n",
              "      <td>0</td>\n",
              "      <td>0</td>\n",
              "      <td>0</td>\n",
              "      <td>0</td>\n",
              "      <td>0</td>\n",
              "      <td>0</td>\n",
              "      <td>0</td>\n",
              "      <td>0</td>\n",
              "      <td>0</td>\n",
              "      <td>0</td>\n",
              "      <td>0</td>\n",
              "      <td>0</td>\n",
              "      <td>1</td>\n",
              "    </tr>\n",
              "    <tr>\n",
              "      <th>1</th>\n",
              "      <td>19</td>\n",
              "      <td>'Beef'| 'Pasta'| 'Lamb'| 'Game '</td>\n",
              "      <td>0</td>\n",
              "      <td>0</td>\n",
              "      <td>0</td>\n",
              "      <td>0</td>\n",
              "      <td>0</td>\n",
              "      <td>1</td>\n",
              "      <td>0</td>\n",
              "      <td>1</td>\n",
              "      <td>0</td>\n",
              "      <td>0</td>\n",
              "      <td>0</td>\n",
              "      <td>0</td>\n",
              "      <td>1</td>\n",
              "      <td>0</td>\n",
              "      <td>0</td>\n",
              "      <td>0</td>\n",
              "      <td>0</td>\n",
              "      <td>0</td>\n",
              "      <td>0</td>\n",
              "      <td>0</td>\n",
              "      <td>0</td>\n",
              "      <td>1</td>\n",
              "      <td>0</td>\n",
              "      <td>0</td>\n",
              "      <td>0</td>\n",
              "      <td>0</td>\n",
              "      <td>0</td>\n",
              "      <td>0</td>\n",
              "      <td>0</td>\n",
              "      <td>0</td>\n",
              "      <td>0</td>\n",
              "      <td>0</td>\n",
              "      <td>0</td>\n",
              "      <td>0</td>\n",
              "      <td>0</td>\n",
              "      <td>0</td>\n",
              "      <td>0</td>\n",
              "    </tr>\n",
              "    <tr>\n",
              "      <th>2</th>\n",
              "      <td>20</td>\n",
              "      <td>'Beef'| 'Lamb'| 'Game '| 'Poultry'</td>\n",
              "      <td>0</td>\n",
              "      <td>0</td>\n",
              "      <td>0</td>\n",
              "      <td>0</td>\n",
              "      <td>0</td>\n",
              "      <td>1</td>\n",
              "      <td>0</td>\n",
              "      <td>1</td>\n",
              "      <td>0</td>\n",
              "      <td>0</td>\n",
              "      <td>0</td>\n",
              "      <td>0</td>\n",
              "      <td>0</td>\n",
              "      <td>0</td>\n",
              "      <td>1</td>\n",
              "      <td>0</td>\n",
              "      <td>0</td>\n",
              "      <td>0</td>\n",
              "      <td>0</td>\n",
              "      <td>0</td>\n",
              "      <td>0</td>\n",
              "      <td>1</td>\n",
              "      <td>0</td>\n",
              "      <td>0</td>\n",
              "      <td>0</td>\n",
              "      <td>0</td>\n",
              "      <td>0</td>\n",
              "      <td>0</td>\n",
              "      <td>0</td>\n",
              "      <td>0</td>\n",
              "      <td>0</td>\n",
              "      <td>0</td>\n",
              "      <td>0</td>\n",
              "      <td>0</td>\n",
              "      <td>0</td>\n",
              "      <td>0</td>\n",
              "      <td>0</td>\n",
              "    </tr>\n",
              "    <tr>\n",
              "      <th>3</th>\n",
              "      <td>41</td>\n",
              "      <td>'Rich fish '| 'Spicy food'| 'Sweet desserts'| ...</td>\n",
              "      <td>0</td>\n",
              "      <td>0</td>\n",
              "      <td>0</td>\n",
              "      <td>0</td>\n",
              "      <td>0</td>\n",
              "      <td>0</td>\n",
              "      <td>0</td>\n",
              "      <td>0</td>\n",
              "      <td>0</td>\n",
              "      <td>0</td>\n",
              "      <td>1</td>\n",
              "      <td>0</td>\n",
              "      <td>0</td>\n",
              "      <td>0</td>\n",
              "      <td>1</td>\n",
              "      <td>0</td>\n",
              "      <td>0</td>\n",
              "      <td>1</td>\n",
              "      <td>1</td>\n",
              "      <td>0</td>\n",
              "      <td>0</td>\n",
              "      <td>0</td>\n",
              "      <td>0</td>\n",
              "      <td>0</td>\n",
              "      <td>0</td>\n",
              "      <td>0</td>\n",
              "      <td>0</td>\n",
              "      <td>0</td>\n",
              "      <td>0</td>\n",
              "      <td>0</td>\n",
              "      <td>1</td>\n",
              "      <td>0</td>\n",
              "      <td>0</td>\n",
              "      <td>0</td>\n",
              "      <td>0</td>\n",
              "      <td>0</td>\n",
              "      <td>0</td>\n",
              "    </tr>\n",
              "    <tr>\n",
              "      <th>4</th>\n",
              "      <td>46</td>\n",
              "      <td>'Beef'| 'Veal'| 'Game '| 'Poultry'</td>\n",
              "      <td>0</td>\n",
              "      <td>0</td>\n",
              "      <td>0</td>\n",
              "      <td>0</td>\n",
              "      <td>0</td>\n",
              "      <td>1</td>\n",
              "      <td>0</td>\n",
              "      <td>0</td>\n",
              "      <td>0</td>\n",
              "      <td>0</td>\n",
              "      <td>0</td>\n",
              "      <td>0</td>\n",
              "      <td>0</td>\n",
              "      <td>0</td>\n",
              "      <td>1</td>\n",
              "      <td>0</td>\n",
              "      <td>0</td>\n",
              "      <td>0</td>\n",
              "      <td>0</td>\n",
              "      <td>1</td>\n",
              "      <td>0</td>\n",
              "      <td>1</td>\n",
              "      <td>0</td>\n",
              "      <td>0</td>\n",
              "      <td>0</td>\n",
              "      <td>0</td>\n",
              "      <td>0</td>\n",
              "      <td>0</td>\n",
              "      <td>0</td>\n",
              "      <td>0</td>\n",
              "      <td>0</td>\n",
              "      <td>0</td>\n",
              "      <td>0</td>\n",
              "      <td>0</td>\n",
              "      <td>0</td>\n",
              "      <td>0</td>\n",
              "      <td>0</td>\n",
              "    </tr>\n",
              "  </tbody>\n",
              "</table>\n",
              "</div>"
            ],
            "text/plain": [
              "   wine_id                                               food  ...  Vegetarian  None\n",
              "0       10                                               None  ...           0     1\n",
              "1       19                   'Beef'| 'Pasta'| 'Lamb'| 'Game '  ...           0     0\n",
              "2       20                 'Beef'| 'Lamb'| 'Game '| 'Poultry'  ...           0     0\n",
              "3       41  'Rich fish '| 'Spicy food'| 'Sweet desserts'| ...  ...           0     0\n",
              "4       46                 'Beef'| 'Veal'| 'Game '| 'Poultry'  ...           0     0\n",
              "\n",
              "[5 rows x 39 columns]"
            ]
          },
          "metadata": {
            "tags": []
          },
          "execution_count": 47
        }
      ]
    },
    {
      "cell_type": "code",
      "metadata": {
        "id": "got-XofUKIMk"
      },
      "source": [
        "food_one_hot.to_csv('food_token_one_hot.csv')\r\n",
        "files.download('food_token_one_hot.csv')"
      ],
      "execution_count": null,
      "outputs": []
    },
    {
      "cell_type": "code",
      "metadata": {
        "id": "MxNq8dVra8vQ"
      },
      "source": [
        "food_token_one_hot = '/content/drive/MyDrive/tobigs14_conference/data/v_2/food_token_one_hot.csv'\n",
        "food_token_one_hot_wine = pd.read_csv(food_token_one_hot)"
      ],
      "execution_count": null,
      "outputs": []
    }
  ]
}